{
 "cells": [
  {
   "cell_type": "code",
   "execution_count": 29,
   "metadata": {},
   "outputs": [],
   "source": [
    "import numpy as np\n",
    "import os\n",
    "import torch\n",
    "import torch.nn as nn\n",
    "import torch.nn.functional as F\n",
    "import torch.utils.data.dataloader as dataloader\n",
    "from torch.utils.data import Dataset, DataLoader\n",
    "import torch.optim as optim\n",
    "\n",
    "from torch.utils.data import TensorDataset\n",
    "from torchvision import transforms\n",
    "from torchvision.datasets import ImageFolder\n",
    "\n",
    "import matplotlib.pyplot as plt\n",
    "import time\n",
    "\n",
    "import pandas as pd"
   ]
  },
  {
   "cell_type": "code",
   "execution_count": 30,
   "metadata": {},
   "outputs": [],
   "source": [
    "path = \"/home/borowis/s3\"\n",
    "bs = 512"
   ]
  },
  {
   "cell_type": "code",
   "execution_count": 31,
   "metadata": {},
   "outputs": [],
   "source": [
    "trans = transforms.Compose([\n",
    "    transforms.RandomAffine(10, shear=5),\n",
    "    transforms.ToTensor(), \n",
    "    transforms.Normalize((0.5, 0.5, 0.5), (0.5, 0.5, 0.5))\n",
    "])\n",
    "\n",
    "train_data = ImageFolder(path + \"/train_data/medium\", trans)\n",
    "train_loader = DataLoader(train_data, bs, shuffle=True, num_workers=8)"
   ]
  },
  {
   "cell_type": "code",
   "execution_count": 32,
   "metadata": {},
   "outputs": [],
   "source": [
    "val_data = ImageFolder(path + \"/validation_classification/medium\", trans)\n",
    "val_loader = DataLoader(val_data, bs, shuffle=True, num_workers=8)"
   ]
  },
  {
   "cell_type": "code",
   "execution_count": 33,
   "metadata": {},
   "outputs": [],
   "source": [
    "class SimpleNet(nn.Module):\n",
    "        \n",
    "    def __init__(self):\n",
    "        super(SimpleNet, self).__init__()\n",
    "        \n",
    "        self.layer1 = nn.Sequential(\n",
    "            nn.Conv2d(3, 64, kernel_size=3, stride=1, padding=1),\n",
    "            nn.BatchNorm2d(64),\n",
    "            nn.ReLU())\n",
    "        \n",
    "        self.layer2 = nn.Sequential(\n",
    "            nn.Conv2d(64, 128, kernel_size=3, stride=1, padding=1),\n",
    "            nn.BatchNorm2d(128),\n",
    "            nn.ReLU(),\n",
    "            nn.MaxPool2d(kernel_size=2, stride=2))\n",
    "        \n",
    "        self.layer3 = nn.Sequential(\n",
    "            nn.Conv2d(128, 128, kernel_size=3, stride=1, padding=1),\n",
    "            nn.BatchNorm2d(128),\n",
    "            nn.ReLU(),\n",
    "            nn.Dropout2d(p=0.05))\n",
    "\n",
    "        self.layer4 = nn.Sequential(\n",
    "            nn.Conv2d(128, 128, kernel_size=3, stride=1, padding=1),\n",
    "            nn.BatchNorm2d(128),\n",
    "            nn.ReLU(),\n",
    "            nn.MaxPool2d(kernel_size=2, stride=2))\n",
    "\n",
    "        self.layer5 = nn.Sequential(\n",
    "            nn.Conv2d(128, 128, kernel_size=3, stride=1, padding=1),\n",
    "            nn.BatchNorm2d(128),\n",
    "            nn.ReLU(),\n",
    "            nn.MaxPool2d(kernel_size=2, stride=2))\n",
    "        \n",
    "        self.layer6 = nn.Sequential(\n",
    "            nn.Conv2d(128, 128, kernel_size=3, stride=1, padding=1),\n",
    "            nn.BatchNorm2d(128),\n",
    "            nn.ReLU())\n",
    "\n",
    "        self.drop_out1 = nn.Dropout(p=0.3)\n",
    "        \n",
    "        self.fc1 = nn.Linear(4 * 4 * 128, 4096)\n",
    "        self.bc1 = nn.BatchNorm1d(4096)\n",
    "        self.ac1 = nn.ReLU()\n",
    "        \n",
    "        self.drop_out2 = nn.Dropout()\n",
    "        self.fc2 = nn.Linear(4096, 2300)\n",
    "        \n",
    "    def forward(self, x):\n",
    "        \n",
    "        x = self.layer1(x) #32\n",
    "        x = self.layer2(x) #16\n",
    "        x = self.layer3(x) #16\n",
    "        x = self.layer4(x) #8\n",
    "        x = self.layer5(x) #4\n",
    "        x = self.layer6(x) #4\n",
    "\n",
    "        #Reshape data to input to the input layer of the neural net\n",
    "        #Size changes from (128, 4, 4) to (1, 2048)\n",
    "        x = x.view(-1, 128 * 4 * 4)\n",
    "        x = self.drop_out1(x)\n",
    "        \n",
    "        #Computes the activation of the first fully connected layer\n",
    "        #Size changes from (1, 2048) to (1, 2300)\n",
    "        x = self.fc1(x)\n",
    "        x = self.bc1(x)\n",
    "        x = self.ac1(x)\n",
    "        \n",
    "        x = self.drop_out2(x)\n",
    "        x = self.fc2(x)\n",
    "        \n",
    "        return F.log_softmax(x)"
   ]
  },
  {
   "cell_type": "code",
   "execution_count": 34,
   "metadata": {},
   "outputs": [
    {
     "name": "stdout",
     "output_type": "stream",
     "text": [
      "SimpleNet(\n",
      "  (layer1): Sequential(\n",
      "    (0): Conv2d(3, 64, kernel_size=(3, 3), stride=(1, 1), padding=(1, 1))\n",
      "    (1): BatchNorm2d(64, eps=1e-05, momentum=0.1, affine=True, track_running_stats=True)\n",
      "    (2): ReLU()\n",
      "  )\n",
      "  (layer2): Sequential(\n",
      "    (0): Conv2d(64, 128, kernel_size=(3, 3), stride=(1, 1), padding=(1, 1))\n",
      "    (1): BatchNorm2d(128, eps=1e-05, momentum=0.1, affine=True, track_running_stats=True)\n",
      "    (2): ReLU()\n",
      "    (3): MaxPool2d(kernel_size=2, stride=2, padding=0, dilation=1, ceil_mode=False)\n",
      "  )\n",
      "  (layer3): Sequential(\n",
      "    (0): Conv2d(128, 128, kernel_size=(3, 3), stride=(1, 1), padding=(1, 1))\n",
      "    (1): BatchNorm2d(128, eps=1e-05, momentum=0.1, affine=True, track_running_stats=True)\n",
      "    (2): ReLU()\n",
      "    (3): Dropout2d(p=0.05)\n",
      "  )\n",
      "  (layer4): Sequential(\n",
      "    (0): Conv2d(128, 128, kernel_size=(3, 3), stride=(1, 1), padding=(1, 1))\n",
      "    (1): BatchNorm2d(128, eps=1e-05, momentum=0.1, affine=True, track_running_stats=True)\n",
      "    (2): ReLU()\n",
      "    (3): MaxPool2d(kernel_size=2, stride=2, padding=0, dilation=1, ceil_mode=False)\n",
      "  )\n",
      "  (layer5): Sequential(\n",
      "    (0): Conv2d(128, 128, kernel_size=(3, 3), stride=(1, 1), padding=(1, 1))\n",
      "    (1): BatchNorm2d(128, eps=1e-05, momentum=0.1, affine=True, track_running_stats=True)\n",
      "    (2): ReLU()\n",
      "    (3): MaxPool2d(kernel_size=2, stride=2, padding=0, dilation=1, ceil_mode=False)\n",
      "  )\n",
      "  (layer6): Sequential(\n",
      "    (0): Conv2d(128, 128, kernel_size=(3, 3), stride=(1, 1), padding=(1, 1))\n",
      "    (1): BatchNorm2d(128, eps=1e-05, momentum=0.1, affine=True, track_running_stats=True)\n",
      "    (2): ReLU()\n",
      "  )\n",
      "  (drop_out1): Dropout(p=0.3)\n",
      "  (fc1): Linear(in_features=2048, out_features=4096, bias=True)\n",
      "  (bc1): BatchNorm1d(4096, eps=1e-05, momentum=0.1, affine=True, track_running_stats=True)\n",
      "  (ac1): ReLU()\n",
      "  (drop_out2): Dropout(p=0.5)\n",
      "  (fc2): Linear(in_features=4096, out_features=2300, bias=True)\n",
      ")\n"
     ]
    }
   ],
   "source": [
    "model = SimpleNet()\n",
    "\n",
    "criterion = nn.CrossEntropyLoss()\n",
    "print(model)\n",
    "\n",
    "optimizer = optim.Adam(model.parameters())"
   ]
  },
  {
   "cell_type": "code",
   "execution_count": 35,
   "metadata": {},
   "outputs": [],
   "source": [
    "def train_epoch(model, train_loader, criterion, optimizer):\n",
    "    model.train()\n",
    "    model.cuda()\n",
    "\n",
    "    running_loss = 0.0\n",
    "    \n",
    "    start_time = time.time()\n",
    "    for batch_idx, (data, target) in enumerate(train_loader):   \n",
    "        optimizer.zero_grad()   \n",
    "        data = data.cuda()\n",
    "        target = target.long().cuda()\n",
    "\n",
    "        outputs = model(data)\n",
    "        loss = criterion(outputs, target)\n",
    "        running_loss += loss.item()\n",
    "\n",
    "        loss.backward()\n",
    "        optimizer.step()\n",
    "    \n",
    "    end_time = time.time()\n",
    "    \n",
    "    running_loss /= len(train_loader)\n",
    "    print('Training Loss: ', running_loss, 'Time: ',end_time - start_time, 's')\n",
    "    return running_loss"
   ]
  },
  {
   "cell_type": "code",
   "execution_count": 36,
   "metadata": {},
   "outputs": [],
   "source": [
    "def test_model(model, val_loader, criterion):\n",
    "    with torch.no_grad():\n",
    "        model.eval()\n",
    "        model.cuda()\n",
    "\n",
    "        running_loss = 0.0\n",
    "        total_predictions = 0.0\n",
    "        correct_predictions = 0.0\n",
    "\n",
    "        for batch_idx, (data, target) in enumerate(val_loader):   \n",
    "            data = data.cuda()\n",
    "            target = target.long().cuda()\n",
    "\n",
    "            outputs = model(data)\n",
    "\n",
    "            _, predicted = torch.max(outputs.data, 1)\n",
    "            total_predictions += target.size(0)\n",
    "            correct_predictions += (predicted == target).sum().item()\n",
    "\n",
    "            loss = criterion(outputs, target)\n",
    "            running_loss += loss.item()\n",
    "\n",
    "        running_loss /= len(val_loader)\n",
    "        acc = (correct_predictions/total_predictions)*100.0\n",
    "        print('Validation Loss: ', running_loss)\n",
    "        print('Validation Accuracy: ', acc, '%')\n",
    "        return running_loss, acc"
   ]
  },
  {
   "cell_type": "code",
   "execution_count": 37,
   "metadata": {},
   "outputs": [],
   "source": [
    "n_epochs = 12\n",
    "train_loss = []\n",
    "val_loss = []\n",
    "val_acc = []"
   ]
  },
  {
   "cell_type": "code",
   "execution_count": 38,
   "metadata": {},
   "outputs": [
    {
     "name": "stderr",
     "output_type": "stream",
     "text": [
      "/home/borowis/.pyenv/versions/3.6.6/lib/python3.6/site-packages/ipykernel_launcher.py:72: UserWarning: Implicit dimension choice for log_softmax has been deprecated. Change the call to include dim=X as an argument.\n"
     ]
    },
    {
     "name": "stdout",
     "output_type": "stream",
     "text": [
      "Training Loss:  4.9392664794755605 Time:  183.20704770088196 s\n",
      "Validation Loss:  3.316765069961548\n",
      "Validation Accuracy:  35.122799391436644 %\n",
      "====================\n",
      "Training Loss:  3.2028089858229696 Time:  183.25606298446655 s\n",
      "Validation Loss:  2.576634857389662\n",
      "Validation Accuracy:  47.88089545750924 %\n",
      "====================\n",
      "Training Loss:  2.650769949998535 Time:  183.1950125694275 s\n",
      "Validation Loss:  2.2607841226789684\n",
      "Validation Accuracy:  53.98826342099543 %\n",
      "====================\n",
      "Training Loss:  2.3407501506330366 Time:  183.09739685058594 s\n",
      "Validation Loss:  2.048248357243008\n",
      "Validation Accuracy:  57.965659639208866 %\n",
      "====================\n",
      "Training Loss:  2.120661928377591 Time:  183.13306951522827 s\n",
      "Validation Loss:  1.906329247686598\n",
      "Validation Accuracy:  60.39991306237774 %\n",
      "====================\n",
      "Training Loss:  1.961753857685056 Time:  183.23572850227356 s\n",
      "Validation Loss:  1.7865956756803725\n",
      "Validation Accuracy:  62.72549445772658 %\n",
      "====================\n",
      "Training Loss:  1.8330877749144956 Time:  183.180278301239 s\n",
      "Validation Loss:  1.7458883788850572\n",
      "Validation Accuracy:  63.70354270810693 %\n",
      "====================\n",
      "Training Loss:  1.7282576211362817 Time:  183.14996910095215 s\n",
      "Validation Loss:  1.6750828557544284\n",
      "Validation Accuracy:  64.79026298630733 %\n",
      "====================\n",
      "Training Loss:  1.6375948927767696 Time:  183.1835811138153 s\n",
      "Validation Loss:  1.6328312555948894\n",
      "Validation Accuracy:  65.8335144533797 %\n",
      "====================\n",
      "Training Loss:  1.5608120035857964 Time:  183.28756761550903 s\n",
      "Validation Loss:  1.591020941734314\n",
      "Validation Accuracy:  66.48554662029994 %\n",
      "====================\n",
      "Training Loss:  1.4928293548069738 Time:  183.30884170532227 s\n",
      "Validation Loss:  1.5447651942571003\n",
      "Validation Accuracy:  67.42012605955227 %\n",
      "====================\n",
      "Training Loss:  1.4356198339800756 Time:  183.37228751182556 s\n",
      "Validation Loss:  1.5100575420591567\n",
      "Validation Accuracy:  68.76765920452075 %\n",
      "====================\n"
     ]
    }
   ],
   "source": [
    "for i in range(n_epochs):\n",
    "    tl = train_epoch(model, train_loader, criterion, optimizer)\n",
    "    vl, va = test_model(model, val_loader, criterion)\n",
    "    \n",
    "    train_loss.append(tl)\n",
    "    val_loss.append(vl)\n",
    "    val_acc.append(va)\n",
    "    print('='*20)\n",
    "    \n",
    "    # https://discuss.pytorch.org/t/saving-and-loading-a-model-in-pytorch/2610/16\n",
    "    torch.save({\n",
    "        'epoch': i + 1,\n",
    "        'state_dict': model.state_dict(),\n",
    "        'best_acc': val_acc,\n",
    "        'optimizer' : optimizer.state_dict(),\n",
    "    }, path + \"/models/\" + str(i) + \".pth\")"
   ]
  },
  {
   "cell_type": "code",
   "execution_count": 39,
   "metadata": {},
   "outputs": [
    {
     "data": {
      "text/plain": [
       "[<matplotlib.lines.Line2D at 0x7f4f8d5b6cf8>]"
      ]
     },
     "execution_count": 39,
     "metadata": {},
     "output_type": "execute_result"
    },
    {
     "data": {
      "image/png": "[encoded data removed]",
      "text/plain": [
       "<matplotlib.figure.Figure at 0x7f4f8530b6d8>"
      ]
     },
     "metadata": {},
     "output_type": "display_data"
    }
   ],
   "source": [
    "plt.title('Training Loss')\n",
    "plt.xlabel('Epoch Number')\n",
    "plt.ylabel('Loss')\n",
    "plt.plot(train_loss)\n",
    "plt.plot(val_loss)"
   ]
  },
  {
   "cell_type": "code",
   "execution_count": 40,
   "metadata": {},
   "outputs": [
    {
     "data": {
      "text/plain": [
       "[<matplotlib.lines.Line2D at 0x7f4f87467ba8>]"
      ]
     },
     "execution_count": 40,
     "metadata": {},
     "output_type": "execute_result"
    },
    {
     "data": {
      "image/png": "[encoded data removed]",
      "text/plain": [
       "<matplotlib.figure.Figure at 0x7f4f8a940240>"
      ]
     },
     "metadata": {},
     "output_type": "display_data"
    }
   ],
   "source": [
    "plt.title('Validation Accuracy')\n",
    "plt.xlabel('Epoch Number')\n",
    "plt.ylabel('Accuracy (%)')\n",
    "plt.plot(val_acc)"
   ]
  },
  {
   "cell_type": "code",
   "execution_count": 49,
   "metadata": {},
   "outputs": [],
   "source": [
    "checkpoint = torch.load(path + \"/models/8.pth\")\n",
    "model.load_state_dict(checkpoint[\"state_dict\"])"
   ]
  },
  {
   "cell_type": "code",
   "execution_count": 50,
   "metadata": {},
   "outputs": [],
   "source": [
    "test_trans = transforms.Compose([\n",
    "    transforms.ToTensor(), \n",
    "    transforms.Normalize((0.5, 0.5, 0.5), (0.5, 0.5, 0.5))\n",
    "])\n",
    "\n",
    "test_data = ImageFolder(path + \"/test_classification\", test_trans)\n",
    "test_loader = DataLoader(test_data, shuffle = False, batch_size = bs, num_workers = 8)"
   ]
  },
  {
   "cell_type": "code",
   "execution_count": 57,
   "metadata": {},
   "outputs": [],
   "source": [
    "def inference(model, test_loader):\n",
    "    with torch.no_grad():\n",
    "        model.eval()\n",
    "        model.cuda()\n",
    "\n",
    "        preds = []\n",
    "        for batch_idx, data in enumerate(test_loader):   \n",
    "            data = data[0].cuda()\n",
    "            outputs = model(data)\n",
    "\n",
    "            _, predicted = torch.max(outputs, 1)\n",
    "            preds.append(predicted.cpu().numpy())\n",
    "\n",
    "        return np.concatenate(preds)"
   ]
  },
  {
   "cell_type": "code",
   "execution_count": 58,
   "metadata": {},
   "outputs": [
    {
     "name": "stderr",
     "output_type": "stream",
     "text": [
      "/home/borowis/.pyenv/versions/3.6.6/lib/python3.6/site-packages/ipykernel_launcher.py:72: UserWarning: Implicit dimension choice for log_softmax has been deprecated. Change the call to include dim=X as an argument.\n"
     ]
    }
   ],
   "source": [
    "preds = inference(model, test_loader)"
   ]
  },
  {
   "cell_type": "code",
   "execution_count": 59,
   "metadata": {},
   "outputs": [],
   "source": [
    "class_to_idx = train_data.class_to_idx\n",
    "idx_to_class = {val: key for key, val in class_to_idx.items()}"
   ]
  },
  {
   "cell_type": "code",
   "execution_count": 60,
   "metadata": {},
   "outputs": [],
   "source": [
    "ids = []\n",
    "for idx, (pred, (file, _)) in enumerate(zip(preds, test_data.samples)):\n",
    "    file_name = file[file.rfind('/') + 1 : file.rfind('.')]\n",
    "    ids.append(int(file_name))"
   ]
  },
  {
   "cell_type": "code",
   "execution_count": 61,
   "metadata": {},
   "outputs": [
    {
     "data": {
      "text/html": [
       "<div>\n",
       "<style scoped>\n",
       "    .dataframe tbody tr th:only-of-type {\n",
       "        vertical-align: middle;\n",
       "    }\n",
       "\n",
       "    .dataframe tbody tr th {\n",
       "        vertical-align: top;\n",
       "    }\n",
       "\n",
       "    .dataframe thead th {\n",
       "        text-align: right;\n",
       "    }\n",
       "</style>\n",
       "<table border=\"1\" class=\"dataframe\">\n",
       "  <thead>\n",
       "    <tr style=\"text-align: right;\">\n",
       "      <th></th>\n",
       "      <th>label</th>\n",
       "    </tr>\n",
       "  </thead>\n",
       "  <tbody>\n",
       "    <tr>\n",
       "      <th>0</th>\n",
       "      <td>1613</td>\n",
       "    </tr>\n",
       "    <tr>\n",
       "      <th>1</th>\n",
       "      <td>1364</td>\n",
       "    </tr>\n",
       "    <tr>\n",
       "      <th>2</th>\n",
       "      <td>838</td>\n",
       "    </tr>\n",
       "    <tr>\n",
       "      <th>3</th>\n",
       "      <td>970</td>\n",
       "    </tr>\n",
       "    <tr>\n",
       "      <th>4</th>\n",
       "      <td>505</td>\n",
       "    </tr>\n",
       "    <tr>\n",
       "      <th>5</th>\n",
       "      <td>1040</td>\n",
       "    </tr>\n",
       "    <tr>\n",
       "      <th>6</th>\n",
       "      <td>1952</td>\n",
       "    </tr>\n",
       "    <tr>\n",
       "      <th>7</th>\n",
       "      <td>711</td>\n",
       "    </tr>\n",
       "    <tr>\n",
       "      <th>8</th>\n",
       "      <td>20</td>\n",
       "    </tr>\n",
       "    <tr>\n",
       "      <th>9</th>\n",
       "      <td>974</td>\n",
       "    </tr>\n",
       "    <tr>\n",
       "      <th>10</th>\n",
       "      <td>2260</td>\n",
       "    </tr>\n",
       "    <tr>\n",
       "      <th>11</th>\n",
       "      <td>586</td>\n",
       "    </tr>\n",
       "    <tr>\n",
       "      <th>12</th>\n",
       "      <td>1009</td>\n",
       "    </tr>\n",
       "    <tr>\n",
       "      <th>13</th>\n",
       "      <td>1034</td>\n",
       "    </tr>\n",
       "    <tr>\n",
       "      <th>14</th>\n",
       "      <td>1247</td>\n",
       "    </tr>\n",
       "    <tr>\n",
       "      <th>15</th>\n",
       "      <td>1169</td>\n",
       "    </tr>\n",
       "    <tr>\n",
       "      <th>16</th>\n",
       "      <td>1787</td>\n",
       "    </tr>\n",
       "    <tr>\n",
       "      <th>17</th>\n",
       "      <td>555</td>\n",
       "    </tr>\n",
       "    <tr>\n",
       "      <th>18</th>\n",
       "      <td>2210</td>\n",
       "    </tr>\n",
       "    <tr>\n",
       "      <th>19</th>\n",
       "      <td>1412</td>\n",
       "    </tr>\n",
       "  </tbody>\n",
       "</table>\n",
       "</div>"
      ],
      "text/plain": [
       "   label\n",
       "0   1613\n",
       "1   1364\n",
       "2    838\n",
       "3    970\n",
       "4    505\n",
       "5   1040\n",
       "6   1952\n",
       "7    711\n",
       "8     20\n",
       "9    974\n",
       "10  2260\n",
       "11   586\n",
       "12  1009\n",
       "13  1034\n",
       "14  1247\n",
       "15  1169\n",
       "16  1787\n",
       "17   555\n",
       "18  2210\n",
       "19  1412"
      ]
     },
     "execution_count": 61,
     "metadata": {},
     "output_type": "execute_result"
    }
   ],
   "source": [
    "submit = pd.DataFrame({'label': preds}, index=ids)\n",
    "\n",
    "submit.label = submit.label.map(idx_to_class)\n",
    "submit.sort_index().head(20)"
   ]
  },
  {
   "cell_type": "code",
   "execution_count": 56,
   "metadata": {},
   "outputs": [],
   "source": [
    "submit.sort_index().to_csv(path + \"/model3.csv\", index=True, index_label='id')"
   ]
  },
  {
   "cell_type": "markdown",
   "metadata": {},
   "source": [
    "## Verification"
   ]
  },
  {
   "cell_type": "code",
   "execution_count": 138,
   "metadata": {},
   "outputs": [],
   "source": [
    "ver_trans = transforms.Compose([\n",
    "    transforms.ToTensor(), \n",
    "    transforms.Normalize((0.5, 0.5, 0.5), (0.5, 0.5, 0.5))\n",
    "])\n",
    "\n",
    "ver_data = ImageFolder(path + \"/validation_verification\", ver_trans)\n",
    "ver_loader = DataLoader(ver_data, bs, shuffle=False, num_workers=8)"
   ]
  },
  {
   "cell_type": "code",
   "execution_count": 139,
   "metadata": {},
   "outputs": [],
   "source": [
    "verification_model = nn.Sequential(*list(model.children())[:-6])"
   ]
  },
  {
   "cell_type": "code",
   "execution_count": 141,
   "metadata": {},
   "outputs": [],
   "source": [
    "def verification(model, loader):\n",
    "    with torch.no_grad():\n",
    "        model.eval()\n",
    "        model.cuda()\n",
    "\n",
    "        preds = []\n",
    "        for batch_idx, (data, _) in enumerate(loader):   \n",
    "            data = data.cuda()\n",
    "            outputs = model(data)\n",
    "\n",
    "            y = outputs.detach().cpu().numpy()\n",
    "            y = y.reshape(-1, 128 * 4 * 4)\n",
    "            \n",
    "            preds.append(y)\n",
    "\n",
    "        return np.concatenate(preds)"
   ]
  },
  {
   "cell_type": "code",
   "execution_count": 142,
   "metadata": {},
   "outputs": [],
   "source": [
    "verification_data = verification(verification_model, ver_loader)"
   ]
  },
  {
   "cell_type": "code",
   "execution_count": 149,
   "metadata": {},
   "outputs": [],
   "source": [
    "name_to_idx = { name.replace(path + '/validation_verification/', '') : idx \n",
    "                for idx, (name, _) in enumerate(ver_data.samples) }   "
   ]
  },
  {
   "cell_type": "code",
   "execution_count": 193,
   "metadata": {},
   "outputs": [],
   "source": [
    "from sklearn.metrics.pairwise import cosine_similarity\n",
    "\n",
    "verification_scores = open(path + '/verification_scores.csv', 'w')\n",
    "for line in open(path + '/validation_trials_verification.txt'):\n",
    "    (first, second, score) = line.split(' ')\n",
    "    data_first = verification_data[name_to_idx[first]].reshape(1, -1)\n",
    "    data_second = verification_data[name_to_idx[second]].reshape(1, -1)\n",
    "    \n",
    "    verification_scores.write(str(np.squeeze(cosine_similarity(data_first, data_second))) + \"\\n\")\n",
    "\n",
    "verification_scores.close()"
   ]
  },
  {
   "cell_type": "code",
   "execution_count": 194,
   "metadata": {},
   "outputs": [
    {
     "name": "stdout",
     "output_type": "stream",
     "text": [
      "0.8524545641306501\n"
     ]
    }
   ],
   "source": [
    "from sklearn.metrics import roc_auc_score\n",
    "import sys\n",
    "import pandas as pd\n",
    "\n",
    "y_score = pd.read_csv(path + '/verification_scores.csv', header=None)[0].values\n",
    "y_true = pd.read_csv(path + '/validation_trials_verification.txt', delimiter=' ', header=None)[2].values\n",
    "\n",
    "auc = roc_auc_score(y_true, y_score)\n",
    "print(auc)"
   ]
  },
  {
   "cell_type": "markdown",
   "metadata": {},
   "source": [
    "## Submit verification"
   ]
  },
  {
   "cell_type": "code",
   "execution_count": 208,
   "metadata": {},
   "outputs": [],
   "source": [
    "test_ver_data = ImageFolder(path + \"/test_verification\", ver_trans)\n",
    "test_ver_loader = DataLoader(test_ver_data, bs, shuffle=False, num_workers=8)"
   ]
  },
  {
   "cell_type": "code",
   "execution_count": 209,
   "metadata": {},
   "outputs": [],
   "source": [
    "test_verification_data = verification(verification_model, test_ver_loader)"
   ]
  },
  {
   "cell_type": "code",
   "execution_count": 210,
   "metadata": {},
   "outputs": [],
   "source": [
    "test_name_to_idx = { name.replace(path + '/test_verification/unknown/', '') : idx \n",
    "                     for idx, (name, _) in enumerate(test_ver_data.samples) }   \n",
    "\n",
    "test_verification_scores = open(path + '/test_verification_scores.csv', 'w')\n",
    "test_verification_scores.write('trial,score\\n')\n",
    "idx = 0\n",
    "for line in open(path + '/test_trials_verification_student.txt'):\n",
    "    (first, second) = line.strip().split(' ')\n",
    "    data_first = test_verification_data[test_name_to_idx[first]].reshape(1, -1)\n",
    "    data_second = test_verification_data[test_name_to_idx[second]].reshape(1, -1)\n",
    "    \n",
    "    test_verification_scores.write(line.strip() + \",\" + str(np.squeeze(cosine_similarity(data_first, data_second))) + \"\\n\")\n",
    "    idx += 1\n",
    "\n",
    "test_verification_scores.close()"
   ]
  }
 ],
 "metadata": {
  "kernelspec": {
   "display_name": "Python 3",
   "language": "python",
   "name": "python3"
  },
  "language_info": {
   "codemirror_mode": {
    "name": "ipython",
    "version": 3
   },
   "file_extension": ".py",
   "mimetype": "text/x-python",
   "name": "python",
   "nbconvert_exporter": "python",
   "pygments_lexer": "ipython3",
   "version": "3.6.6"
  }
 },
 "nbformat": 4,
 "nbformat_minor": 2
}
