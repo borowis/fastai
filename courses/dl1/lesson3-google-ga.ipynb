{
 "cells": [
  {
   "cell_type": "markdown",
   "metadata": {},
   "source": [
    "# Structured and time series data"
   ]
  },
  {
   "cell_type": "code",
   "execution_count": 1,
   "metadata": {},
   "outputs": [
    {
     "name": "stderr",
     "output_type": "stream",
     "text": [
      "/home/borowis/.pyenv/versions/3.6.6/lib/python3.6/site-packages/matplotlib/font_manager.py:280: UserWarning: Matplotlib is building the font cache using fc-list. This may take a moment.\n",
      "  'Matplotlib is building the font cache using fc-list. '\n"
     ]
    }
   ],
   "source": [
    "%matplotlib inline\n",
    "%reload_ext autoreload\n",
    "%autoreload 2"
   ]
  },
  {
   "cell_type": "code",
   "execution_count": 2,
   "metadata": {},
   "outputs": [
    {
     "name": "stderr",
     "output_type": "stream",
     "text": [
      "/home/borowis/.pyenv/versions/3.6.6/lib/python3.6/site-packages/sklearn/ensemble/weight_boosting.py:29: DeprecationWarning: numpy.core.umath_tests is an internal NumPy module and should not be imported. It will be removed in a future NumPy release.\n",
      "  from numpy.core.umath_tests import inner1d\n"
     ]
    }
   ],
   "source": [
    "from fastai.structured import *\n",
    "from fastai.column_data import *\n",
    "from pandas.io.json import json_normalize\n",
    "np.set_printoptions(threshold=50, edgeitems=20)\n",
    "\n",
    "PATH='/home/borowis/s3/'"
   ]
  },
  {
   "cell_type": "code",
   "execution_count": 3,
   "metadata": {},
   "outputs": [],
   "source": [
    "JSON_COLUMNS = ['device', 'geoNetwork', 'totals', 'trafficSource']\n",
    "def load_df(csv_path, json_columns=JSON_COLUMNS):\n",
    "\n",
    "    df = pd.read_csv(csv_path, \n",
    "                     converters={column: json.loads for column in json_columns}, \n",
    "                     dtype={'fullVisitorId': 'str'})\n",
    "    \n",
    "    for column in json_columns:\n",
    "        column_as_df = json_normalize(df[column])\n",
    "        column_as_df.columns = [f\"{column}.{subcolumn}\" for subcolumn in column_as_df.columns]\n",
    "        df = df.drop(column, axis=1).merge(column_as_df, right_index=True, left_index=True)\n",
    "\n",
    "    return df"
   ]
  },
  {
   "cell_type": "code",
   "execution_count": 4,
   "metadata": {
    "hidden": true
   },
   "outputs": [],
   "source": [
    "table_names = ['train', 'test']"
   ]
  },
  {
   "cell_type": "code",
   "execution_count": 5,
   "metadata": {
    "hidden": true
   },
   "outputs": [],
   "source": [
    "tables = [load_df(f'{PATH}{fname}.csv') for fname in table_names]"
   ]
  },
  {
   "cell_type": "code",
   "execution_count": 6,
   "metadata": {
    "hidden": true
   },
   "outputs": [],
   "source": [
    "from IPython.display import HTML, display"
   ]
  },
  {
   "cell_type": "code",
   "execution_count": null,
   "metadata": {
    "hidden": true
   },
   "outputs": [],
   "source": [
    "for t in tables: display(t.head())"
   ]
  },
  {
   "cell_type": "code",
   "execution_count": null,
   "metadata": {
    "hidden": true,
    "scrolled": false
   },
   "outputs": [],
   "source": [
    "for t in tables: display(DataFrameSummary(t).summary())"
   ]
  },
  {
   "cell_type": "markdown",
   "metadata": {},
   "source": [
    "## Data Cleaning / Feature Engineering"
   ]
  },
  {
   "cell_type": "markdown",
   "metadata": {},
   "source": [
    "As a structured data problem, we necessarily have to go through all the cleaning and feature engineering, even though we're using a neural network."
   ]
  },
  {
   "cell_type": "code",
   "execution_count": 8,
   "metadata": {},
   "outputs": [],
   "source": [
    "train, test = tables"
   ]
  },
  {
   "cell_type": "code",
   "execution_count": 9,
   "metadata": {},
   "outputs": [
    {
     "data": {
      "text/plain": [
       "(903653, 804684)"
      ]
     },
     "execution_count": 9,
     "metadata": {},
     "output_type": "execute_result"
    }
   ],
   "source": [
    "len(train),len(test)"
   ]
  },
  {
   "cell_type": "markdown",
   "metadata": {},
   "source": [
    "Drop non-unique columns"
   ]
  },
  {
   "cell_type": "code",
   "execution_count": 10,
   "metadata": {},
   "outputs": [
    {
     "data": {
      "text/plain": [
       "['socialEngagementType',\n",
       " 'device.browserSize',\n",
       " 'device.browserVersion',\n",
       " 'device.flashVersion',\n",
       " 'device.language',\n",
       " 'device.mobileDeviceBranding',\n",
       " 'device.mobileDeviceInfo',\n",
       " 'device.mobileDeviceMarketingName',\n",
       " 'device.mobileDeviceModel',\n",
       " 'device.mobileInputSelector',\n",
       " 'device.operatingSystemVersion',\n",
       " 'device.screenColors',\n",
       " 'device.screenResolution',\n",
       " 'geoNetwork.cityId',\n",
       " 'geoNetwork.latitude',\n",
       " 'geoNetwork.longitude',\n",
       " 'geoNetwork.networkLocation',\n",
       " 'totals.bounces',\n",
       " 'totals.newVisits',\n",
       " 'totals.visits',\n",
       " 'trafficSource.adwordsClickInfo.criteriaParameters',\n",
       " 'trafficSource.adwordsClickInfo.isVideoAd',\n",
       " 'trafficSource.campaignCode',\n",
       " 'trafficSource.isTrueDirect']"
      ]
     },
     "execution_count": 10,
     "metadata": {},
     "output_type": "execute_result"
    }
   ],
   "source": [
    "cols_to_drop = [c for c in train.columns if train[c].nunique()==1]; cols_to_drop"
   ]
  },
  {
   "cell_type": "code",
   "execution_count": 11,
   "metadata": {},
   "outputs": [],
   "source": [
    "train.drop(cols_to_drop, axis=1, inplace=True)\n",
    "test.drop([col for col in cols_to_drop if col in test.columns], axis=1, inplace=True)"
   ]
  },
  {
   "cell_type": "markdown",
   "metadata": {},
   "source": [
    "Columns in test set missing from train "
   ]
  },
  {
   "cell_type": "code",
   "execution_count": 12,
   "metadata": {},
   "outputs": [
    {
     "name": "stdout",
     "output_type": "stream",
     "text": [
      "Variables not in test but in train :  {'totals.transactionRevenue'}\n"
     ]
    }
   ],
   "source": [
    "print(\"Variables not in test but in train : \", set(train.columns).difference(set(test.columns)))"
   ]
  },
  {
   "cell_type": "markdown",
   "metadata": {},
   "source": [
    "Parse dates correctly"
   ]
  },
  {
   "cell_type": "code",
   "execution_count": 13,
   "metadata": {},
   "outputs": [],
   "source": [
    "train['date'] = pd.to_datetime(train['date'].apply(lambda x: str(x)[:4] + '-' + str(x)[4:6] + '-' + str(x)[6:]))\n",
    "test['date'] = pd.to_datetime(test['date'].apply(lambda x: str(x)[:4] + '-' + str(x)[4:6] + '-' + str(x)[6:]))\n",
    "train['visitStartTime'] = pd.to_datetime(train['visitStartTime'], unit='s')\n",
    "test['visitStartTime'] = pd.to_datetime(test['visitStartTime'], unit='s')"
   ]
  },
  {
   "cell_type": "code",
   "execution_count": 14,
   "metadata": {},
   "outputs": [
    {
     "name": "stdout",
     "output_type": "stream",
     "text": [
      "First date in train set is 2016-08-01 00:00:00. Last date in train set is 2017-08-01 00:00:00.\n",
      "First date in test set is 2017-08-02 00:00:00. Last date in test set is 2018-04-30 00:00:00.\n"
     ]
    }
   ],
   "source": [
    "print(f'First date in train set is {train[\"date\"].min()}. Last date in train set is {train[\"date\"].max()}.')\n",
    "print(f'First date in test set is {test[\"date\"].min()}. Last date in test set is {test[\"date\"].max()}.')"
   ]
  },
  {
   "cell_type": "code",
   "execution_count": 15,
   "metadata": {},
   "outputs": [
    {
     "name": "stdout",
     "output_type": "stream",
     "text": [
      "First date in train set is 2016-08-01 07:00:12. Last date in train set is 2017-08-02 06:59:53.\n",
      "First date in test set is 2017-08-02 07:00:03. Last date in test set is 2018-05-01 06:56:58.\n"
     ]
    }
   ],
   "source": [
    "print(f'First date in train set is {train[\"visitStartTime\"].min()}. Last date in train set is {train[\"visitStartTime\"].max()}.')\n",
    "print(f'First date in test set is {test[\"visitStartTime\"].min()}. Last date in test set is {test[\"visitStartTime\"].max()}.')"
   ]
  },
  {
   "cell_type": "markdown",
   "metadata": {},
   "source": [
    "The following extracts particular date fields from a complete datetime for the purpose of constructing categoricals.\n",
    "\n",
    "You should *always* consider this feature extraction step when working with date-time. Without expanding your date-time into these additional fields, you can't capture any trend/cyclical behavior as a function of time at any of these granularities. We'll add to every table with a date field."
   ]
  },
  {
   "cell_type": "code",
   "execution_count": 16,
   "metadata": {},
   "outputs": [],
   "source": [
    "add_datepart(train, \"date\", drop=False)\n",
    "add_datepart(test, \"date\", drop=False)\n",
    "add_datepart(train, \"visitStartTime\", time=True, drop=False)\n",
    "add_datepart(test, \"visitStartTime\", time=True, drop=False)"
   ]
  },
  {
   "cell_type": "markdown",
   "metadata": {},
   "source": [
    "Next we'll fill in missing values to avoid complications with `NA`'s. `NA` (not available) is how Pandas indicates missing values; many models have problems when missing values are present, so it's always important to think about how to deal with them. In these cases, we are picking an arbitrary *signal value* that doesn't otherwise appear in the data."
   ]
  },
  {
   "cell_type": "code",
   "execution_count": 17,
   "metadata": {},
   "outputs": [
    {
     "name": "stdout",
     "output_type": "stream",
     "text": [
      "think about it\n"
     ]
    }
   ],
   "source": [
    "print (\"think about it\")"
   ]
  },
  {
   "cell_type": "code",
   "execution_count": 18,
   "metadata": {},
   "outputs": [],
   "source": [
    "train.to_feather(f'{PATH}train')\n",
    "test.to_feather(f'{PATH}test')\n",
    "#train = pd.read_feather(f'{PATH}train')\n",
    "#test = pd.read_feather(f'{PATH}test')"
   ]
  },
  {
   "cell_type": "markdown",
   "metadata": {},
   "source": [
    "## Durations"
   ]
  },
  {
   "cell_type": "markdown",
   "metadata": {},
   "source": [
    "It is common when working with time series data to extract data that explains relationships across rows as opposed to columns, e.g.:\n",
    "* Running averages\n",
    "* Time until next event\n",
    "* Time since last event\n",
    "\n",
    "This is often difficult to do with most table manipulation frameworks, since they are designed to work with relationships across columns. As such, we've created a class to handle this type of data.\n",
    "\n",
    "We'll define a function `get_elapsed` for cumulative counting across a sorted dataframe. Given a particular field `fld` to monitor, this function will start tracking time since the last occurrence of that field. When the field is seen again, the counter is set to zero.\n",
    "\n",
    "Upon initialization, this will result in datetime na's until the field is encountered. This is reset every time a new store is seen. We'll see how to use this shortly."
   ]
  },
  {
   "cell_type": "code",
   "execution_count": null,
   "metadata": {},
   "outputs": [],
   "source": [
    "def get_elapsed(fld, pre):\n",
    "    day1 = np.timedelta64(1, 'D')\n",
    "    last_date = np.datetime64()\n",
    "    last_store = 0\n",
    "    res = []\n",
    "\n",
    "    for s,v,d in zip(df.Store.values,df[fld].values, df.Date.values):\n",
    "        if s != last_store:\n",
    "            last_date = np.datetime64()\n",
    "            last_store = s\n",
    "        if v: last_date = d\n",
    "        res.append(((d-last_date).astype('timedelta64[D]') / day1))\n",
    "    df[pre+fld] = res"
   ]
  },
  {
   "cell_type": "markdown",
   "metadata": {},
   "source": [
    "We'll be applying this to a subset of columns:"
   ]
  },
  {
   "cell_type": "code",
   "execution_count": null,
   "metadata": {},
   "outputs": [],
   "source": [
    "columns = [\"Date\", \"Store\", \"Promo\", \"StateHoliday\", \"SchoolHoliday\"]"
   ]
  },
  {
   "cell_type": "code",
   "execution_count": null,
   "metadata": {},
   "outputs": [],
   "source": [
    "#df = train[columns]\n",
    "df = train[columns].append(test[columns])"
   ]
  },
  {
   "cell_type": "markdown",
   "metadata": {},
   "source": [
    "Let's walk through an example.\n",
    "\n",
    "Say we're looking at School Holiday. We'll first sort by Store, then Date, and then call `add_elapsed('SchoolHoliday', 'After')`:\n",
    "This will apply to each row with School Holiday:\n",
    "* A applied to every row of the dataframe in order of store and date\n",
    "* Will add to the dataframe the days since seeing a School Holiday\n",
    "* If we sort in the other direction, this will count the days until another holiday."
   ]
  },
  {
   "cell_type": "code",
   "execution_count": null,
   "metadata": {},
   "outputs": [],
   "source": [
    "fld = 'SchoolHoliday'\n",
    "df = df.sort_values(['Store', 'Date'])\n",
    "get_elapsed(fld, 'After')\n",
    "df = df.sort_values(['Store', 'Date'], ascending=[True, False])\n",
    "get_elapsed(fld, 'Before')"
   ]
  },
  {
   "cell_type": "markdown",
   "metadata": {},
   "source": [
    "We'll do this for two more fields."
   ]
  },
  {
   "cell_type": "code",
   "execution_count": null,
   "metadata": {},
   "outputs": [],
   "source": [
    "fld = 'StateHoliday'\n",
    "df = df.sort_values(['Store', 'Date'])\n",
    "get_elapsed(fld, 'After')\n",
    "df = df.sort_values(['Store', 'Date'], ascending=[True, False])\n",
    "get_elapsed(fld, 'Before')"
   ]
  },
  {
   "cell_type": "code",
   "execution_count": null,
   "metadata": {},
   "outputs": [],
   "source": [
    "fld = 'Promo'\n",
    "df = df.sort_values(['Store', 'Date'])\n",
    "get_elapsed(fld, 'After')\n",
    "df = df.sort_values(['Store', 'Date'], ascending=[True, False])\n",
    "get_elapsed(fld, 'Before')"
   ]
  },
  {
   "cell_type": "markdown",
   "metadata": {},
   "source": [
    "We're going to set the active index to Date."
   ]
  },
  {
   "cell_type": "code",
   "execution_count": null,
   "metadata": {},
   "outputs": [],
   "source": [
    "df = df.set_index(\"Date\")"
   ]
  },
  {
   "cell_type": "markdown",
   "metadata": {},
   "source": [
    "Then set null values from elapsed field calculations to 0."
   ]
  },
  {
   "cell_type": "code",
   "execution_count": null,
   "metadata": {},
   "outputs": [],
   "source": [
    "columns = ['SchoolHoliday', 'StateHoliday', 'Promo']"
   ]
  },
  {
   "cell_type": "code",
   "execution_count": null,
   "metadata": {},
   "outputs": [],
   "source": [
    "for o in ['Before', 'After']:\n",
    "    for p in columns:\n",
    "        a = o+p\n",
    "        df[a] = df[a].fillna(0).astype(int)"
   ]
  },
  {
   "cell_type": "markdown",
   "metadata": {},
   "source": [
    "Next we'll demonstrate window functions in pandas to calculate rolling quantities.\n",
    "\n",
    "Here we're sorting by date (`sort_index()`) and counting the number of events of interest (`sum()`) defined in `columns` in the following week (`rolling()`), grouped by Store (`groupby()`). We do the same in the opposite direction."
   ]
  },
  {
   "cell_type": "code",
   "execution_count": null,
   "metadata": {},
   "outputs": [],
   "source": [
    "bwd = df[['Store']+columns].sort_index().groupby(\"Store\").rolling(7, min_periods=1).sum()"
   ]
  },
  {
   "cell_type": "code",
   "execution_count": null,
   "metadata": {},
   "outputs": [],
   "source": [
    "fwd = df[['Store']+columns].sort_index(ascending=False\n",
    "                                      ).groupby(\"Store\").rolling(7, min_periods=1).sum()"
   ]
  },
  {
   "cell_type": "markdown",
   "metadata": {},
   "source": [
    "Next we want to drop the Store indices grouped together in the window function.\n",
    "\n",
    "Often in pandas, there is an option to do this in place. This is time and memory efficient when working with large datasets."
   ]
  },
  {
   "cell_type": "code",
   "execution_count": null,
   "metadata": {},
   "outputs": [],
   "source": [
    "bwd.drop('Store',1,inplace=True)\n",
    "bwd.reset_index(inplace=True)"
   ]
  },
  {
   "cell_type": "code",
   "execution_count": null,
   "metadata": {},
   "outputs": [],
   "source": [
    "fwd.drop('Store',1,inplace=True)\n",
    "fwd.reset_index(inplace=True)"
   ]
  },
  {
   "cell_type": "code",
   "execution_count": null,
   "metadata": {},
   "outputs": [],
   "source": [
    "df.reset_index(inplace=True)"
   ]
  },
  {
   "cell_type": "markdown",
   "metadata": {},
   "source": [
    "Now we'll merge these values onto the df."
   ]
  },
  {
   "cell_type": "code",
   "execution_count": null,
   "metadata": {},
   "outputs": [],
   "source": [
    "df = df.merge(bwd, 'left', ['Date', 'Store'], suffixes=['', '_bw'])\n",
    "df = df.merge(fwd, 'left', ['Date', 'Store'], suffixes=['', '_fw'])"
   ]
  },
  {
   "cell_type": "code",
   "execution_count": null,
   "metadata": {},
   "outputs": [],
   "source": [
    "df.drop(columns,1,inplace=True)"
   ]
  },
  {
   "cell_type": "code",
   "execution_count": null,
   "metadata": {},
   "outputs": [],
   "source": [
    "df.head()"
   ]
  },
  {
   "cell_type": "markdown",
   "metadata": {},
   "source": [
    "It's usually a good idea to back up large tables of extracted / wrangled features before you join them onto another one, that way you can go back to it easily if you need to make changes to it."
   ]
  },
  {
   "cell_type": "code",
   "execution_count": null,
   "metadata": {},
   "outputs": [],
   "source": [
    "df.to_feather(f'{PATH}df')"
   ]
  },
  {
   "cell_type": "code",
   "execution_count": null,
   "metadata": {},
   "outputs": [],
   "source": [
    "df = pd.read_feather(f'{PATH}df')"
   ]
  },
  {
   "cell_type": "code",
   "execution_count": null,
   "metadata": {},
   "outputs": [],
   "source": [
    "df[\"Date\"] = pd.to_datetime(df.Date)"
   ]
  },
  {
   "cell_type": "code",
   "execution_count": null,
   "metadata": {},
   "outputs": [],
   "source": [
    "df.columns"
   ]
  },
  {
   "cell_type": "code",
   "execution_count": null,
   "metadata": {},
   "outputs": [],
   "source": [
    "joined = join_df(joined, df, ['Store', 'Date'])"
   ]
  },
  {
   "cell_type": "code",
   "execution_count": null,
   "metadata": {},
   "outputs": [],
   "source": [
    "joined_test = join_df(joined_test, df, ['Store', 'Date'])"
   ]
  },
  {
   "cell_type": "markdown",
   "metadata": {},
   "source": [
    "The authors also removed all instances where the store had zero sale / was closed. We speculate that this may have cost them a higher standing in the competition. One reason this may be the case is that a little exploratory data analysis reveals that there are often periods where stores are closed, typically for refurbishment. Before and after these periods, there are naturally spikes in sales that one might expect. By ommitting this data from their training, the authors gave up the ability to leverage information about these periods to predict this otherwise volatile behavior."
   ]
  },
  {
   "cell_type": "code",
   "execution_count": null,
   "metadata": {},
   "outputs": [],
   "source": [
    "joined = joined[joined.Sales!=0]"
   ]
  },
  {
   "cell_type": "markdown",
   "metadata": {},
   "source": [
    "We'll back this up as well."
   ]
  },
  {
   "cell_type": "code",
   "execution_count": null,
   "metadata": {},
   "outputs": [],
   "source": [
    "joined.reset_index(inplace=True)\n",
    "joined_test.reset_index(inplace=True)"
   ]
  },
  {
   "cell_type": "code",
   "execution_count": null,
   "metadata": {},
   "outputs": [],
   "source": [
    "joined.to_feather(f'{PATH}joined')\n",
    "joined_test.to_feather(f'{PATH}joined_test')"
   ]
  },
  {
   "cell_type": "markdown",
   "metadata": {},
   "source": [
    "We now have our final set of engineered features.\n",
    "\n",
    "While these steps were explicitly outlined in the paper, these are all fairly typical feature engineering steps for dealing with time series data and are practical in any similar setting."
   ]
  },
  {
   "cell_type": "markdown",
   "metadata": {
    "collapsed": true,
    "heading_collapsed": true
   },
   "source": [
    "## Create features"
   ]
  },
  {
   "cell_type": "code",
   "execution_count": 51,
   "metadata": {
    "hidden": true
   },
   "outputs": [
    {
     "name": "stderr",
     "output_type": "stream",
     "text": [
      "/home/borowis/.pyenv/versions/3.6.6/lib/python3.6/site-packages/pandas/io/feather_format.py:112: FutureWarning: `nthreads` argument is deprecated, pass `use_threads` instead\n",
      "  return feather.read_dataframe(path, nthreads=nthreads)\n"
     ]
    }
   ],
   "source": [
    "train = pd.read_feather(f'{PATH}train')\n",
    "test = pd.read_feather(f'{PATH}test')"
   ]
  },
  {
   "cell_type": "code",
   "execution_count": 6,
   "metadata": {
    "hidden": true,
    "scrolled": true
   },
   "outputs": [
    {
     "data": {
      "text/html": [
       "<div>\n",
       "<style scoped>\n",
       "    .dataframe tbody tr th:only-of-type {\n",
       "        vertical-align: middle;\n",
       "    }\n",
       "\n",
       "    .dataframe tbody tr th {\n",
       "        vertical-align: top;\n",
       "    }\n",
       "\n",
       "    .dataframe thead th {\n",
       "        text-align: right;\n",
       "    }\n",
       "</style>\n",
       "<table border=\"1\" class=\"dataframe\">\n",
       "  <thead>\n",
       "    <tr style=\"text-align: right;\">\n",
       "      <th></th>\n",
       "      <th>0</th>\n",
       "      <th>1</th>\n",
       "      <th>2</th>\n",
       "      <th>3</th>\n",
       "      <th>4</th>\n",
       "    </tr>\n",
       "  </thead>\n",
       "  <tbody>\n",
       "    <tr>\n",
       "      <th>channelGrouping</th>\n",
       "      <td>Organic Search</td>\n",
       "      <td>Organic Search</td>\n",
       "      <td>Organic Search</td>\n",
       "      <td>Organic Search</td>\n",
       "      <td>Organic Search</td>\n",
       "    </tr>\n",
       "    <tr>\n",
       "      <th>date</th>\n",
       "      <td>2016-09-02 00:00:00</td>\n",
       "      <td>2016-09-02 00:00:00</td>\n",
       "      <td>2016-09-02 00:00:00</td>\n",
       "      <td>2016-09-02 00:00:00</td>\n",
       "      <td>2016-09-02 00:00:00</td>\n",
       "    </tr>\n",
       "    <tr>\n",
       "      <th>fullVisitorId</th>\n",
       "      <td>1131660440785968503</td>\n",
       "      <td>377306020877927890</td>\n",
       "      <td>3895546263509774583</td>\n",
       "      <td>4763447161404445595</td>\n",
       "      <td>27294437909732085</td>\n",
       "    </tr>\n",
       "    <tr>\n",
       "      <th>sessionId</th>\n",
       "      <td>1131660440785968503_1472830385</td>\n",
       "      <td>377306020877927890_1472880147</td>\n",
       "      <td>3895546263509774583_1472865386</td>\n",
       "      <td>4763447161404445595_1472881213</td>\n",
       "      <td>27294437909732085_1472822600</td>\n",
       "    </tr>\n",
       "    <tr>\n",
       "      <th>visitId</th>\n",
       "      <td>1472830385</td>\n",
       "      <td>1472880147</td>\n",
       "      <td>1472865386</td>\n",
       "      <td>1472881213</td>\n",
       "      <td>1472822600</td>\n",
       "    </tr>\n",
       "    <tr>\n",
       "      <th>visitNumber</th>\n",
       "      <td>1</td>\n",
       "      <td>1</td>\n",
       "      <td>1</td>\n",
       "      <td>1</td>\n",
       "      <td>2</td>\n",
       "    </tr>\n",
       "    <tr>\n",
       "      <th>visitStartTime</th>\n",
       "      <td>2016-09-02 15:33:05</td>\n",
       "      <td>2016-09-03 05:22:27</td>\n",
       "      <td>2016-09-03 01:16:26</td>\n",
       "      <td>2016-09-03 05:40:13</td>\n",
       "      <td>2016-09-02 13:23:20</td>\n",
       "    </tr>\n",
       "    <tr>\n",
       "      <th>device.browser</th>\n",
       "      <td>Chrome</td>\n",
       "      <td>Firefox</td>\n",
       "      <td>Chrome</td>\n",
       "      <td>UC Browser</td>\n",
       "      <td>Chrome</td>\n",
       "    </tr>\n",
       "    <tr>\n",
       "      <th>device.deviceCategory</th>\n",
       "      <td>desktop</td>\n",
       "      <td>desktop</td>\n",
       "      <td>desktop</td>\n",
       "      <td>desktop</td>\n",
       "      <td>mobile</td>\n",
       "    </tr>\n",
       "    <tr>\n",
       "      <th>device.isMobile</th>\n",
       "      <td>False</td>\n",
       "      <td>False</td>\n",
       "      <td>False</td>\n",
       "      <td>False</td>\n",
       "      <td>True</td>\n",
       "    </tr>\n",
       "    <tr>\n",
       "      <th>device.operatingSystem</th>\n",
       "      <td>Windows</td>\n",
       "      <td>Macintosh</td>\n",
       "      <td>Windows</td>\n",
       "      <td>Linux</td>\n",
       "      <td>Android</td>\n",
       "    </tr>\n",
       "    <tr>\n",
       "      <th>geoNetwork.city</th>\n",
       "      <td>Izmir</td>\n",
       "      <td>not available in demo dataset</td>\n",
       "      <td>Madrid</td>\n",
       "      <td>not available in demo dataset</td>\n",
       "      <td>not available in demo dataset</td>\n",
       "    </tr>\n",
       "    <tr>\n",
       "      <th>geoNetwork.continent</th>\n",
       "      <td>Asia</td>\n",
       "      <td>Oceania</td>\n",
       "      <td>Europe</td>\n",
       "      <td>Asia</td>\n",
       "      <td>Europe</td>\n",
       "    </tr>\n",
       "    <tr>\n",
       "      <th>geoNetwork.country</th>\n",
       "      <td>Turkey</td>\n",
       "      <td>Australia</td>\n",
       "      <td>Spain</td>\n",
       "      <td>Indonesia</td>\n",
       "      <td>United Kingdom</td>\n",
       "    </tr>\n",
       "    <tr>\n",
       "      <th>geoNetwork.metro</th>\n",
       "      <td>(not set)</td>\n",
       "      <td>not available in demo dataset</td>\n",
       "      <td>(not set)</td>\n",
       "      <td>not available in demo dataset</td>\n",
       "      <td>not available in demo dataset</td>\n",
       "    </tr>\n",
       "    <tr>\n",
       "      <th>geoNetwork.networkDomain</th>\n",
       "      <td>ttnet.com.tr</td>\n",
       "      <td>dodo.net.au</td>\n",
       "      <td>unknown.unknown</td>\n",
       "      <td>unknown.unknown</td>\n",
       "      <td>unknown.unknown</td>\n",
       "    </tr>\n",
       "    <tr>\n",
       "      <th>geoNetwork.region</th>\n",
       "      <td>Izmir</td>\n",
       "      <td>not available in demo dataset</td>\n",
       "      <td>Community of Madrid</td>\n",
       "      <td>not available in demo dataset</td>\n",
       "      <td>not available in demo dataset</td>\n",
       "    </tr>\n",
       "    <tr>\n",
       "      <th>geoNetwork.subContinent</th>\n",
       "      <td>Western Asia</td>\n",
       "      <td>Australasia</td>\n",
       "      <td>Southern Europe</td>\n",
       "      <td>Southeast Asia</td>\n",
       "      <td>Northern Europe</td>\n",
       "    </tr>\n",
       "    <tr>\n",
       "      <th>totals.hits</th>\n",
       "      <td>1</td>\n",
       "      <td>1</td>\n",
       "      <td>1</td>\n",
       "      <td>1</td>\n",
       "      <td>1</td>\n",
       "    </tr>\n",
       "    <tr>\n",
       "      <th>totals.pageviews</th>\n",
       "      <td>1</td>\n",
       "      <td>1</td>\n",
       "      <td>1</td>\n",
       "      <td>1</td>\n",
       "      <td>1</td>\n",
       "    </tr>\n",
       "    <tr>\n",
       "      <th>totals.transactionRevenue</th>\n",
       "      <td>None</td>\n",
       "      <td>None</td>\n",
       "      <td>None</td>\n",
       "      <td>None</td>\n",
       "      <td>None</td>\n",
       "    </tr>\n",
       "    <tr>\n",
       "      <th>trafficSource.adContent</th>\n",
       "      <td>None</td>\n",
       "      <td>None</td>\n",
       "      <td>None</td>\n",
       "      <td>None</td>\n",
       "      <td>None</td>\n",
       "    </tr>\n",
       "    <tr>\n",
       "      <th>trafficSource.adwordsClickInfo.adNetworkType</th>\n",
       "      <td>None</td>\n",
       "      <td>None</td>\n",
       "      <td>None</td>\n",
       "      <td>None</td>\n",
       "      <td>None</td>\n",
       "    </tr>\n",
       "    <tr>\n",
       "      <th>trafficSource.adwordsClickInfo.gclId</th>\n",
       "      <td>None</td>\n",
       "      <td>None</td>\n",
       "      <td>None</td>\n",
       "      <td>None</td>\n",
       "      <td>None</td>\n",
       "    </tr>\n",
       "    <tr>\n",
       "      <th>trafficSource.adwordsClickInfo.page</th>\n",
       "      <td>None</td>\n",
       "      <td>None</td>\n",
       "      <td>None</td>\n",
       "      <td>None</td>\n",
       "      <td>None</td>\n",
       "    </tr>\n",
       "    <tr>\n",
       "      <th>trafficSource.adwordsClickInfo.slot</th>\n",
       "      <td>None</td>\n",
       "      <td>None</td>\n",
       "      <td>None</td>\n",
       "      <td>None</td>\n",
       "      <td>None</td>\n",
       "    </tr>\n",
       "    <tr>\n",
       "      <th>trafficSource.campaign</th>\n",
       "      <td>(not set)</td>\n",
       "      <td>(not set)</td>\n",
       "      <td>(not set)</td>\n",
       "      <td>(not set)</td>\n",
       "      <td>(not set)</td>\n",
       "    </tr>\n",
       "    <tr>\n",
       "      <th>trafficSource.keyword</th>\n",
       "      <td>(not provided)</td>\n",
       "      <td>(not provided)</td>\n",
       "      <td>(not provided)</td>\n",
       "      <td>google + online</td>\n",
       "      <td>(not provided)</td>\n",
       "    </tr>\n",
       "    <tr>\n",
       "      <th>trafficSource.medium</th>\n",
       "      <td>organic</td>\n",
       "      <td>organic</td>\n",
       "      <td>organic</td>\n",
       "      <td>organic</td>\n",
       "      <td>organic</td>\n",
       "    </tr>\n",
       "    <tr>\n",
       "      <th>trafficSource.referralPath</th>\n",
       "      <td>None</td>\n",
       "      <td>None</td>\n",
       "      <td>None</td>\n",
       "      <td>None</td>\n",
       "      <td>None</td>\n",
       "    </tr>\n",
       "    <tr>\n",
       "      <th>trafficSource.source</th>\n",
       "      <td>google</td>\n",
       "      <td>google</td>\n",
       "      <td>google</td>\n",
       "      <td>google</td>\n",
       "      <td>google</td>\n",
       "    </tr>\n",
       "    <tr>\n",
       "      <th>Year</th>\n",
       "      <td>2016</td>\n",
       "      <td>2016</td>\n",
       "      <td>2016</td>\n",
       "      <td>2016</td>\n",
       "      <td>2016</td>\n",
       "    </tr>\n",
       "    <tr>\n",
       "      <th>Month</th>\n",
       "      <td>9</td>\n",
       "      <td>9</td>\n",
       "      <td>9</td>\n",
       "      <td>9</td>\n",
       "      <td>9</td>\n",
       "    </tr>\n",
       "    <tr>\n",
       "      <th>Week</th>\n",
       "      <td>35</td>\n",
       "      <td>35</td>\n",
       "      <td>35</td>\n",
       "      <td>35</td>\n",
       "      <td>35</td>\n",
       "    </tr>\n",
       "    <tr>\n",
       "      <th>Day</th>\n",
       "      <td>2</td>\n",
       "      <td>2</td>\n",
       "      <td>2</td>\n",
       "      <td>2</td>\n",
       "      <td>2</td>\n",
       "    </tr>\n",
       "    <tr>\n",
       "      <th>Dayofweek</th>\n",
       "      <td>4</td>\n",
       "      <td>4</td>\n",
       "      <td>4</td>\n",
       "      <td>4</td>\n",
       "      <td>4</td>\n",
       "    </tr>\n",
       "    <tr>\n",
       "      <th>Dayofyear</th>\n",
       "      <td>246</td>\n",
       "      <td>246</td>\n",
       "      <td>246</td>\n",
       "      <td>246</td>\n",
       "      <td>246</td>\n",
       "    </tr>\n",
       "    <tr>\n",
       "      <th>Is_month_end</th>\n",
       "      <td>False</td>\n",
       "      <td>False</td>\n",
       "      <td>False</td>\n",
       "      <td>False</td>\n",
       "      <td>False</td>\n",
       "    </tr>\n",
       "    <tr>\n",
       "      <th>Is_month_start</th>\n",
       "      <td>False</td>\n",
       "      <td>False</td>\n",
       "      <td>False</td>\n",
       "      <td>False</td>\n",
       "      <td>False</td>\n",
       "    </tr>\n",
       "    <tr>\n",
       "      <th>Is_quarter_end</th>\n",
       "      <td>False</td>\n",
       "      <td>False</td>\n",
       "      <td>False</td>\n",
       "      <td>False</td>\n",
       "      <td>False</td>\n",
       "    </tr>\n",
       "    <tr>\n",
       "      <th>Is_quarter_start</th>\n",
       "      <td>False</td>\n",
       "      <td>False</td>\n",
       "      <td>False</td>\n",
       "      <td>False</td>\n",
       "      <td>False</td>\n",
       "    </tr>\n",
       "    <tr>\n",
       "      <th>Is_year_end</th>\n",
       "      <td>False</td>\n",
       "      <td>False</td>\n",
       "      <td>False</td>\n",
       "      <td>False</td>\n",
       "      <td>False</td>\n",
       "    </tr>\n",
       "    <tr>\n",
       "      <th>Is_year_start</th>\n",
       "      <td>False</td>\n",
       "      <td>False</td>\n",
       "      <td>False</td>\n",
       "      <td>False</td>\n",
       "      <td>False</td>\n",
       "    </tr>\n",
       "    <tr>\n",
       "      <th>Elapsed</th>\n",
       "      <td>1472774400</td>\n",
       "      <td>1472774400</td>\n",
       "      <td>1472774400</td>\n",
       "      <td>1472774400</td>\n",
       "      <td>1472774400</td>\n",
       "    </tr>\n",
       "    <tr>\n",
       "      <th>visitStartTimeYear</th>\n",
       "      <td>2016</td>\n",
       "      <td>2016</td>\n",
       "      <td>2016</td>\n",
       "      <td>2016</td>\n",
       "      <td>2016</td>\n",
       "    </tr>\n",
       "    <tr>\n",
       "      <th>visitStartTimeMonth</th>\n",
       "      <td>9</td>\n",
       "      <td>9</td>\n",
       "      <td>9</td>\n",
       "      <td>9</td>\n",
       "      <td>9</td>\n",
       "    </tr>\n",
       "    <tr>\n",
       "      <th>visitStartTimeWeek</th>\n",
       "      <td>35</td>\n",
       "      <td>35</td>\n",
       "      <td>35</td>\n",
       "      <td>35</td>\n",
       "      <td>35</td>\n",
       "    </tr>\n",
       "    <tr>\n",
       "      <th>visitStartTimeDay</th>\n",
       "      <td>2</td>\n",
       "      <td>3</td>\n",
       "      <td>3</td>\n",
       "      <td>3</td>\n",
       "      <td>2</td>\n",
       "    </tr>\n",
       "    <tr>\n",
       "      <th>visitStartTimeDayofweek</th>\n",
       "      <td>4</td>\n",
       "      <td>5</td>\n",
       "      <td>5</td>\n",
       "      <td>5</td>\n",
       "      <td>4</td>\n",
       "    </tr>\n",
       "    <tr>\n",
       "      <th>visitStartTimeDayofyear</th>\n",
       "      <td>246</td>\n",
       "      <td>247</td>\n",
       "      <td>247</td>\n",
       "      <td>247</td>\n",
       "      <td>246</td>\n",
       "    </tr>\n",
       "    <tr>\n",
       "      <th>visitStartTimeIs_month_end</th>\n",
       "      <td>False</td>\n",
       "      <td>False</td>\n",
       "      <td>False</td>\n",
       "      <td>False</td>\n",
       "      <td>False</td>\n",
       "    </tr>\n",
       "    <tr>\n",
       "      <th>visitStartTimeIs_month_start</th>\n",
       "      <td>False</td>\n",
       "      <td>False</td>\n",
       "      <td>False</td>\n",
       "      <td>False</td>\n",
       "      <td>False</td>\n",
       "    </tr>\n",
       "    <tr>\n",
       "      <th>visitStartTimeIs_quarter_end</th>\n",
       "      <td>False</td>\n",
       "      <td>False</td>\n",
       "      <td>False</td>\n",
       "      <td>False</td>\n",
       "      <td>False</td>\n",
       "    </tr>\n",
       "    <tr>\n",
       "      <th>visitStartTimeIs_quarter_start</th>\n",
       "      <td>False</td>\n",
       "      <td>False</td>\n",
       "      <td>False</td>\n",
       "      <td>False</td>\n",
       "      <td>False</td>\n",
       "    </tr>\n",
       "    <tr>\n",
       "      <th>visitStartTimeIs_year_end</th>\n",
       "      <td>False</td>\n",
       "      <td>False</td>\n",
       "      <td>False</td>\n",
       "      <td>False</td>\n",
       "      <td>False</td>\n",
       "    </tr>\n",
       "    <tr>\n",
       "      <th>visitStartTimeIs_year_start</th>\n",
       "      <td>False</td>\n",
       "      <td>False</td>\n",
       "      <td>False</td>\n",
       "      <td>False</td>\n",
       "      <td>False</td>\n",
       "    </tr>\n",
       "    <tr>\n",
       "      <th>visitStartTimeHour</th>\n",
       "      <td>15</td>\n",
       "      <td>5</td>\n",
       "      <td>1</td>\n",
       "      <td>5</td>\n",
       "      <td>13</td>\n",
       "    </tr>\n",
       "    <tr>\n",
       "      <th>visitStartTimeMinute</th>\n",
       "      <td>33</td>\n",
       "      <td>22</td>\n",
       "      <td>16</td>\n",
       "      <td>40</td>\n",
       "      <td>23</td>\n",
       "    </tr>\n",
       "    <tr>\n",
       "      <th>visitStartTimeSecond</th>\n",
       "      <td>5</td>\n",
       "      <td>27</td>\n",
       "      <td>26</td>\n",
       "      <td>13</td>\n",
       "      <td>20</td>\n",
       "    </tr>\n",
       "    <tr>\n",
       "      <th>visitStartTimeElapsed</th>\n",
       "      <td>1472830385</td>\n",
       "      <td>1472880147</td>\n",
       "      <td>1472865386</td>\n",
       "      <td>1472881213</td>\n",
       "      <td>1472822600</td>\n",
       "    </tr>\n",
       "  </tbody>\n",
       "</table>\n",
       "</div>"
      ],
      "text/plain": [
       "                                                                           0  \\\n",
       "channelGrouping                                               Organic Search   \n",
       "date                                                     2016-09-02 00:00:00   \n",
       "fullVisitorId                                            1131660440785968503   \n",
       "sessionId                                     1131660440785968503_1472830385   \n",
       "visitId                                                           1472830385   \n",
       "visitNumber                                                                1   \n",
       "visitStartTime                                           2016-09-02 15:33:05   \n",
       "device.browser                                                        Chrome   \n",
       "device.deviceCategory                                                desktop   \n",
       "device.isMobile                                                        False   \n",
       "device.operatingSystem                                               Windows   \n",
       "geoNetwork.city                                                        Izmir   \n",
       "geoNetwork.continent                                                    Asia   \n",
       "geoNetwork.country                                                    Turkey   \n",
       "geoNetwork.metro                                                   (not set)   \n",
       "geoNetwork.networkDomain                                        ttnet.com.tr   \n",
       "geoNetwork.region                                                      Izmir   \n",
       "geoNetwork.subContinent                                         Western Asia   \n",
       "totals.hits                                                                1   \n",
       "totals.pageviews                                                           1   \n",
       "totals.transactionRevenue                                               None   \n",
       "trafficSource.adContent                                                 None   \n",
       "trafficSource.adwordsClickInfo.adNetworkType                            None   \n",
       "trafficSource.adwordsClickInfo.gclId                                    None   \n",
       "trafficSource.adwordsClickInfo.page                                     None   \n",
       "trafficSource.adwordsClickInfo.slot                                     None   \n",
       "trafficSource.campaign                                             (not set)   \n",
       "trafficSource.keyword                                         (not provided)   \n",
       "trafficSource.medium                                                 organic   \n",
       "trafficSource.referralPath                                              None   \n",
       "trafficSource.source                                                  google   \n",
       "Year                                                                    2016   \n",
       "Month                                                                      9   \n",
       "Week                                                                      35   \n",
       "Day                                                                        2   \n",
       "Dayofweek                                                                  4   \n",
       "Dayofyear                                                                246   \n",
       "Is_month_end                                                           False   \n",
       "Is_month_start                                                         False   \n",
       "Is_quarter_end                                                         False   \n",
       "Is_quarter_start                                                       False   \n",
       "Is_year_end                                                            False   \n",
       "Is_year_start                                                          False   \n",
       "Elapsed                                                           1472774400   \n",
       "visitStartTimeYear                                                      2016   \n",
       "visitStartTimeMonth                                                        9   \n",
       "visitStartTimeWeek                                                        35   \n",
       "visitStartTimeDay                                                          2   \n",
       "visitStartTimeDayofweek                                                    4   \n",
       "visitStartTimeDayofyear                                                  246   \n",
       "visitStartTimeIs_month_end                                             False   \n",
       "visitStartTimeIs_month_start                                           False   \n",
       "visitStartTimeIs_quarter_end                                           False   \n",
       "visitStartTimeIs_quarter_start                                         False   \n",
       "visitStartTimeIs_year_end                                              False   \n",
       "visitStartTimeIs_year_start                                            False   \n",
       "visitStartTimeHour                                                        15   \n",
       "visitStartTimeMinute                                                      33   \n",
       "visitStartTimeSecond                                                       5   \n",
       "visitStartTimeElapsed                                             1472830385   \n",
       "\n",
       "                                                                          1  \\\n",
       "channelGrouping                                              Organic Search   \n",
       "date                                                    2016-09-02 00:00:00   \n",
       "fullVisitorId                                            377306020877927890   \n",
       "sessionId                                     377306020877927890_1472880147   \n",
       "visitId                                                          1472880147   \n",
       "visitNumber                                                               1   \n",
       "visitStartTime                                          2016-09-03 05:22:27   \n",
       "device.browser                                                      Firefox   \n",
       "device.deviceCategory                                               desktop   \n",
       "device.isMobile                                                       False   \n",
       "device.operatingSystem                                            Macintosh   \n",
       "geoNetwork.city                               not available in demo dataset   \n",
       "geoNetwork.continent                                                Oceania   \n",
       "geoNetwork.country                                                Australia   \n",
       "geoNetwork.metro                              not available in demo dataset   \n",
       "geoNetwork.networkDomain                                        dodo.net.au   \n",
       "geoNetwork.region                             not available in demo dataset   \n",
       "geoNetwork.subContinent                                         Australasia   \n",
       "totals.hits                                                               1   \n",
       "totals.pageviews                                                          1   \n",
       "totals.transactionRevenue                                              None   \n",
       "trafficSource.adContent                                                None   \n",
       "trafficSource.adwordsClickInfo.adNetworkType                           None   \n",
       "trafficSource.adwordsClickInfo.gclId                                   None   \n",
       "trafficSource.adwordsClickInfo.page                                    None   \n",
       "trafficSource.adwordsClickInfo.slot                                    None   \n",
       "trafficSource.campaign                                            (not set)   \n",
       "trafficSource.keyword                                        (not provided)   \n",
       "trafficSource.medium                                                organic   \n",
       "trafficSource.referralPath                                             None   \n",
       "trafficSource.source                                                 google   \n",
       "Year                                                                   2016   \n",
       "Month                                                                     9   \n",
       "Week                                                                     35   \n",
       "Day                                                                       2   \n",
       "Dayofweek                                                                 4   \n",
       "Dayofyear                                                               246   \n",
       "Is_month_end                                                          False   \n",
       "Is_month_start                                                        False   \n",
       "Is_quarter_end                                                        False   \n",
       "Is_quarter_start                                                      False   \n",
       "Is_year_end                                                           False   \n",
       "Is_year_start                                                         False   \n",
       "Elapsed                                                          1472774400   \n",
       "visitStartTimeYear                                                     2016   \n",
       "visitStartTimeMonth                                                       9   \n",
       "visitStartTimeWeek                                                       35   \n",
       "visitStartTimeDay                                                         3   \n",
       "visitStartTimeDayofweek                                                   5   \n",
       "visitStartTimeDayofyear                                                 247   \n",
       "visitStartTimeIs_month_end                                            False   \n",
       "visitStartTimeIs_month_start                                          False   \n",
       "visitStartTimeIs_quarter_end                                          False   \n",
       "visitStartTimeIs_quarter_start                                        False   \n",
       "visitStartTimeIs_year_end                                             False   \n",
       "visitStartTimeIs_year_start                                           False   \n",
       "visitStartTimeHour                                                        5   \n",
       "visitStartTimeMinute                                                     22   \n",
       "visitStartTimeSecond                                                     27   \n",
       "visitStartTimeElapsed                                            1472880147   \n",
       "\n",
       "                                                                           2  \\\n",
       "channelGrouping                                               Organic Search   \n",
       "date                                                     2016-09-02 00:00:00   \n",
       "fullVisitorId                                            3895546263509774583   \n",
       "sessionId                                     3895546263509774583_1472865386   \n",
       "visitId                                                           1472865386   \n",
       "visitNumber                                                                1   \n",
       "visitStartTime                                           2016-09-03 01:16:26   \n",
       "device.browser                                                        Chrome   \n",
       "device.deviceCategory                                                desktop   \n",
       "device.isMobile                                                        False   \n",
       "device.operatingSystem                                               Windows   \n",
       "geoNetwork.city                                                       Madrid   \n",
       "geoNetwork.continent                                                  Europe   \n",
       "geoNetwork.country                                                     Spain   \n",
       "geoNetwork.metro                                                   (not set)   \n",
       "geoNetwork.networkDomain                                     unknown.unknown   \n",
       "geoNetwork.region                                        Community of Madrid   \n",
       "geoNetwork.subContinent                                      Southern Europe   \n",
       "totals.hits                                                                1   \n",
       "totals.pageviews                                                           1   \n",
       "totals.transactionRevenue                                               None   \n",
       "trafficSource.adContent                                                 None   \n",
       "trafficSource.adwordsClickInfo.adNetworkType                            None   \n",
       "trafficSource.adwordsClickInfo.gclId                                    None   \n",
       "trafficSource.adwordsClickInfo.page                                     None   \n",
       "trafficSource.adwordsClickInfo.slot                                     None   \n",
       "trafficSource.campaign                                             (not set)   \n",
       "trafficSource.keyword                                         (not provided)   \n",
       "trafficSource.medium                                                 organic   \n",
       "trafficSource.referralPath                                              None   \n",
       "trafficSource.source                                                  google   \n",
       "Year                                                                    2016   \n",
       "Month                                                                      9   \n",
       "Week                                                                      35   \n",
       "Day                                                                        2   \n",
       "Dayofweek                                                                  4   \n",
       "Dayofyear                                                                246   \n",
       "Is_month_end                                                           False   \n",
       "Is_month_start                                                         False   \n",
       "Is_quarter_end                                                         False   \n",
       "Is_quarter_start                                                       False   \n",
       "Is_year_end                                                            False   \n",
       "Is_year_start                                                          False   \n",
       "Elapsed                                                           1472774400   \n",
       "visitStartTimeYear                                                      2016   \n",
       "visitStartTimeMonth                                                        9   \n",
       "visitStartTimeWeek                                                        35   \n",
       "visitStartTimeDay                                                          3   \n",
       "visitStartTimeDayofweek                                                    5   \n",
       "visitStartTimeDayofyear                                                  247   \n",
       "visitStartTimeIs_month_end                                             False   \n",
       "visitStartTimeIs_month_start                                           False   \n",
       "visitStartTimeIs_quarter_end                                           False   \n",
       "visitStartTimeIs_quarter_start                                         False   \n",
       "visitStartTimeIs_year_end                                              False   \n",
       "visitStartTimeIs_year_start                                            False   \n",
       "visitStartTimeHour                                                         1   \n",
       "visitStartTimeMinute                                                      16   \n",
       "visitStartTimeSecond                                                      26   \n",
       "visitStartTimeElapsed                                             1472865386   \n",
       "\n",
       "                                                                           3  \\\n",
       "channelGrouping                                               Organic Search   \n",
       "date                                                     2016-09-02 00:00:00   \n",
       "fullVisitorId                                            4763447161404445595   \n",
       "sessionId                                     4763447161404445595_1472881213   \n",
       "visitId                                                           1472881213   \n",
       "visitNumber                                                                1   \n",
       "visitStartTime                                           2016-09-03 05:40:13   \n",
       "device.browser                                                    UC Browser   \n",
       "device.deviceCategory                                                desktop   \n",
       "device.isMobile                                                        False   \n",
       "device.operatingSystem                                                 Linux   \n",
       "geoNetwork.city                                not available in demo dataset   \n",
       "geoNetwork.continent                                                    Asia   \n",
       "geoNetwork.country                                                 Indonesia   \n",
       "geoNetwork.metro                               not available in demo dataset   \n",
       "geoNetwork.networkDomain                                     unknown.unknown   \n",
       "geoNetwork.region                              not available in demo dataset   \n",
       "geoNetwork.subContinent                                       Southeast Asia   \n",
       "totals.hits                                                                1   \n",
       "totals.pageviews                                                           1   \n",
       "totals.transactionRevenue                                               None   \n",
       "trafficSource.adContent                                                 None   \n",
       "trafficSource.adwordsClickInfo.adNetworkType                            None   \n",
       "trafficSource.adwordsClickInfo.gclId                                    None   \n",
       "trafficSource.adwordsClickInfo.page                                     None   \n",
       "trafficSource.adwordsClickInfo.slot                                     None   \n",
       "trafficSource.campaign                                             (not set)   \n",
       "trafficSource.keyword                                        google + online   \n",
       "trafficSource.medium                                                 organic   \n",
       "trafficSource.referralPath                                              None   \n",
       "trafficSource.source                                                  google   \n",
       "Year                                                                    2016   \n",
       "Month                                                                      9   \n",
       "Week                                                                      35   \n",
       "Day                                                                        2   \n",
       "Dayofweek                                                                  4   \n",
       "Dayofyear                                                                246   \n",
       "Is_month_end                                                           False   \n",
       "Is_month_start                                                         False   \n",
       "Is_quarter_end                                                         False   \n",
       "Is_quarter_start                                                       False   \n",
       "Is_year_end                                                            False   \n",
       "Is_year_start                                                          False   \n",
       "Elapsed                                                           1472774400   \n",
       "visitStartTimeYear                                                      2016   \n",
       "visitStartTimeMonth                                                        9   \n",
       "visitStartTimeWeek                                                        35   \n",
       "visitStartTimeDay                                                          3   \n",
       "visitStartTimeDayofweek                                                    5   \n",
       "visitStartTimeDayofyear                                                  247   \n",
       "visitStartTimeIs_month_end                                             False   \n",
       "visitStartTimeIs_month_start                                           False   \n",
       "visitStartTimeIs_quarter_end                                           False   \n",
       "visitStartTimeIs_quarter_start                                         False   \n",
       "visitStartTimeIs_year_end                                              False   \n",
       "visitStartTimeIs_year_start                                            False   \n",
       "visitStartTimeHour                                                         5   \n",
       "visitStartTimeMinute                                                      40   \n",
       "visitStartTimeSecond                                                      13   \n",
       "visitStartTimeElapsed                                             1472881213   \n",
       "\n",
       "                                                                          4  \n",
       "channelGrouping                                              Organic Search  \n",
       "date                                                    2016-09-02 00:00:00  \n",
       "fullVisitorId                                             27294437909732085  \n",
       "sessionId                                      27294437909732085_1472822600  \n",
       "visitId                                                          1472822600  \n",
       "visitNumber                                                               2  \n",
       "visitStartTime                                          2016-09-02 13:23:20  \n",
       "device.browser                                                       Chrome  \n",
       "device.deviceCategory                                                mobile  \n",
       "device.isMobile                                                        True  \n",
       "device.operatingSystem                                              Android  \n",
       "geoNetwork.city                               not available in demo dataset  \n",
       "geoNetwork.continent                                                 Europe  \n",
       "geoNetwork.country                                           United Kingdom  \n",
       "geoNetwork.metro                              not available in demo dataset  \n",
       "geoNetwork.networkDomain                                    unknown.unknown  \n",
       "geoNetwork.region                             not available in demo dataset  \n",
       "geoNetwork.subContinent                                     Northern Europe  \n",
       "totals.hits                                                               1  \n",
       "totals.pageviews                                                          1  \n",
       "totals.transactionRevenue                                              None  \n",
       "trafficSource.adContent                                                None  \n",
       "trafficSource.adwordsClickInfo.adNetworkType                           None  \n",
       "trafficSource.adwordsClickInfo.gclId                                   None  \n",
       "trafficSource.adwordsClickInfo.page                                    None  \n",
       "trafficSource.adwordsClickInfo.slot                                    None  \n",
       "trafficSource.campaign                                            (not set)  \n",
       "trafficSource.keyword                                        (not provided)  \n",
       "trafficSource.medium                                                organic  \n",
       "trafficSource.referralPath                                             None  \n",
       "trafficSource.source                                                 google  \n",
       "Year                                                                   2016  \n",
       "Month                                                                     9  \n",
       "Week                                                                     35  \n",
       "Day                                                                       2  \n",
       "Dayofweek                                                                 4  \n",
       "Dayofyear                                                               246  \n",
       "Is_month_end                                                          False  \n",
       "Is_month_start                                                        False  \n",
       "Is_quarter_end                                                        False  \n",
       "Is_quarter_start                                                      False  \n",
       "Is_year_end                                                           False  \n",
       "Is_year_start                                                         False  \n",
       "Elapsed                                                          1472774400  \n",
       "visitStartTimeYear                                                     2016  \n",
       "visitStartTimeMonth                                                       9  \n",
       "visitStartTimeWeek                                                       35  \n",
       "visitStartTimeDay                                                         2  \n",
       "visitStartTimeDayofweek                                                   4  \n",
       "visitStartTimeDayofyear                                                 246  \n",
       "visitStartTimeIs_month_end                                            False  \n",
       "visitStartTimeIs_month_start                                          False  \n",
       "visitStartTimeIs_quarter_end                                          False  \n",
       "visitStartTimeIs_quarter_start                                        False  \n",
       "visitStartTimeIs_year_end                                             False  \n",
       "visitStartTimeIs_year_start                                           False  \n",
       "visitStartTimeHour                                                       13  \n",
       "visitStartTimeMinute                                                     23  \n",
       "visitStartTimeSecond                                                     20  \n",
       "visitStartTimeElapsed                                            1472822600  "
      ]
     },
     "execution_count": 6,
     "metadata": {},
     "output_type": "execute_result"
    }
   ],
   "source": [
    "train.head().T.head(70)"
   ]
  },
  {
   "cell_type": "markdown",
   "metadata": {
    "hidden": true
   },
   "source": [
    "Now that we've engineered all our features, we need to convert to input compatible with a neural network.\n",
    "\n",
    "This includes converting categorical variables into contiguous integers or one-hot encodings, normalizing continuous features to standard normal, etc..."
   ]
  },
  {
   "cell_type": "code",
   "execution_count": 52,
   "metadata": {
    "hidden": true
   },
   "outputs": [],
   "source": [
    "contin_vars = ['visitNumber', 'totals.hits', 'totals.pageviews']\n",
    "no_use = ['fullVisitorId', 'date', 'sessionId', 'visitId', 'visitStartTime', 'visitStartTimeElapsed', \n",
    "          'visitStartTimeYear', 'visitStartTimeMonth', 'visitStartTimeWeek', 'visitStartTimeDay', 'visitStartTimeDayofweek',\n",
    "          'visitStartTimeDayofyear', 'visitStartTimeIs_month_end', 'visitStartTimeIs_month_start', 'visitStartTimeIs_quarter_end',\n",
    "          'visitStartTimeIs_quarter_start', 'visitStartTimeIs_year_end', 'visitStartTimeIs_year_start', \n",
    "          'totals.transactionRevenue']\n",
    "\n",
    "#cat_vars = [col for col in train.columns if col not in contin_vars and col not in no_use]\n",
    "cat_vars = ['channelGrouping', 'device.browser', 'device.deviceCategory', 'device.isMobile', 'device.operatingSystem',\n",
    "           'geoNetwork.city', 'geoNetwork.continent', 'geoNetwork.country', 'geoNetwork.metro',\n",
    "           'geoNetwork.region', 'geoNetwork.subContinent', 'trafficSource.adContent', 'trafficSource.adwordsClickInfo.adNetworkType', \n",
    "           'trafficSource.adwordsClickInfo.page', 'trafficSource.adwordsClickInfo.slot', 'trafficSource.campaign', 'trafficSource.keyword',\n",
    "           'trafficSource.medium', 'trafficSource.referralPath', 'trafficSource.source', 'Year', 'Month', 'Week', 'Day', 'Dayofweek', \n",
    "           'Dayofyear', 'Is_month_end', 'Is_month_start', 'Is_quarter_end', 'Is_quarter_start', 'Is_year_end', 'Is_year_start']"
   ]
  },
  {
   "cell_type": "code",
   "execution_count": 53,
   "metadata": {
    "hidden": true
   },
   "outputs": [],
   "source": [
    "dep = 'totals.transactionRevenue'\n",
    "train = train[cat_vars+contin_vars+[dep, 'date']].copy()"
   ]
  },
  {
   "cell_type": "code",
   "execution_count": 54,
   "metadata": {
    "hidden": true
   },
   "outputs": [],
   "source": [
    "test[dep] = 0\n",
    "test = test[cat_vars+contin_vars+[dep, 'date', 'fullVisitorId']].copy()"
   ]
  },
  {
   "cell_type": "code",
   "execution_count": 55,
   "metadata": {
    "hidden": true
   },
   "outputs": [],
   "source": [
    "for v in cat_vars: train[v] = train[v].astype('category').cat.as_ordered()"
   ]
  },
  {
   "cell_type": "code",
   "execution_count": 56,
   "metadata": {
    "hidden": true
   },
   "outputs": [],
   "source": [
    "apply_cats(test, train)"
   ]
  },
  {
   "cell_type": "code",
   "execution_count": 57,
   "metadata": {
    "hidden": true
   },
   "outputs": [],
   "source": [
    "for v in contin_vars:\n",
    "    train[v] = train[v].fillna(0).astype('float32')\n",
    "    test[v] = test[v].fillna(0).astype('float32')"
   ]
  },
  {
   "cell_type": "code",
   "execution_count": 58,
   "metadata": {},
   "outputs": [],
   "source": [
    "train['totals.transactionRevenue'] = train['totals.transactionRevenue'].fillna(0).astype('float32')"
   ]
  },
  {
   "cell_type": "markdown",
   "metadata": {
    "hidden": true
   },
   "source": [
    "We're going to run on a sample."
   ]
  },
  {
   "cell_type": "code",
   "execution_count": 59,
   "metadata": {
    "hidden": true
   },
   "outputs": [
    {
     "data": {
      "text/plain": [
       "150000"
      ]
     },
     "execution_count": 59,
     "metadata": {},
     "output_type": "execute_result"
    }
   ],
   "source": [
    "n = len(train)\n",
    "idxs = get_cv_idxs(n, val_pct=150000/n)\n",
    "train_samp = train.iloc[idxs].set_index(\"date\")\n",
    "samp_size = len(train_samp); samp_size"
   ]
  },
  {
   "cell_type": "markdown",
   "metadata": {
    "hidden": true
   },
   "source": [
    "To run on the full dataset, use this instead:"
   ]
  },
  {
   "cell_type": "code",
   "execution_count": 148,
   "metadata": {
    "hidden": true
   },
   "outputs": [],
   "source": [
    "samp_size = n\n",
    "train_samp = train.set_index(\"date\")"
   ]
  },
  {
   "cell_type": "markdown",
   "metadata": {
    "hidden": true
   },
   "source": [
    "We can now process our data..."
   ]
  },
  {
   "cell_type": "code",
   "execution_count": 25,
   "metadata": {
    "hidden": true
   },
   "outputs": [
    {
     "data": {
      "text/html": [
       "<div>\n",
       "<style scoped>\n",
       "    .dataframe tbody tr th:only-of-type {\n",
       "        vertical-align: middle;\n",
       "    }\n",
       "\n",
       "    .dataframe tbody tr th {\n",
       "        vertical-align: top;\n",
       "    }\n",
       "\n",
       "    .dataframe thead th {\n",
       "        text-align: right;\n",
       "    }\n",
       "</style>\n",
       "<table border=\"1\" class=\"dataframe\">\n",
       "  <thead>\n",
       "    <tr style=\"text-align: right;\">\n",
       "      <th>date</th>\n",
       "      <th>2017-01-31 00:00:00</th>\n",
       "      <th>2017-04-02 00:00:00</th>\n",
       "    </tr>\n",
       "  </thead>\n",
       "  <tbody>\n",
       "    <tr>\n",
       "      <th>channelGrouping</th>\n",
       "      <td>Organic Search</td>\n",
       "      <td>Referral</td>\n",
       "    </tr>\n",
       "    <tr>\n",
       "      <th>device.browser</th>\n",
       "      <td>Safari</td>\n",
       "      <td>Chrome</td>\n",
       "    </tr>\n",
       "    <tr>\n",
       "      <th>device.deviceCategory</th>\n",
       "      <td>mobile</td>\n",
       "      <td>desktop</td>\n",
       "    </tr>\n",
       "    <tr>\n",
       "      <th>device.isMobile</th>\n",
       "      <td>True</td>\n",
       "      <td>False</td>\n",
       "    </tr>\n",
       "    <tr>\n",
       "      <th>device.operatingSystem</th>\n",
       "      <td>iOS</td>\n",
       "      <td>Windows</td>\n",
       "    </tr>\n",
       "    <tr>\n",
       "      <th>geoNetwork.city</th>\n",
       "      <td>Montreal</td>\n",
       "      <td>not available in demo dataset</td>\n",
       "    </tr>\n",
       "    <tr>\n",
       "      <th>geoNetwork.continent</th>\n",
       "      <td>Americas</td>\n",
       "      <td>Europe</td>\n",
       "    </tr>\n",
       "    <tr>\n",
       "      <th>geoNetwork.country</th>\n",
       "      <td>Canada</td>\n",
       "      <td>Ukraine</td>\n",
       "    </tr>\n",
       "    <tr>\n",
       "      <th>geoNetwork.metro</th>\n",
       "      <td>(not set)</td>\n",
       "      <td>not available in demo dataset</td>\n",
       "    </tr>\n",
       "    <tr>\n",
       "      <th>geoNetwork.networkDomain</th>\n",
       "      <td>(not set)</td>\n",
       "      <td>kyivstar.net</td>\n",
       "    </tr>\n",
       "    <tr>\n",
       "      <th>geoNetwork.region</th>\n",
       "      <td>Quebec</td>\n",
       "      <td>not available in demo dataset</td>\n",
       "    </tr>\n",
       "    <tr>\n",
       "      <th>geoNetwork.subContinent</th>\n",
       "      <td>Northern America</td>\n",
       "      <td>Eastern Europe</td>\n",
       "    </tr>\n",
       "    <tr>\n",
       "      <th>trafficSource.adContent</th>\n",
       "      <td>NaN</td>\n",
       "      <td>NaN</td>\n",
       "    </tr>\n",
       "    <tr>\n",
       "      <th>trafficSource.adwordsClickInfo.adNetworkType</th>\n",
       "      <td>NaN</td>\n",
       "      <td>NaN</td>\n",
       "    </tr>\n",
       "    <tr>\n",
       "      <th>trafficSource.adwordsClickInfo.page</th>\n",
       "      <td>NaN</td>\n",
       "      <td>NaN</td>\n",
       "    </tr>\n",
       "    <tr>\n",
       "      <th>trafficSource.adwordsClickInfo.slot</th>\n",
       "      <td>NaN</td>\n",
       "      <td>NaN</td>\n",
       "    </tr>\n",
       "    <tr>\n",
       "      <th>trafficSource.campaign</th>\n",
       "      <td>(not set)</td>\n",
       "      <td>(not set)</td>\n",
       "    </tr>\n",
       "    <tr>\n",
       "      <th>trafficSource.keyword</th>\n",
       "      <td>(not provided)</td>\n",
       "      <td>NaN</td>\n",
       "    </tr>\n",
       "    <tr>\n",
       "      <th>trafficSource.medium</th>\n",
       "      <td>organic</td>\n",
       "      <td>referral</td>\n",
       "    </tr>\n",
       "    <tr>\n",
       "      <th>trafficSource.referralPath</th>\n",
       "      <td>NaN</td>\n",
       "      <td>/analytics/web/</td>\n",
       "    </tr>\n",
       "    <tr>\n",
       "      <th>trafficSource.source</th>\n",
       "      <td>google</td>\n",
       "      <td>analytics.google.com</td>\n",
       "    </tr>\n",
       "    <tr>\n",
       "      <th>Year</th>\n",
       "      <td>2017</td>\n",
       "      <td>2017</td>\n",
       "    </tr>\n",
       "    <tr>\n",
       "      <th>Month</th>\n",
       "      <td>1</td>\n",
       "      <td>4</td>\n",
       "    </tr>\n",
       "    <tr>\n",
       "      <th>Week</th>\n",
       "      <td>5</td>\n",
       "      <td>13</td>\n",
       "    </tr>\n",
       "    <tr>\n",
       "      <th>Day</th>\n",
       "      <td>31</td>\n",
       "      <td>2</td>\n",
       "    </tr>\n",
       "    <tr>\n",
       "      <th>Dayofweek</th>\n",
       "      <td>1</td>\n",
       "      <td>6</td>\n",
       "    </tr>\n",
       "    <tr>\n",
       "      <th>Dayofyear</th>\n",
       "      <td>31</td>\n",
       "      <td>92</td>\n",
       "    </tr>\n",
       "    <tr>\n",
       "      <th>Is_month_end</th>\n",
       "      <td>True</td>\n",
       "      <td>False</td>\n",
       "    </tr>\n",
       "    <tr>\n",
       "      <th>Is_month_start</th>\n",
       "      <td>False</td>\n",
       "      <td>False</td>\n",
       "    </tr>\n",
       "    <tr>\n",
       "      <th>Is_quarter_end</th>\n",
       "      <td>False</td>\n",
       "      <td>False</td>\n",
       "    </tr>\n",
       "    <tr>\n",
       "      <th>Is_quarter_start</th>\n",
       "      <td>False</td>\n",
       "      <td>False</td>\n",
       "    </tr>\n",
       "    <tr>\n",
       "      <th>Is_year_end</th>\n",
       "      <td>False</td>\n",
       "      <td>False</td>\n",
       "    </tr>\n",
       "    <tr>\n",
       "      <th>Is_year_start</th>\n",
       "      <td>False</td>\n",
       "      <td>False</td>\n",
       "    </tr>\n",
       "    <tr>\n",
       "      <th>visitNumber</th>\n",
       "      <td>2</td>\n",
       "      <td>1</td>\n",
       "    </tr>\n",
       "    <tr>\n",
       "      <th>totals.hits</th>\n",
       "      <td>2</td>\n",
       "      <td>3</td>\n",
       "    </tr>\n",
       "    <tr>\n",
       "      <th>totals.pageviews</th>\n",
       "      <td>2</td>\n",
       "      <td>3</td>\n",
       "    </tr>\n",
       "    <tr>\n",
       "      <th>totals.transactionRevenue</th>\n",
       "      <td>0</td>\n",
       "      <td>0</td>\n",
       "    </tr>\n",
       "  </tbody>\n",
       "</table>\n",
       "</div>"
      ],
      "text/plain": [
       "date                                                2017-01-31  \\\n",
       "channelGrouping                                 Organic Search   \n",
       "device.browser                                          Safari   \n",
       "device.deviceCategory                                   mobile   \n",
       "device.isMobile                                           True   \n",
       "device.operatingSystem                                     iOS   \n",
       "geoNetwork.city                                       Montreal   \n",
       "geoNetwork.continent                                  Americas   \n",
       "geoNetwork.country                                      Canada   \n",
       "geoNetwork.metro                                     (not set)   \n",
       "geoNetwork.networkDomain                             (not set)   \n",
       "geoNetwork.region                                       Quebec   \n",
       "geoNetwork.subContinent                       Northern America   \n",
       "trafficSource.adContent                                    NaN   \n",
       "trafficSource.adwordsClickInfo.adNetworkType               NaN   \n",
       "trafficSource.adwordsClickInfo.page                        NaN   \n",
       "trafficSource.adwordsClickInfo.slot                        NaN   \n",
       "trafficSource.campaign                               (not set)   \n",
       "trafficSource.keyword                           (not provided)   \n",
       "trafficSource.medium                                   organic   \n",
       "trafficSource.referralPath                                 NaN   \n",
       "trafficSource.source                                    google   \n",
       "Year                                                      2017   \n",
       "Month                                                        1   \n",
       "Week                                                         5   \n",
       "Day                                                         31   \n",
       "Dayofweek                                                    1   \n",
       "Dayofyear                                                   31   \n",
       "Is_month_end                                              True   \n",
       "Is_month_start                                           False   \n",
       "Is_quarter_end                                           False   \n",
       "Is_quarter_start                                         False   \n",
       "Is_year_end                                              False   \n",
       "Is_year_start                                            False   \n",
       "visitNumber                                                  2   \n",
       "totals.hits                                                  2   \n",
       "totals.pageviews                                             2   \n",
       "totals.transactionRevenue                                    0   \n",
       "\n",
       "date                                                             2017-04-02  \n",
       "channelGrouping                                                    Referral  \n",
       "device.browser                                                       Chrome  \n",
       "device.deviceCategory                                               desktop  \n",
       "device.isMobile                                                       False  \n",
       "device.operatingSystem                                              Windows  \n",
       "geoNetwork.city                               not available in demo dataset  \n",
       "geoNetwork.continent                                                 Europe  \n",
       "geoNetwork.country                                                  Ukraine  \n",
       "geoNetwork.metro                              not available in demo dataset  \n",
       "geoNetwork.networkDomain                                       kyivstar.net  \n",
       "geoNetwork.region                             not available in demo dataset  \n",
       "geoNetwork.subContinent                                      Eastern Europe  \n",
       "trafficSource.adContent                                                 NaN  \n",
       "trafficSource.adwordsClickInfo.adNetworkType                            NaN  \n",
       "trafficSource.adwordsClickInfo.page                                     NaN  \n",
       "trafficSource.adwordsClickInfo.slot                                     NaN  \n",
       "trafficSource.campaign                                            (not set)  \n",
       "trafficSource.keyword                                                   NaN  \n",
       "trafficSource.medium                                               referral  \n",
       "trafficSource.referralPath                                  /analytics/web/  \n",
       "trafficSource.source                                   analytics.google.com  \n",
       "Year                                                                   2017  \n",
       "Month                                                                     4  \n",
       "Week                                                                     13  \n",
       "Day                                                                       2  \n",
       "Dayofweek                                                                 6  \n",
       "Dayofyear                                                                92  \n",
       "Is_month_end                                                          False  \n",
       "Is_month_start                                                        False  \n",
       "Is_quarter_end                                                        False  \n",
       "Is_quarter_start                                                      False  \n",
       "Is_year_end                                                           False  \n",
       "Is_year_start                                                         False  \n",
       "visitNumber                                                               1  \n",
       "totals.hits                                                               3  \n",
       "totals.pageviews                                                          3  \n",
       "totals.transactionRevenue                                                 0  "
      ]
     },
     "execution_count": 25,
     "metadata": {},
     "output_type": "execute_result"
    }
   ],
   "source": [
    "train_samp.head(2).T"
   ]
  },
  {
   "cell_type": "code",
   "execution_count": 149,
   "metadata": {
    "hidden": true
   },
   "outputs": [],
   "source": [
    "df, y, nas, mapper = proc_df(train_samp, 'totals.transactionRevenue', do_scale=True)\n",
    "yl = np.log1p(y)"
   ]
  },
  {
   "cell_type": "code",
   "execution_count": 61,
   "metadata": {
    "hidden": true
   },
   "outputs": [],
   "source": [
    "test = test.set_index(\"date\")"
   ]
  },
  {
   "cell_type": "code",
   "execution_count": 150,
   "metadata": {
    "hidden": true
   },
   "outputs": [],
   "source": [
    "df_test, _, nas, mapper = proc_df(test, 'totals.transactionRevenue', do_scale=True, skip_flds=['fullVisitorId'],\n",
    "                                  mapper=mapper, na_dict=nas)"
   ]
  },
  {
   "cell_type": "code",
   "execution_count": 63,
   "metadata": {
    "hidden": true
   },
   "outputs": [
    {
     "data": {
      "text/html": [
       "<div>\n",
       "<style scoped>\n",
       "    .dataframe tbody tr th:only-of-type {\n",
       "        vertical-align: middle;\n",
       "    }\n",
       "\n",
       "    .dataframe tbody tr th {\n",
       "        vertical-align: top;\n",
       "    }\n",
       "\n",
       "    .dataframe thead th {\n",
       "        text-align: right;\n",
       "    }\n",
       "</style>\n",
       "<table border=\"1\" class=\"dataframe\">\n",
       "  <thead>\n",
       "    <tr style=\"text-align: right;\">\n",
       "      <th>date</th>\n",
       "      <th>2017-01-31 00:00:00</th>\n",
       "      <th>2017-04-02 00:00:00</th>\n",
       "    </tr>\n",
       "  </thead>\n",
       "  <tbody>\n",
       "    <tr>\n",
       "      <th>channelGrouping</th>\n",
       "      <td>5.000000</td>\n",
       "      <td>7.000000</td>\n",
       "    </tr>\n",
       "    <tr>\n",
       "      <th>device.browser</th>\n",
       "      <td>41.000000</td>\n",
       "      <td>12.000000</td>\n",
       "    </tr>\n",
       "    <tr>\n",
       "      <th>device.deviceCategory</th>\n",
       "      <td>2.000000</td>\n",
       "      <td>1.000000</td>\n",
       "    </tr>\n",
       "    <tr>\n",
       "      <th>device.isMobile</th>\n",
       "      <td>2.000000</td>\n",
       "      <td>1.000000</td>\n",
       "    </tr>\n",
       "    <tr>\n",
       "      <th>device.operatingSystem</th>\n",
       "      <td>20.000000</td>\n",
       "      <td>17.000000</td>\n",
       "    </tr>\n",
       "    <tr>\n",
       "      <th>geoNetwork.city</th>\n",
       "      <td>364.000000</td>\n",
       "      <td>649.000000</td>\n",
       "    </tr>\n",
       "    <tr>\n",
       "      <th>geoNetwork.continent</th>\n",
       "      <td>3.000000</td>\n",
       "      <td>5.000000</td>\n",
       "    </tr>\n",
       "    <tr>\n",
       "      <th>geoNetwork.country</th>\n",
       "      <td>37.000000</td>\n",
       "      <td>210.000000</td>\n",
       "    </tr>\n",
       "    <tr>\n",
       "      <th>geoNetwork.metro</th>\n",
       "      <td>1.000000</td>\n",
       "      <td>94.000000</td>\n",
       "    </tr>\n",
       "    <tr>\n",
       "      <th>geoNetwork.region</th>\n",
       "      <td>270.000000</td>\n",
       "      <td>376.000000</td>\n",
       "    </tr>\n",
       "    <tr>\n",
       "      <th>geoNetwork.subContinent</th>\n",
       "      <td>13.000000</td>\n",
       "      <td>8.000000</td>\n",
       "    </tr>\n",
       "    <tr>\n",
       "      <th>trafficSource.adContent</th>\n",
       "      <td>0.000000</td>\n",
       "      <td>0.000000</td>\n",
       "    </tr>\n",
       "    <tr>\n",
       "      <th>trafficSource.adwordsClickInfo.adNetworkType</th>\n",
       "      <td>0.000000</td>\n",
       "      <td>0.000000</td>\n",
       "    </tr>\n",
       "    <tr>\n",
       "      <th>trafficSource.adwordsClickInfo.page</th>\n",
       "      <td>0.000000</td>\n",
       "      <td>0.000000</td>\n",
       "    </tr>\n",
       "    <tr>\n",
       "      <th>trafficSource.adwordsClickInfo.slot</th>\n",
       "      <td>0.000000</td>\n",
       "      <td>0.000000</td>\n",
       "    </tr>\n",
       "    <tr>\n",
       "      <th>trafficSource.campaign</th>\n",
       "      <td>1.000000</td>\n",
       "      <td>1.000000</td>\n",
       "    </tr>\n",
       "    <tr>\n",
       "      <th>trafficSource.keyword</th>\n",
       "      <td>12.000000</td>\n",
       "      <td>0.000000</td>\n",
       "    </tr>\n",
       "    <tr>\n",
       "      <th>trafficSource.medium</th>\n",
       "      <td>6.000000</td>\n",
       "      <td>7.000000</td>\n",
       "    </tr>\n",
       "    <tr>\n",
       "      <th>trafficSource.referralPath</th>\n",
       "      <td>0.000000</td>\n",
       "      <td>367.000000</td>\n",
       "    </tr>\n",
       "    <tr>\n",
       "      <th>trafficSource.source</th>\n",
       "      <td>150.000000</td>\n",
       "      <td>68.000000</td>\n",
       "    </tr>\n",
       "    <tr>\n",
       "      <th>Year</th>\n",
       "      <td>2.000000</td>\n",
       "      <td>2.000000</td>\n",
       "    </tr>\n",
       "    <tr>\n",
       "      <th>Month</th>\n",
       "      <td>1.000000</td>\n",
       "      <td>4.000000</td>\n",
       "    </tr>\n",
       "    <tr>\n",
       "      <th>Week</th>\n",
       "      <td>5.000000</td>\n",
       "      <td>13.000000</td>\n",
       "    </tr>\n",
       "    <tr>\n",
       "      <th>Day</th>\n",
       "      <td>31.000000</td>\n",
       "      <td>2.000000</td>\n",
       "    </tr>\n",
       "    <tr>\n",
       "      <th>Dayofweek</th>\n",
       "      <td>2.000000</td>\n",
       "      <td>7.000000</td>\n",
       "    </tr>\n",
       "    <tr>\n",
       "      <th>Dayofyear</th>\n",
       "      <td>31.000000</td>\n",
       "      <td>92.000000</td>\n",
       "    </tr>\n",
       "    <tr>\n",
       "      <th>Is_month_end</th>\n",
       "      <td>2.000000</td>\n",
       "      <td>1.000000</td>\n",
       "    </tr>\n",
       "    <tr>\n",
       "      <th>Is_month_start</th>\n",
       "      <td>1.000000</td>\n",
       "      <td>1.000000</td>\n",
       "    </tr>\n",
       "    <tr>\n",
       "      <th>Is_quarter_end</th>\n",
       "      <td>1.000000</td>\n",
       "      <td>1.000000</td>\n",
       "    </tr>\n",
       "    <tr>\n",
       "      <th>Is_quarter_start</th>\n",
       "      <td>1.000000</td>\n",
       "      <td>1.000000</td>\n",
       "    </tr>\n",
       "    <tr>\n",
       "      <th>Is_year_end</th>\n",
       "      <td>1.000000</td>\n",
       "      <td>1.000000</td>\n",
       "    </tr>\n",
       "    <tr>\n",
       "      <th>Is_year_start</th>\n",
       "      <td>1.000000</td>\n",
       "      <td>1.000000</td>\n",
       "    </tr>\n",
       "    <tr>\n",
       "      <th>visitNumber</th>\n",
       "      <td>-0.027907</td>\n",
       "      <td>-0.140980</td>\n",
       "    </tr>\n",
       "    <tr>\n",
       "      <th>totals.hits</th>\n",
       "      <td>-0.271004</td>\n",
       "      <td>-0.165030</td>\n",
       "    </tr>\n",
       "    <tr>\n",
       "      <th>totals.pageviews</th>\n",
       "      <td>-0.266125</td>\n",
       "      <td>-0.119947</td>\n",
       "    </tr>\n",
       "  </tbody>\n",
       "</table>\n",
       "</div>"
      ],
      "text/plain": [
       "date                                          2017-01-31  2017-04-02\n",
       "channelGrouping                                 5.000000    7.000000\n",
       "device.browser                                 41.000000   12.000000\n",
       "device.deviceCategory                           2.000000    1.000000\n",
       "device.isMobile                                 2.000000    1.000000\n",
       "device.operatingSystem                         20.000000   17.000000\n",
       "geoNetwork.city                               364.000000  649.000000\n",
       "geoNetwork.continent                            3.000000    5.000000\n",
       "geoNetwork.country                             37.000000  210.000000\n",
       "geoNetwork.metro                                1.000000   94.000000\n",
       "geoNetwork.region                             270.000000  376.000000\n",
       "geoNetwork.subContinent                        13.000000    8.000000\n",
       "trafficSource.adContent                         0.000000    0.000000\n",
       "trafficSource.adwordsClickInfo.adNetworkType    0.000000    0.000000\n",
       "trafficSource.adwordsClickInfo.page             0.000000    0.000000\n",
       "trafficSource.adwordsClickInfo.slot             0.000000    0.000000\n",
       "trafficSource.campaign                          1.000000    1.000000\n",
       "trafficSource.keyword                          12.000000    0.000000\n",
       "trafficSource.medium                            6.000000    7.000000\n",
       "trafficSource.referralPath                      0.000000  367.000000\n",
       "trafficSource.source                          150.000000   68.000000\n",
       "Year                                            2.000000    2.000000\n",
       "Month                                           1.000000    4.000000\n",
       "Week                                            5.000000   13.000000\n",
       "Day                                            31.000000    2.000000\n",
       "Dayofweek                                       2.000000    7.000000\n",
       "Dayofyear                                      31.000000   92.000000\n",
       "Is_month_end                                    2.000000    1.000000\n",
       "Is_month_start                                  1.000000    1.000000\n",
       "Is_quarter_end                                  1.000000    1.000000\n",
       "Is_quarter_start                                1.000000    1.000000\n",
       "Is_year_end                                     1.000000    1.000000\n",
       "Is_year_start                                   1.000000    1.000000\n",
       "visitNumber                                    -0.027907   -0.140980\n",
       "totals.hits                                    -0.271004   -0.165030\n",
       "totals.pageviews                               -0.266125   -0.119947"
      ]
     },
     "execution_count": 63,
     "metadata": {},
     "output_type": "execute_result"
    }
   ],
   "source": [
    "df.head(2).T"
   ]
  },
  {
   "cell_type": "markdown",
   "metadata": {
    "hidden": true
   },
   "source": [
    "In time series data, cross-validation is not random. Instead, our holdout data is generally the most recent data, as it would be in real application. This issue is discussed in detail in [this post](http://www.fast.ai/2017/11/13/validation-sets/) on our web site.\n",
    "\n",
    "One approach is to take the last 25% of rows (sorted by date) as our validation set."
   ]
  },
  {
   "cell_type": "code",
   "execution_count": null,
   "metadata": {
    "hidden": true
   },
   "outputs": [],
   "source": [
    "train_ratio = 0.75\n",
    "# train_ratio = 0.9\n",
    "train_size = int(samp_size * train_ratio); train_size\n",
    "val_idx = list(range(train_size, len(df)))"
   ]
  },
  {
   "cell_type": "markdown",
   "metadata": {
    "hidden": true
   },
   "source": [
    "An even better option for picking a validation set is using the exact same length of time period as the test set uses - this is implemented here:"
   ]
  },
  {
   "cell_type": "code",
   "execution_count": 151,
   "metadata": {},
   "outputs": [
    {
     "name": "stdout",
     "output_type": "stream",
     "text": [
      "First date in train set is 2016-08-01 00:00:00. Last date in train set is 2017-08-01 00:00:00.\n",
      "First date in test set is 2017-08-02 00:00:00. Last date in test set is 2018-04-30 00:00:00.\n"
     ]
    }
   ],
   "source": [
    "print(f'First date in train set is {df.index.min()}. Last date in train set is {df.index.max()}.')\n",
    "print(f'First date in test set is {df_test.index.min()}. Last date in test set is {df_test.index.max()}.')"
   ]
  },
  {
   "cell_type": "code",
   "execution_count": 153,
   "metadata": {
    "hidden": true
   },
   "outputs": [],
   "source": [
    "val_idx = np.flatnonzero(\n",
    "    (df.index<=datetime.datetime(2017,8,1)) & (df.index>=datetime.datetime(2017,5,1)))"
   ]
  },
  {
   "cell_type": "code",
   "execution_count": 154,
   "metadata": {},
   "outputs": [
    {
     "data": {
      "text/plain": [
       "203317"
      ]
     },
     "execution_count": 154,
     "metadata": {},
     "output_type": "execute_result"
    }
   ],
   "source": [
    "len(val_idx)"
   ]
  },
  {
   "cell_type": "code",
   "execution_count": 152,
   "metadata": {},
   "outputs": [
    {
     "data": {
      "text/plain": [
       "903653"
      ]
     },
     "execution_count": 152,
     "metadata": {},
     "output_type": "execute_result"
    }
   ],
   "source": [
    "len(df)"
   ]
  },
  {
   "cell_type": "markdown",
   "metadata": {},
   "source": [
    "## DL"
   ]
  },
  {
   "cell_type": "markdown",
   "metadata": {},
   "source": [
    "We're ready to put together our models.\n",
    "\n",
    "Root-mean-squared percent error is the metric Kaggle used for this competition."
   ]
  },
  {
   "cell_type": "code",
   "execution_count": 142,
   "metadata": {},
   "outputs": [],
   "source": [
    "def inv_y(a): return a #np.expm1(a)\n",
    "\n",
    "def exp_rmse(y_pred, targ):\n",
    "    targ = inv_y(targ)\n",
    "    pct_var = (targ - inv_y(y_pred))\n",
    "    return math.sqrt((pct_var**2).mean())\n",
    "\n",
    "max_log_y = np.max(yl)\n",
    "y_range = (0, max_log_y*1.2)"
   ]
  },
  {
   "cell_type": "markdown",
   "metadata": {},
   "source": [
    "We can create a ModelData object directly from out data frame."
   ]
  },
  {
   "cell_type": "code",
   "execution_count": 161,
   "metadata": {},
   "outputs": [],
   "source": [
    "md = ColumnarModelData.from_data_frame(PATH, val_idx, df, yl.astype(np.float32), cat_flds=cat_vars, bs=1024,\n",
    "                                       test_df=df_test)"
   ]
  },
  {
   "cell_type": "markdown",
   "metadata": {},
   "source": [
    "Some categorical variables have a lot more levels than others. Store, in particular, has over a thousand!"
   ]
  },
  {
   "cell_type": "code",
   "execution_count": 162,
   "metadata": {},
   "outputs": [],
   "source": [
    "cat_sz = [(c, len(train_samp[c].cat.categories)+1) for c in cat_vars]"
   ]
  },
  {
   "cell_type": "code",
   "execution_count": 73,
   "metadata": {
    "scrolled": true
   },
   "outputs": [
    {
     "data": {
      "text/plain": [
       "[('channelGrouping', 9),\n",
       " ('device.browser', 55),\n",
       " ('device.deviceCategory', 4),\n",
       " ('device.isMobile', 3),\n",
       " ('device.operatingSystem', 21),\n",
       " ('geoNetwork.city', 650),\n",
       " ('geoNetwork.continent', 7),\n",
       " ('geoNetwork.country', 223),\n",
       " ('geoNetwork.metro', 95),\n",
       " ('geoNetwork.region', 377),\n",
       " ('geoNetwork.subContinent', 24),\n",
       " ('trafficSource.adContent', 45),\n",
       " ('trafficSource.adwordsClickInfo.adNetworkType', 3),\n",
       " ('trafficSource.adwordsClickInfo.page', 9),\n",
       " ('trafficSource.adwordsClickInfo.slot', 3),\n",
       " ('trafficSource.campaign', 11),\n",
       " ('trafficSource.keyword', 3660),\n",
       " ('trafficSource.medium', 8),\n",
       " ('trafficSource.referralPath', 1476),\n",
       " ('trafficSource.source', 381),\n",
       " ('Year', 3),\n",
       " ('Month', 13),\n",
       " ('Week', 53),\n",
       " ('Day', 32),\n",
       " ('Dayofweek', 8),\n",
       " ('Dayofyear', 367),\n",
       " ('Is_month_end', 3),\n",
       " ('Is_month_start', 3),\n",
       " ('Is_quarter_end', 3),\n",
       " ('Is_quarter_start', 3),\n",
       " ('Is_year_end', 3),\n",
       " ('Is_year_start', 3)]"
      ]
     },
     "execution_count": 73,
     "metadata": {},
     "output_type": "execute_result"
    }
   ],
   "source": [
    "cat_sz"
   ]
  },
  {
   "cell_type": "markdown",
   "metadata": {},
   "source": [
    "We use the *cardinality* of each variable (that is, its number of unique values) to decide how large to make its *embeddings*. Each level will be associated with a vector with length defined as below."
   ]
  },
  {
   "cell_type": "code",
   "execution_count": 163,
   "metadata": {},
   "outputs": [],
   "source": [
    "emb_szs = [(c, min(50, (c+1)//2)) for _,c in cat_sz]"
   ]
  },
  {
   "cell_type": "code",
   "execution_count": 75,
   "metadata": {
    "scrolled": true
   },
   "outputs": [
    {
     "data": {
      "text/plain": [
       "[(9, 5),\n",
       " (55, 28),\n",
       " (4, 2),\n",
       " (3, 2),\n",
       " (21, 11),\n",
       " (650, 50),\n",
       " (7, 4),\n",
       " (223, 50),\n",
       " (95, 48),\n",
       " (377, 50),\n",
       " (24, 12),\n",
       " (45, 23),\n",
       " (3, 2),\n",
       " (9, 5),\n",
       " (3, 2),\n",
       " (11, 6),\n",
       " (3660, 50),\n",
       " (8, 4),\n",
       " (1476, 50),\n",
       " (381, 50),\n",
       " (3, 2),\n",
       " (13, 7),\n",
       " (53, 27),\n",
       " (32, 16),\n",
       " (8, 4),\n",
       " (367, 50),\n",
       " (3, 2),\n",
       " (3, 2),\n",
       " (3, 2),\n",
       " (3, 2),\n",
       " (3, 2),\n",
       " (3, 2)]"
      ]
     },
     "execution_count": 75,
     "metadata": {},
     "output_type": "execute_result"
    }
   ],
   "source": [
    "emb_szs"
   ]
  },
  {
   "cell_type": "code",
   "execution_count": 164,
   "metadata": {},
   "outputs": [],
   "source": [
    "m = md.get_learner(emb_szs, len(df.columns)-len(cat_vars),\n",
    "                   0.04, 1, [1000,500], [0.001,0.01], y_range=y_range)\n",
    "# m.summary()"
   ]
  },
  {
   "cell_type": "code",
   "execution_count": 165,
   "metadata": {},
   "outputs": [
    {
     "data": {
      "application/vnd.jupyter.widget-view+json": {
       "model_id": "9b3d1f676fa846ccb927576269612dc5",
       "version_major": 2,
       "version_minor": 0
      },
      "text/plain": [
       "HBox(children=(IntProgress(value=0, description='Epoch: ', max=1), HTML(value='')))"
      ]
     },
     "metadata": {},
     "output_type": "display_data"
    },
    {
     "name": "stdout",
     "output_type": "stream",
     "text": [
      "  0%|          | 1/684 [00:00<02:24,  4.73it/s, loss=193, refresh=0]"
     ]
    },
    {
     "name": "stderr",
     "output_type": "stream",
     "text": [
      "/home/borowis/.pyenv/versions/3.6.6/lib/python3.6/site-packages/torch/nn/functional.py:1006: UserWarning: nn.functional.sigmoid is deprecated. Use torch.sigmoid instead.\n",
      "  warnings.warn(\"nn.functional.sigmoid is deprecated. Use torch.sigmoid instead.\")\n"
     ]
    },
    {
     "name": "stdout",
     "output_type": "stream",
     "text": [
      "epoch      trn_loss   val_loss                                         \n",
      "    0      3.798874   4.871578  \n",
      "\n"
     ]
    }
   ],
   "source": [
    "m.lr_find()"
   ]
  },
  {
   "cell_type": "code",
   "execution_count": 166,
   "metadata": {},
   "outputs": [
    {
     "data": {
      "image/png": "[encoded data removed]",
      "text/plain": [
       "<matplotlib.figure.Figure at 0x7f5b4d120e48>"
      ]
     },
     "metadata": {},
     "output_type": "display_data"
    }
   ],
   "source": [
    "m.sched.plot(100)"
   ]
  },
  {
   "cell_type": "markdown",
   "metadata": {
    "heading_collapsed": true
   },
   "source": [
    "### Sample"
   ]
  },
  {
   "cell_type": "code",
   "execution_count": 145,
   "metadata": {
    "hidden": true
   },
   "outputs": [],
   "source": [
    "m = md.get_learner(emb_szs, len(df.columns)-len(cat_vars),\n",
    "                   0.04, 1, [1000,500], [0.001,0.01], y_range=y_range)\n",
    "lr = 1e-3/2"
   ]
  },
  {
   "cell_type": "code",
   "execution_count": 146,
   "metadata": {
    "hidden": true
   },
   "outputs": [
    {
     "data": {
      "application/vnd.jupyter.widget-view+json": {
       "model_id": "9f146ebb178e4ac8847d4c16f9a87420",
       "version_major": 2,
       "version_minor": 0
      },
      "text/plain": [
       "HBox(children=(IntProgress(value=0, description='Epoch: ', max=3), HTML(value='')))"
      ]
     },
     "metadata": {},
     "output_type": "display_data"
    },
    {
     "name": "stdout",
     "output_type": "stream",
     "text": [
      "  2%|▏         | 21/907 [00:00<00:08, 99.17it/s, loss=22.3, refresh=0]"
     ]
    },
    {
     "name": "stderr",
     "output_type": "stream",
     "text": [
      "/home/borowis/.pyenv/versions/3.6.6/lib/python3.6/site-packages/torch/nn/functional.py:1006: UserWarning: nn.functional.sigmoid is deprecated. Use torch.sigmoid instead.\n",
      "  warnings.warn(\"nn.functional.sigmoid is deprecated. Use torch.sigmoid instead.\")\n"
     ]
    },
    {
     "name": "stdout",
     "output_type": "stream",
     "text": [
      "epoch      trn_loss   val_loss   exp_rmse                               \n",
      "    0      3.429539   3.300415   1.758742  \n",
      "    1      2.472362   3.04432    1.682893                               \n",
      "    2      2.83931    3.024223   1.687558                               \n",
      "\n"
     ]
    },
    {
     "data": {
      "text/plain": [
       "[3.0242225178404025, 1.6875581525542187]"
      ]
     },
     "execution_count": 146,
     "metadata": {},
     "output_type": "execute_result"
    }
   ],
   "source": [
    "m.fit(lr, 3, metrics=[exp_rmse])"
   ]
  },
  {
   "cell_type": "code",
   "execution_count": 147,
   "metadata": {
    "hidden": true
   },
   "outputs": [
    {
     "data": {
      "application/vnd.jupyter.widget-view+json": {
       "model_id": "22c8c1b7d15f4845a0790f3689ac5299",
       "version_major": 2,
       "version_minor": 0
      },
      "text/plain": [
       "HBox(children=(IntProgress(value=0, description='Epoch: ', max=5), HTML(value='')))"
      ]
     },
     "metadata": {},
     "output_type": "display_data"
    },
    {
     "name": "stdout",
     "output_type": "stream",
     "text": [
      "  1%|          | 11/907 [00:00<00:09, 96.76it/s, loss=1.98, refresh=0]"
     ]
    },
    {
     "name": "stderr",
     "output_type": "stream",
     "text": [
      "/home/borowis/.pyenv/versions/3.6.6/lib/python3.6/site-packages/torch/nn/functional.py:1006: UserWarning: nn.functional.sigmoid is deprecated. Use torch.sigmoid instead.\n",
      "  warnings.warn(\"nn.functional.sigmoid is deprecated. Use torch.sigmoid instead.\")\n"
     ]
    },
    {
     "name": "stdout",
     "output_type": "stream",
     "text": [
      "epoch      trn_loss   val_loss   exp_rmse                               \n",
      "    0      2.27764    2.975553   1.675267  \n",
      "    1      2.225417   2.98437    1.676113                               \n",
      "    2      2.229556   3.040794   1.69414                                \n",
      "    3      2.404504   3.018064   1.681217                               \n",
      "    4      1.82928    3.103819   1.706356                               \n",
      "\n"
     ]
    },
    {
     "data": {
      "text/plain": [
       "[3.103818789921598, 1.7063559380853528]"
      ]
     },
     "execution_count": 147,
     "metadata": {},
     "output_type": "execute_result"
    }
   ],
   "source": [
    "m.fit(lr, 5, metrics=[exp_rmse], cycle_len=1)"
   ]
  },
  {
   "cell_type": "code",
   "execution_count": 82,
   "metadata": {
    "hidden": true
   },
   "outputs": [
    {
     "data": {
      "application/vnd.jupyter.widget-view+json": {
       "model_id": "ec81100eed3844e9b69fe8d78d1a73df",
       "version_major": 2,
       "version_minor": 0
      },
      "text/plain": [
       "HBox(children=(IntProgress(value=0, description='Epoch: ', max=8), HTML(value='')))"
      ]
     },
     "metadata": {},
     "output_type": "display_data"
    },
    {
     "name": "stdout",
     "output_type": "stream",
     "text": [
      "  2%|▏         | 20/822 [00:00<00:08, 96.17it/s, loss=1.32, refresh=0] "
     ]
    },
    {
     "name": "stderr",
     "output_type": "stream",
     "text": [
      "/home/borowis/.pyenv/versions/3.6.6/lib/python3.6/site-packages/torch/nn/functional.py:1006: UserWarning: nn.functional.sigmoid is deprecated. Use torch.sigmoid instead.\n",
      "  warnings.warn(\"nn.functional.sigmoid is deprecated. Use torch.sigmoid instead.\")\n"
     ]
    },
    {
     "name": "stdout",
     "output_type": "stream",
     "text": [
      "epoch      trn_loss   val_loss   exp_rmse                               \n",
      "    0      2.020545   3.560047   21151514.441777\n",
      "    1      1.991228   3.634333   21036050.030951                       \n",
      "    2      0.998669   4.026325   21594140.913945                         \n",
      "    3      0.911956   3.976438   21467943.906566                         \n",
      "    4      1.465379   3.767708   21076182.43449                         \n",
      "    5      1.117437   4.411147   21136403.674232                         \n",
      "    6      0.665317   4.380466   20829896.315324                         \n",
      "    7      0.565907   4.391373   20807680.306145                         \n",
      "\n"
     ]
    },
    {
     "data": {
      "text/plain": [
       "[4.391372700976275, 20807680.306145314]"
      ]
     },
     "execution_count": 82,
     "metadata": {},
     "output_type": "execute_result"
    }
   ],
   "source": [
    "m.fit(lr, 2, metrics=[exp_rmse], cycle_len=4)"
   ]
  },
  {
   "cell_type": "markdown",
   "metadata": {
    "heading_collapsed": true
   },
   "source": [
    "### All"
   ]
  },
  {
   "cell_type": "code",
   "execution_count": 167,
   "metadata": {
    "hidden": true
   },
   "outputs": [],
   "source": [
    "m = md.get_learner(emb_szs, len(df.columns)-len(cat_vars),\n",
    "                   0.04, 1, [1000,500], [0.001,0.01], y_range=y_range)\n",
    "lr = 1e-3"
   ]
  },
  {
   "cell_type": "code",
   "execution_count": 169,
   "metadata": {
    "hidden": true
   },
   "outputs": [
    {
     "data": {
      "application/vnd.jupyter.widget-view+json": {
       "model_id": "ee090963e5034ea6a3e9c9dc7d97ca43",
       "version_major": 2,
       "version_minor": 0
      },
      "text/plain": [
       "HBox(children=(IntProgress(value=0, description='Epoch: ', max=1), HTML(value='')))"
      ]
     },
     "metadata": {},
     "output_type": "display_data"
    },
    {
     "name": "stdout",
     "output_type": "stream",
     "text": [
      "  1%|          | 7/684 [00:00<00:33, 20.24it/s, loss=3.61, refresh=0]"
     ]
    },
    {
     "name": "stderr",
     "output_type": "stream",
     "text": [
      "/home/borowis/.pyenv/versions/3.6.6/lib/python3.6/site-packages/torch/nn/functional.py:1006: UserWarning: nn.functional.sigmoid is deprecated. Use torch.sigmoid instead.\n",
      "  warnings.warn(\"nn.functional.sigmoid is deprecated. Use torch.sigmoid instead.\")\n"
     ]
    },
    {
     "name": "stdout",
     "output_type": "stream",
     "text": [
      "epoch      trn_loss   val_loss   exp_rmse                              \n",
      "    0      2.686182   3.165657   1.536199  \n",
      "\n"
     ]
    },
    {
     "data": {
      "text/plain": [
       "[3.1656565242478942, 1.536199312344584]"
      ]
     },
     "execution_count": 169,
     "metadata": {},
     "output_type": "execute_result"
    }
   ],
   "source": [
    "m.fit(lr, 1, metrics=[exp_rmse])"
   ]
  },
  {
   "cell_type": "code",
   "execution_count": 170,
   "metadata": {
    "hidden": true
   },
   "outputs": [
    {
     "data": {
      "application/vnd.jupyter.widget-view+json": {
       "model_id": "a47384ed3afe4a6d9a6cac7a56ea890e",
       "version_major": 2,
       "version_minor": 0
      },
      "text/plain": [
       "HBox(children=(IntProgress(value=0, description='Epoch: ', max=3), HTML(value='')))"
      ]
     },
     "metadata": {},
     "output_type": "display_data"
    },
    {
     "name": "stdout",
     "output_type": "stream",
     "text": [
      "  1%|          | 6/684 [00:00<00:55, 12.16it/s, loss=2.63, refresh=0]"
     ]
    },
    {
     "name": "stderr",
     "output_type": "stream",
     "text": [
      "/home/borowis/.pyenv/versions/3.6.6/lib/python3.6/site-packages/torch/nn/functional.py:1006: UserWarning: nn.functional.sigmoid is deprecated. Use torch.sigmoid instead.\n",
      "  warnings.warn(\"nn.functional.sigmoid is deprecated. Use torch.sigmoid instead.\")\n"
     ]
    },
    {
     "name": "stdout",
     "output_type": "stream",
     "text": [
      "epoch      trn_loss   val_loss   exp_rmse                              \n",
      "    0      2.529801   3.158463   1.529859  \n",
      "    1      2.595887   3.162318   1.532897                              \n",
      "    2      2.422789   3.081336   1.511965                              \n",
      "\n"
     ]
    },
    {
     "data": {
      "text/plain": [
       "[3.081336441784096, 1.5119647840770916]"
      ]
     },
     "execution_count": 170,
     "metadata": {},
     "output_type": "execute_result"
    }
   ],
   "source": [
    "m.fit(lr, 3, metrics=[exp_rmse])"
   ]
  },
  {
   "cell_type": "code",
   "execution_count": 171,
   "metadata": {
    "hidden": true
   },
   "outputs": [
    {
     "data": {
      "application/vnd.jupyter.widget-view+json": {
       "model_id": "3943b673dbc2490e876fcf68565ff830",
       "version_major": 2,
       "version_minor": 0
      },
      "text/plain": [
       "HBox(children=(IntProgress(value=0, description='Epoch: ', max=3), HTML(value='')))"
      ]
     },
     "metadata": {},
     "output_type": "display_data"
    },
    {
     "name": "stdout",
     "output_type": "stream",
     "text": [
      "  0%|          | 2/684 [00:00<01:11,  9.53it/s, loss=2.13, refresh=0]"
     ]
    },
    {
     "name": "stderr",
     "output_type": "stream",
     "text": [
      "/home/borowis/.pyenv/versions/3.6.6/lib/python3.6/site-packages/torch/nn/functional.py:1006: UserWarning: nn.functional.sigmoid is deprecated. Use torch.sigmoid instead.\n",
      "  warnings.warn(\"nn.functional.sigmoid is deprecated. Use torch.sigmoid instead.\")\n"
     ]
    },
    {
     "name": "stdout",
     "output_type": "stream",
     "text": [
      "epoch      trn_loss   val_loss   exp_rmse                              \n",
      "    0      2.290898   3.056639   1.508351  \n",
      "    1      2.252881   3.082007   1.514969                              \n",
      "    2      2.214176   3.102704   1.518209                              \n",
      "\n"
     ]
    },
    {
     "data": {
      "text/plain": [
       "[3.1027043314143454, 1.5182094924101746]"
      ]
     },
     "execution_count": 171,
     "metadata": {},
     "output_type": "execute_result"
    }
   ],
   "source": [
    "m.fit(lr, 3, metrics=[exp_rmse], cycle_len=1)"
   ]
  },
  {
   "cell_type": "code",
   "execution_count": 105,
   "metadata": {},
   "outputs": [
    {
     "data": {
      "application/vnd.jupyter.widget-view+json": {
       "model_id": "defacecab25148eea37b662807d303f0",
       "version_major": 2,
       "version_minor": 0
      },
      "text/plain": [
       "HBox(children=(IntProgress(value=0, description='Epoch: ', max=8), HTML(value='')))"
      ]
     },
     "metadata": {},
     "output_type": "display_data"
    },
    {
     "name": "stdout",
     "output_type": "stream",
     "text": [
      "  0%|          | 17/4947 [00:00<01:05, 74.86it/s, loss=2.5, refresh=0]"
     ]
    },
    {
     "name": "stderr",
     "output_type": "stream",
     "text": [
      "/home/borowis/.pyenv/versions/3.6.6/lib/python3.6/site-packages/torch/nn/functional.py:1006: UserWarning: nn.functional.sigmoid is deprecated. Use torch.sigmoid instead.\n",
      "  warnings.warn(\"nn.functional.sigmoid is deprecated. Use torch.sigmoid instead.\")\n"
     ]
    },
    {
     "name": "stdout",
     "output_type": "stream",
     "text": [
      "epoch      trn_loss   val_loss   exp_rmse                                 \n",
      "    0      2.23963    3.176344   15039868.521379\n",
      "    1      2.063369   3.120254   15152533.877355                          \n",
      "    2      1.97515    3.128007   15065889.855981                          \n",
      "    3      2.057636   3.140883   15104336.462161                          \n",
      "    4      2.094354   3.273678   15079626.233435                          \n",
      "    5      1.94008    3.235933   15096906.809126                          \n",
      "    6      1.560443   3.246335   15384372.075902                          \n",
      "    7      1.657346   3.233075   15519867.082087                          \n",
      "\n"
     ]
    },
    {
     "data": {
      "text/plain": [
       "[3.2330754242911475, 15519867.082086653]"
      ]
     },
     "execution_count": 105,
     "metadata": {},
     "output_type": "execute_result"
    }
   ],
   "source": [
    "m.fit(lr, 2, metrics=[exp_rmse], cycle_len=4)"
   ]
  },
  {
   "cell_type": "markdown",
   "metadata": {
    "heading_collapsed": true
   },
   "source": [
    "### Test"
   ]
  },
  {
   "cell_type": "code",
   "execution_count": 172,
   "metadata": {
    "hidden": true
   },
   "outputs": [],
   "source": [
    "m = md.get_learner(emb_szs, len(df.columns)-len(cat_vars),\n",
    "                   0.04, 1, [1000,500], [0.001,0.01], y_range=y_range)\n",
    "lr = 1e-3"
   ]
  },
  {
   "cell_type": "code",
   "execution_count": 173,
   "metadata": {
    "hidden": true
   },
   "outputs": [
    {
     "data": {
      "application/vnd.jupyter.widget-view+json": {
       "model_id": "b35eaf73ebd64c0691134264d5925c22",
       "version_major": 2,
       "version_minor": 0
      },
      "text/plain": [
       "HBox(children=(IntProgress(value=0, description='Epoch: ', max=3), HTML(value='')))"
      ]
     },
     "metadata": {},
     "output_type": "display_data"
    },
    {
     "name": "stdout",
     "output_type": "stream",
     "text": [
      "  1%|          | 6/684 [00:00<00:55, 12.14it/s, loss=54, refresh=0] "
     ]
    },
    {
     "name": "stderr",
     "output_type": "stream",
     "text": [
      "/home/borowis/.pyenv/versions/3.6.6/lib/python3.6/site-packages/torch/nn/functional.py:1006: UserWarning: nn.functional.sigmoid is deprecated. Use torch.sigmoid instead.\n",
      "  warnings.warn(\"nn.functional.sigmoid is deprecated. Use torch.sigmoid instead.\")\n"
     ]
    },
    {
     "name": "stdout",
     "output_type": "stream",
     "text": [
      "epoch      trn_loss   val_loss   exp_rmse                              \n",
      "    0      3.832769   4.871574   1.89142   \n",
      "    1      3.867162   4.871574   1.89142                               \n",
      "    2      3.803354   4.871573   1.891428                              \n",
      "\n"
     ]
    },
    {
     "data": {
      "text/plain": [
       "[4.871573381266354, 1.8914283531882765]"
      ]
     },
     "execution_count": 173,
     "metadata": {},
     "output_type": "execute_result"
    }
   ],
   "source": [
    "m.fit(lr, 3, metrics=[exp_rmse])"
   ]
  },
  {
   "cell_type": "code",
   "execution_count": 174,
   "metadata": {
    "hidden": true
   },
   "outputs": [
    {
     "data": {
      "application/vnd.jupyter.widget-view+json": {
       "model_id": "da77fd5aa6dd48bcacc95fde855539d4",
       "version_major": 2,
       "version_minor": 0
      },
      "text/plain": [
       "HBox(children=(IntProgress(value=0, description='Epoch: ', max=3), HTML(value='')))"
      ]
     },
     "metadata": {},
     "output_type": "display_data"
    },
    {
     "name": "stdout",
     "output_type": "stream",
     "text": [
      "  1%|          | 6/684 [00:00<00:53, 12.57it/s, loss=4.88, refresh=0]"
     ]
    },
    {
     "name": "stderr",
     "output_type": "stream",
     "text": [
      "/home/borowis/.pyenv/versions/3.6.6/lib/python3.6/site-packages/torch/nn/functional.py:1006: UserWarning: nn.functional.sigmoid is deprecated. Use torch.sigmoid instead.\n",
      "  warnings.warn(\"nn.functional.sigmoid is deprecated. Use torch.sigmoid instead.\")\n"
     ]
    },
    {
     "name": "stdout",
     "output_type": "stream",
     "text": [
      "epoch      trn_loss   val_loss   exp_rmse                              \n",
      "    0      2.602953   3.109517   1.52319   \n",
      "    1      2.607564   3.066464   1.512372                              \n",
      "    2      2.513402   3.054838   1.509081                              \n",
      "\n"
     ]
    },
    {
     "data": {
      "text/plain": [
       "[3.054838369553516, 1.50908105609361]"
      ]
     },
     "execution_count": 174,
     "metadata": {},
     "output_type": "execute_result"
    }
   ],
   "source": [
    "m.fit(lr, 3, metrics=[exp_rmse], cycle_len=1)"
   ]
  },
  {
   "cell_type": "code",
   "execution_count": null,
   "metadata": {
    "hidden": true
   },
   "outputs": [],
   "source": [
    "m.save('val0')"
   ]
  },
  {
   "cell_type": "code",
   "execution_count": null,
   "metadata": {
    "hidden": true
   },
   "outputs": [],
   "source": [
    "m.load('val0')"
   ]
  },
  {
   "cell_type": "code",
   "execution_count": 175,
   "metadata": {
    "hidden": true
   },
   "outputs": [
    {
     "name": "stderr",
     "output_type": "stream",
     "text": [
      "/home/borowis/.pyenv/versions/3.6.6/lib/python3.6/site-packages/torch/nn/functional.py:1006: UserWarning: nn.functional.sigmoid is deprecated. Use torch.sigmoid instead.\n",
      "  warnings.warn(\"nn.functional.sigmoid is deprecated. Use torch.sigmoid instead.\")\n"
     ]
    }
   ],
   "source": [
    "x,y=m.predict_with_targs()"
   ]
  },
  {
   "cell_type": "code",
   "execution_count": 176,
   "metadata": {
    "hidden": true
   },
   "outputs": [
    {
     "data": {
      "text/plain": [
       "1.7478097424484536"
      ]
     },
     "execution_count": 176,
     "metadata": {},
     "output_type": "execute_result"
    }
   ],
   "source": [
    "exp_rmse(x,y)"
   ]
  },
  {
   "cell_type": "code",
   "execution_count": 177,
   "metadata": {
    "hidden": true
   },
   "outputs": [
    {
     "name": "stderr",
     "output_type": "stream",
     "text": [
      "/home/borowis/.pyenv/versions/3.6.6/lib/python3.6/site-packages/torch/nn/functional.py:1006: UserWarning: nn.functional.sigmoid is deprecated. Use torch.sigmoid instead.\n",
      "  warnings.warn(\"nn.functional.sigmoid is deprecated. Use torch.sigmoid instead.\")\n"
     ]
    }
   ],
   "source": [
    "pred_test=m.predict(True)"
   ]
  },
  {
   "cell_type": "code",
   "execution_count": 178,
   "metadata": {},
   "outputs": [],
   "source": [
    "submission = test[['fullVisitorId']].copy()\n",
    "submission.loc[:, 'PredictedLogRevenue'] = pred_test\n",
    "submission[\"PredictedLogRevenue\"] = submission[\"PredictedLogRevenue\"].apply(lambda x : 0.0 if x < 0 else x)\n",
    "submission[\"PredictedLogRevenue\"] = submission[\"PredictedLogRevenue\"].fillna(0.0)\n",
    "grouped_test = submission[['fullVisitorId', 'PredictedLogRevenue']].groupby('fullVisitorId').sum().reset_index()\n",
    "#grouped_test[\"PredictedLogRevenue\"] = np.log1p(grouped_test[\"PredictedLogRevenue\"])\n",
    "grouped_test.to_csv(f'{PATH}tmp/sub.csv', index=False)"
   ]
  },
  {
   "cell_type": "code",
   "execution_count": null,
   "metadata": {
    "hidden": true
   },
   "outputs": [],
   "source": [
    "FileLink(csv_fn)"
   ]
  }
 ],
 "metadata": {
  "anaconda-cloud": {},
  "kernelspec": {
   "display_name": "Python 3",
   "language": "python",
   "name": "python3"
  },
  "language_info": {
   "codemirror_mode": {
    "name": "ipython",
    "version": 3
   },
   "file_extension": ".py",
   "mimetype": "text/x-python",
   "name": "python",
   "nbconvert_exporter": "python",
   "pygments_lexer": "ipython3",
   "version": "3.6.6"
  },
  "toc": {
   "colors": {
    "hover_highlight": "#DAA520",
    "navigate_num": "#000000",
    "navigate_text": "#333333",
    "running_highlight": "#FF0000",
    "selected_highlight": "#FFD700",
    "sidebar_border": "#EEEEEE",
    "wrapper_background": "#FFFFFF"
   },
   "moveMenuLeft": true,
   "nav_menu": {
    "height": "173px",
    "width": "251px"
   },
   "navigate_menu": true,
   "number_sections": true,
   "sideBar": true,
   "threshold": 4,
   "toc_cell": false,
   "toc_section_display": "block",
   "toc_window_display": false,
   "widenNotebook": false
  }
 },
 "nbformat": 4,
 "nbformat_minor": 2
}
