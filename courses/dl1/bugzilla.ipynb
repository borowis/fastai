{
 "cells": [
  {
   "cell_type": "code",
   "execution_count": 1,
   "metadata": {},
   "outputs": [
    {
     "name": "stderr",
     "output_type": "stream",
     "text": [
      "/home/borowis/.pyenv/versions/3.6.6/lib/python3.6/site-packages/sklearn/ensemble/weight_boosting.py:29: DeprecationWarning: numpy.core.umath_tests is an internal NumPy module and should not be imported. It will be removed in a future NumPy release.\n",
      "  from numpy.core.umath_tests import inner1d\n"
     ]
    }
   ],
   "source": [
    "%reload_ext autoreload\n",
    "%autoreload 2\n",
    "%matplotlib inline\n",
    "\n",
    "from fastai.model import fit\n",
    "from fastai.dataset import *\n",
    "\n",
    "import torchtext\n",
    "from torchtext import vocab, data\n",
    "from torchtext.datasets import language_modeling\n",
    "\n",
    "from fastai.rnn_reg import *\n",
    "from fastai.rnn_train import *\n",
    "from fastai.nlp import *\n",
    "from fastai.lm_rnn import *\n",
    "\n",
    "import dill as pickle\n",
    "import random"
   ]
  },
  {
   "cell_type": "code",
   "execution_count": 2,
   "metadata": {},
   "outputs": [],
   "source": [
    "bs,bptt = 32,70"
   ]
  },
  {
   "cell_type": "markdown",
   "metadata": {},
   "source": [
    "# Prepare data for fast.ai"
   ]
  },
  {
   "cell_type": "code",
   "execution_count": 3,
   "metadata": {},
   "outputs": [],
   "source": [
    "PATH = \"/home/borowis/s3/data/\""
   ]
  },
  {
   "cell_type": "code",
   "execution_count": 4,
   "metadata": {},
   "outputs": [
    {
     "name": "stdout",
     "output_type": "stream",
     "text": [
      "total 575036\r\n",
      "drwxr-xr-x 5 borowis borowis      4096 Oct 24 20:34 .\r\n",
      "drwxr-xr-x 4 borowis borowis      4096 Oct 24 20:25 ..\r\n",
      "drwxr-xr-x 7 borowis borowis      4096 Oct 24 21:17 all\r\n",
      "drwxr-xr-x 4 borowis borowis      4096 Oct 24 20:34 bugs\r\n",
      "-rw-r--r-- 1 borowis borowis   1818381 Sep 29 15:45 bugs-local-ground-truth.csv\r\n",
      "-rw-r--r-- 1 borowis borowis  24808206 Sep 29 15:45 bugs-local-testing.csv\r\n",
      "-rw-r--r-- 1 borowis borowis  20089763 Sep 29 15:45 bugs-testing.csv\r\n",
      "-rw-r--r-- 1 borowis borowis  59836175 Sep 29 15:45 bugs-training.csv\r\n",
      "-rw-r--r-- 1 borowis borowis       601 Sep 25 20:58 classifications.csv\r\n",
      "-rw-r--r-- 1 borowis borowis    274985 Sep 29 15:42 components.csv\r\n",
      "-rw-r--r-- 1 borowis borowis 473785984 Sep 26 21:50 longdescs.csv\r\n",
      "drwxr-xr-x 2 borowis borowis      4096 Oct 24 21:13 models\r\n",
      "-rw-r--r-- 1 borowis borowis     25154 Sep 25 21:00 products.csv\r\n",
      "-rw-r--r-- 1 borowis borowis   8089305 Oct  2 19:34 profiles.csv\r\n",
      "-rw-r--r-- 1 borowis borowis     64987 Sep 25 20:59 versions.csv\r\n"
     ]
    }
   ],
   "source": [
    "!ls -al {PATH}"
   ]
  },
  {
   "cell_type": "code",
   "execution_count": 5,
   "metadata": {},
   "outputs": [],
   "source": [
    "df_components = pd.read_csv(PATH + 'components.csv')"
   ]
  },
  {
   "cell_type": "code",
   "execution_count": 7,
   "metadata": {},
   "outputs": [],
   "source": [
    "df_bugs_training = pd.read_csv(PATH + 'bugs-training.csv')\n",
    "df_bugs_testing = pd.read_csv(PATH + 'bugs-testing.csv')"
   ]
  },
  {
   "cell_type": "code",
   "execution_count": 8,
   "metadata": {},
   "outputs": [],
   "source": [
    "df_description = pd.read_csv(PATH + 'longdescs.csv')"
   ]
  },
  {
   "cell_type": "code",
   "execution_count": 9,
   "metadata": {},
   "outputs": [
    {
     "data": {
      "text/html": [
       "<div>\n",
       "<style scoped>\n",
       "    .dataframe tbody tr th:only-of-type {\n",
       "        vertical-align: middle;\n",
       "    }\n",
       "\n",
       "    .dataframe tbody tr th {\n",
       "        vertical-align: top;\n",
       "    }\n",
       "\n",
       "    .dataframe thead th {\n",
       "        text-align: right;\n",
       "    }\n",
       "</style>\n",
       "<table border=\"1\" class=\"dataframe\">\n",
       "  <thead>\n",
       "    <tr style=\"text-align: right;\">\n",
       "      <th></th>\n",
       "      <th>name</th>\n",
       "      <th>description</th>\n",
       "      <th>product_id</th>\n",
       "      <th>id</th>\n",
       "      <th>isactive</th>\n",
       "      <th>scoring_weight</th>\n",
       "    </tr>\n",
       "  </thead>\n",
       "  <tbody>\n",
       "    <tr>\n",
       "      <th>0</th>\n",
       "      <td>Build Config</td>\n",
       "      <td>For bugs that result from SeaMonkey build prob...</td>\n",
       "      <td>25</td>\n",
       "      <td>3</td>\n",
       "      <td>1</td>\n",
       "      <td>0.25</td>\n",
       "    </tr>\n",
       "    <tr>\n",
       "      <th>1</th>\n",
       "      <td>GFX</td>\n",
       "      <td>Cross platform rendering interfaces and cross ...</td>\n",
       "      <td>49</td>\n",
       "      <td>4</td>\n",
       "      <td>1</td>\n",
       "      <td>0.25</td>\n",
       "    </tr>\n",
       "    <tr>\n",
       "      <th>2</th>\n",
       "      <td>Networking: Cookies</td>\n",
       "      <td>A general mechanism which server side connecti...</td>\n",
       "      <td>1</td>\n",
       "      <td>5</td>\n",
       "      <td>1</td>\n",
       "      <td>1.00</td>\n",
       "    </tr>\n",
       "    <tr>\n",
       "      <th>3</th>\n",
       "      <td>DOM: Core &amp; HTML</td>\n",
       "      <td>This component includes all functionality rela...</td>\n",
       "      <td>1</td>\n",
       "      <td>6</td>\n",
       "      <td>1</td>\n",
       "      <td>1.00</td>\n",
       "    </tr>\n",
       "    <tr>\n",
       "      <th>4</th>\n",
       "      <td>DOM</td>\n",
       "      <td>For bugs in &lt;a href=\"http://www.w3.org/DOM/\" t...</td>\n",
       "      <td>1</td>\n",
       "      <td>7</td>\n",
       "      <td>1</td>\n",
       "      <td>1.00</td>\n",
       "    </tr>\n",
       "  </tbody>\n",
       "</table>\n",
       "</div>"
      ],
      "text/plain": [
       "                  name                                        description  \\\n",
       "0         Build Config  For bugs that result from SeaMonkey build prob...   \n",
       "1                  GFX  Cross platform rendering interfaces and cross ...   \n",
       "2  Networking: Cookies  A general mechanism which server side connecti...   \n",
       "3     DOM: Core & HTML  This component includes all functionality rela...   \n",
       "4                  DOM  For bugs in <a href=\"http://www.w3.org/DOM/\" t...   \n",
       "\n",
       "   product_id  id  isactive  scoring_weight  \n",
       "0          25   3         1            0.25  \n",
       "1          49   4         1            0.25  \n",
       "2           1   5         1            1.00  \n",
       "3           1   6         1            1.00  \n",
       "4           1   7         1            1.00  "
      ]
     },
     "execution_count": 9,
     "metadata": {},
     "output_type": "execute_result"
    }
   ],
   "source": [
    "df_components.head()"
   ]
  },
  {
   "cell_type": "code",
   "execution_count": 10,
   "metadata": {},
   "outputs": [
    {
     "data": {
      "text/html": [
       "<div>\n",
       "<style scoped>\n",
       "    .dataframe tbody tr th:only-of-type {\n",
       "        vertical-align: middle;\n",
       "    }\n",
       "\n",
       "    .dataframe tbody tr th {\n",
       "        vertical-align: top;\n",
       "    }\n",
       "\n",
       "    .dataframe thead th {\n",
       "        text-align: right;\n",
       "    }\n",
       "</style>\n",
       "<table border=\"1\" class=\"dataframe\">\n",
       "  <thead>\n",
       "    <tr style=\"text-align: right;\">\n",
       "      <th></th>\n",
       "      <th>bug_id</th>\n",
       "      <th>short_desc</th>\n",
       "      <th>creation_ts</th>\n",
       "      <th>reporter</th>\n",
       "      <th>rep_platform</th>\n",
       "      <th>op_sys</th>\n",
       "      <th>assigned_to</th>\n",
       "      <th>version</th>\n",
       "      <th>component_id</th>\n",
       "    </tr>\n",
       "  </thead>\n",
       "  <tbody>\n",
       "    <tr>\n",
       "      <th>0</th>\n",
       "      <td>771351</td>\n",
       "      <td>disallow plugins in popup panels gracefully</td>\n",
       "      <td>2012-07-06 00:03:43</td>\n",
       "      <td>255010</td>\n",
       "      <td>All</td>\n",
       "      <td>All</td>\n",
       "      <td>255010</td>\n",
       "      <td>Trunk</td>\n",
       "      <td>299</td>\n",
       "    </tr>\n",
       "    <tr>\n",
       "      <th>1</th>\n",
       "      <td>771352</td>\n",
       "      <td>turn off iframe features ala browserid sandbox</td>\n",
       "      <td>2012-07-06 00:06:46</td>\n",
       "      <td>436630</td>\n",
       "      <td>x86</td>\n",
       "      <td>Mac OS X</td>\n",
       "      <td>1</td>\n",
       "      <td>unspecified</td>\n",
       "      <td>1453</td>\n",
       "    </tr>\n",
       "    <tr>\n",
       "      <th>2</th>\n",
       "      <td>771353</td>\n",
       "      <td>Security documentation for Social Integration ...</td>\n",
       "      <td>2012-07-06 00:07:51</td>\n",
       "      <td>436630</td>\n",
       "      <td>x86</td>\n",
       "      <td>Mac OS X</td>\n",
       "      <td>1</td>\n",
       "      <td>unspecified</td>\n",
       "      <td>1453</td>\n",
       "    </tr>\n",
       "    <tr>\n",
       "      <th>3</th>\n",
       "      <td>771354</td>\n",
       "      <td>Loading remote xul crashes gecko</td>\n",
       "      <td>2012-07-06 00:08:04</td>\n",
       "      <td>418814</td>\n",
       "      <td>All</td>\n",
       "      <td>All</td>\n",
       "      <td>313730</td>\n",
       "      <td>Trunk</td>\n",
       "      <td>132</td>\n",
       "    </tr>\n",
       "    <tr>\n",
       "      <th>4</th>\n",
       "      <td>771355</td>\n",
       "      <td>[Fx14] l10n Android Mobile What's New Page</td>\n",
       "      <td>2012-07-06 00:09:45</td>\n",
       "      <td>387900</td>\n",
       "      <td>x86</td>\n",
       "      <td>Mac OS X</td>\n",
       "      <td>24572</td>\n",
       "      <td>unspecified</td>\n",
       "      <td>1526</td>\n",
       "    </tr>\n",
       "  </tbody>\n",
       "</table>\n",
       "</div>"
      ],
      "text/plain": [
       "   bug_id                                         short_desc  \\\n",
       "0  771351        disallow plugins in popup panels gracefully   \n",
       "1  771352     turn off iframe features ala browserid sandbox   \n",
       "2  771353  Security documentation for Social Integration ...   \n",
       "3  771354                   Loading remote xul crashes gecko   \n",
       "4  771355         [Fx14] l10n Android Mobile What's New Page   \n",
       "\n",
       "           creation_ts  reporter rep_platform    op_sys  assigned_to  \\\n",
       "0  2012-07-06 00:03:43    255010          All       All       255010   \n",
       "1  2012-07-06 00:06:46    436630          x86  Mac OS X            1   \n",
       "2  2012-07-06 00:07:51    436630          x86  Mac OS X            1   \n",
       "3  2012-07-06 00:08:04    418814          All       All       313730   \n",
       "4  2012-07-06 00:09:45    387900          x86  Mac OS X        24572   \n",
       "\n",
       "       version  component_id  \n",
       "0        Trunk           299  \n",
       "1  unspecified          1453  \n",
       "2  unspecified          1453  \n",
       "3        Trunk           132  \n",
       "4  unspecified          1526  "
      ]
     },
     "execution_count": 10,
     "metadata": {},
     "output_type": "execute_result"
    }
   ],
   "source": [
    "df_bugs_training.head()"
   ]
  },
  {
   "cell_type": "code",
   "execution_count": 11,
   "metadata": {},
   "outputs": [
    {
     "data": {
      "text/html": [
       "<div>\n",
       "<style scoped>\n",
       "    .dataframe tbody tr th:only-of-type {\n",
       "        vertical-align: middle;\n",
       "    }\n",
       "\n",
       "    .dataframe tbody tr th {\n",
       "        vertical-align: top;\n",
       "    }\n",
       "\n",
       "    .dataframe thead th {\n",
       "        text-align: right;\n",
       "    }\n",
       "</style>\n",
       "<table border=\"1\" class=\"dataframe\">\n",
       "  <thead>\n",
       "    <tr style=\"text-align: right;\">\n",
       "      <th></th>\n",
       "      <th>bug_id</th>\n",
       "      <th>short_desc</th>\n",
       "      <th>creation_ts</th>\n",
       "      <th>reporter</th>\n",
       "      <th>rep_platform</th>\n",
       "      <th>op_sys</th>\n",
       "    </tr>\n",
       "  </thead>\n",
       "  <tbody>\n",
       "    <tr>\n",
       "      <th>0</th>\n",
       "      <td>1425503</td>\n",
       "      <td>Float first-letter negative margin-bottom (dro...</td>\n",
       "      <td>2017-12-15 19:03:51</td>\n",
       "      <td>571010</td>\n",
       "      <td>Unspecified</td>\n",
       "      <td>Unspecified</td>\n",
       "    </tr>\n",
       "    <tr>\n",
       "      <th>1</th>\n",
       "      <td>1338432</td>\n",
       "      <td>t-w864-ix-086 problem tracking</td>\n",
       "      <td>2017-02-10 05:54:44</td>\n",
       "      <td>135518</td>\n",
       "      <td>x86_64</td>\n",
       "      <td>Windows 8</td>\n",
       "    </tr>\n",
       "    <tr>\n",
       "      <th>2</th>\n",
       "      <td>1325240</td>\n",
       "      <td>Failure in conformance2/programs/gl-get-frag-d...</td>\n",
       "      <td>2016-12-22 01:40:07</td>\n",
       "      <td>419431</td>\n",
       "      <td>Unspecified</td>\n",
       "      <td>Unspecified</td>\n",
       "    </tr>\n",
       "    <tr>\n",
       "      <th>3</th>\n",
       "      <td>1350050</td>\n",
       "      <td>Remove a bunch of unnecessary casts in Content...</td>\n",
       "      <td>2017-03-23 20:43:34</td>\n",
       "      <td>546716</td>\n",
       "      <td>Unspecified</td>\n",
       "      <td>Unspecified</td>\n",
       "    </tr>\n",
       "    <tr>\n",
       "      <th>4</th>\n",
       "      <td>1399712</td>\n",
       "      <td>Frequent Windows 10 reftest/crashtest/jsreftes...</td>\n",
       "      <td>2017-09-14 05:50:54</td>\n",
       "      <td>135518</td>\n",
       "      <td>x86_64</td>\n",
       "      <td>Windows 10</td>\n",
       "    </tr>\n",
       "  </tbody>\n",
       "</table>\n",
       "</div>"
      ],
      "text/plain": [
       "    bug_id                                         short_desc  \\\n",
       "0  1425503  Float first-letter negative margin-bottom (dro...   \n",
       "1  1338432                     t-w864-ix-086 problem tracking   \n",
       "2  1325240  Failure in conformance2/programs/gl-get-frag-d...   \n",
       "3  1350050  Remove a bunch of unnecessary casts in Content...   \n",
       "4  1399712  Frequent Windows 10 reftest/crashtest/jsreftes...   \n",
       "\n",
       "           creation_ts  reporter rep_platform       op_sys  \n",
       "0  2017-12-15 19:03:51    571010  Unspecified  Unspecified  \n",
       "1  2017-02-10 05:54:44    135518       x86_64    Windows 8  \n",
       "2  2016-12-22 01:40:07    419431  Unspecified  Unspecified  \n",
       "3  2017-03-23 20:43:34    546716  Unspecified  Unspecified  \n",
       "4  2017-09-14 05:50:54    135518       x86_64   Windows 10  "
      ]
     },
     "execution_count": 11,
     "metadata": {},
     "output_type": "execute_result"
    }
   ],
   "source": [
    "df_bugs_testing.head()"
   ]
  },
  {
   "cell_type": "code",
   "execution_count": 12,
   "metadata": {},
   "outputs": [
    {
     "data": {
      "text/html": [
       "<div>\n",
       "<style scoped>\n",
       "    .dataframe tbody tr th:only-of-type {\n",
       "        vertical-align: middle;\n",
       "    }\n",
       "\n",
       "    .dataframe tbody tr th {\n",
       "        vertical-align: top;\n",
       "    }\n",
       "\n",
       "    .dataframe thead th {\n",
       "        text-align: right;\n",
       "    }\n",
       "</style>\n",
       "<table border=\"1\" class=\"dataframe\">\n",
       "  <thead>\n",
       "    <tr style=\"text-align: right;\">\n",
       "      <th></th>\n",
       "      <th>bug_id</th>\n",
       "      <th>long_desc</th>\n",
       "    </tr>\n",
       "  </thead>\n",
       "  <tbody>\n",
       "    <tr>\n",
       "      <th>0</th>\n",
       "      <td>771351</td>\n",
       "      <td>NaN</td>\n",
       "    </tr>\n",
       "    <tr>\n",
       "      <th>1</th>\n",
       "      <td>771352</td>\n",
       "      <td>The security review identified the importance ...</td>\n",
       "    </tr>\n",
       "    <tr>\n",
       "      <th>2</th>\n",
       "      <td>771353</td>\n",
       "      <td>The security review identified the importance ...</td>\n",
       "    </tr>\n",
       "    <tr>\n",
       "      <th>3</th>\n",
       "      <td>771354</td>\n",
       "      <td>We load some remote xul for Marionette unit te...</td>\n",
       "    </tr>\n",
       "    <tr>\n",
       "      <th>4</th>\n",
       "      <td>771355</td>\n",
       "      <td>Pascal - Can you help l10n this video subtitle...</td>\n",
       "    </tr>\n",
       "  </tbody>\n",
       "</table>\n",
       "</div>"
      ],
      "text/plain": [
       "   bug_id                                          long_desc\n",
       "0  771351                                                NaN\n",
       "1  771352  The security review identified the importance ...\n",
       "2  771353  The security review identified the importance ...\n",
       "3  771354  We load some remote xul for Marionette unit te...\n",
       "4  771355  Pascal - Can you help l10n this video subtitle..."
      ]
     },
     "execution_count": 12,
     "metadata": {},
     "output_type": "execute_result"
    }
   ],
   "source": [
    "df_description.head()"
   ]
  },
  {
   "cell_type": "code",
   "execution_count": 13,
   "metadata": {},
   "outputs": [],
   "source": [
    "df_bugs_training_desc = df_bugs_training.merge(df_description, how='left', on=['bug_id'])\n",
    "df_bugs_testing_desc = df_bugs_testing.merge(df_description, how='left', on=['bug_id'])\n",
    "df_bugs_training_desc[['short_desc', 'long_desc']] = df_bugs_training_desc[['short_desc', 'long_desc']].astype(str)\n",
    "df_bugs_testing_desc[['short_desc', 'long_desc']] = df_bugs_testing_desc[['short_desc', 'long_desc']].astype(str)"
   ]
  },
  {
   "cell_type": "code",
   "execution_count": 14,
   "metadata": {},
   "outputs": [
    {
     "data": {
      "text/html": [
       "<div>\n",
       "<style scoped>\n",
       "    .dataframe tbody tr th:only-of-type {\n",
       "        vertical-align: middle;\n",
       "    }\n",
       "\n",
       "    .dataframe tbody tr th {\n",
       "        vertical-align: top;\n",
       "    }\n",
       "\n",
       "    .dataframe thead th {\n",
       "        text-align: right;\n",
       "    }\n",
       "</style>\n",
       "<table border=\"1\" class=\"dataframe\">\n",
       "  <thead>\n",
       "    <tr style=\"text-align: right;\">\n",
       "      <th></th>\n",
       "      <th>bug_id</th>\n",
       "      <th>short_desc</th>\n",
       "      <th>creation_ts</th>\n",
       "      <th>reporter</th>\n",
       "      <th>rep_platform</th>\n",
       "      <th>op_sys</th>\n",
       "      <th>assigned_to</th>\n",
       "      <th>version</th>\n",
       "      <th>component_id</th>\n",
       "      <th>long_desc</th>\n",
       "    </tr>\n",
       "  </thead>\n",
       "  <tbody>\n",
       "    <tr>\n",
       "      <th>0</th>\n",
       "      <td>771351</td>\n",
       "      <td>disallow plugins in popup panels gracefully</td>\n",
       "      <td>2012-07-06 00:03:43</td>\n",
       "      <td>255010</td>\n",
       "      <td>All</td>\n",
       "      <td>All</td>\n",
       "      <td>255010</td>\n",
       "      <td>Trunk</td>\n",
       "      <td>299</td>\n",
       "      <td>nan</td>\n",
       "    </tr>\n",
       "    <tr>\n",
       "      <th>1</th>\n",
       "      <td>771352</td>\n",
       "      <td>turn off iframe features ala browserid sandbox</td>\n",
       "      <td>2012-07-06 00:06:46</td>\n",
       "      <td>436630</td>\n",
       "      <td>x86</td>\n",
       "      <td>Mac OS X</td>\n",
       "      <td>1</td>\n",
       "      <td>unspecified</td>\n",
       "      <td>1453</td>\n",
       "      <td>The security review identified the importance ...</td>\n",
       "    </tr>\n",
       "    <tr>\n",
       "      <th>2</th>\n",
       "      <td>771353</td>\n",
       "      <td>Security documentation for Social Integration ...</td>\n",
       "      <td>2012-07-06 00:07:51</td>\n",
       "      <td>436630</td>\n",
       "      <td>x86</td>\n",
       "      <td>Mac OS X</td>\n",
       "      <td>1</td>\n",
       "      <td>unspecified</td>\n",
       "      <td>1453</td>\n",
       "      <td>The security review identified the importance ...</td>\n",
       "    </tr>\n",
       "    <tr>\n",
       "      <th>3</th>\n",
       "      <td>771354</td>\n",
       "      <td>Loading remote xul crashes gecko</td>\n",
       "      <td>2012-07-06 00:08:04</td>\n",
       "      <td>418814</td>\n",
       "      <td>All</td>\n",
       "      <td>All</td>\n",
       "      <td>313730</td>\n",
       "      <td>Trunk</td>\n",
       "      <td>132</td>\n",
       "      <td>We load some remote xul for Marionette unit te...</td>\n",
       "    </tr>\n",
       "    <tr>\n",
       "      <th>4</th>\n",
       "      <td>771355</td>\n",
       "      <td>[Fx14] l10n Android Mobile What's New Page</td>\n",
       "      <td>2012-07-06 00:09:45</td>\n",
       "      <td>387900</td>\n",
       "      <td>x86</td>\n",
       "      <td>Mac OS X</td>\n",
       "      <td>24572</td>\n",
       "      <td>unspecified</td>\n",
       "      <td>1526</td>\n",
       "      <td>Pascal - Can you help l10n this video subtitle...</td>\n",
       "    </tr>\n",
       "  </tbody>\n",
       "</table>\n",
       "</div>"
      ],
      "text/plain": [
       "   bug_id                                         short_desc  \\\n",
       "0  771351        disallow plugins in popup panels gracefully   \n",
       "1  771352     turn off iframe features ala browserid sandbox   \n",
       "2  771353  Security documentation for Social Integration ...   \n",
       "3  771354                   Loading remote xul crashes gecko   \n",
       "4  771355         [Fx14] l10n Android Mobile What's New Page   \n",
       "\n",
       "           creation_ts  reporter rep_platform    op_sys  assigned_to  \\\n",
       "0  2012-07-06 00:03:43    255010          All       All       255010   \n",
       "1  2012-07-06 00:06:46    436630          x86  Mac OS X            1   \n",
       "2  2012-07-06 00:07:51    436630          x86  Mac OS X            1   \n",
       "3  2012-07-06 00:08:04    418814          All       All       313730   \n",
       "4  2012-07-06 00:09:45    387900          x86  Mac OS X        24572   \n",
       "\n",
       "       version  component_id  \\\n",
       "0        Trunk           299   \n",
       "1  unspecified          1453   \n",
       "2  unspecified          1453   \n",
       "3        Trunk           132   \n",
       "4  unspecified          1526   \n",
       "\n",
       "                                           long_desc  \n",
       "0                                                nan  \n",
       "1  The security review identified the importance ...  \n",
       "2  The security review identified the importance ...  \n",
       "3  We load some remote xul for Marionette unit te...  \n",
       "4  Pascal - Can you help l10n this video subtitle...  "
      ]
     },
     "execution_count": 14,
     "metadata": {},
     "output_type": "execute_result"
    }
   ],
   "source": [
    "df_bugs_training_desc.head()"
   ]
  },
  {
   "cell_type": "markdown",
   "metadata": {},
   "source": [
    "## Create folders and write files"
   ]
  },
  {
   "cell_type": "code",
   "execution_count": 21,
   "metadata": {},
   "outputs": [],
   "source": [
    "os.makedirs(f'{PATH}all/trn', exist_ok=True)\n",
    "os.makedirs(f'{PATH}all/val', exist_ok=True)\n",
    "os.makedirs(f'{PATH}all/test', exist_ok=True)\n",
    "os.makedirs(f'{PATH}models', exist_ok=True)"
   ]
  },
  {
   "cell_type": "code",
   "execution_count": 22,
   "metadata": {},
   "outputs": [],
   "source": [
    "for _, r in df_components.iterrows():\n",
    "    os.makedirs(f'{PATH}bugs/trn/' + str(r['id']), exist_ok=True)\n",
    "    os.makedirs(f'{PATH}bugs/val/' + str(r['id']), exist_ok=True)"
   ]
  },
  {
   "cell_type": "code",
   "execution_count": 23,
   "metadata": {},
   "outputs": [],
   "source": [
    "for _, r in df_bugs_training_desc.iterrows():\n",
    "    dset = 'trn' if random.random() > 0.1 else 'val'\n",
    "    bug_id = str(r['bug_id'])\n",
    "    component_id = str(r['component_id'])\n",
    "    open(f'{PATH}all/{dset}/{bug_id}.txt', 'w').write(r['short_desc'] + ' ' + r['long_desc'])\n",
    "    open(f'{PATH}bugs/{dset}/{component_id}/{bug_id}.txt', 'w') \\\n",
    "        .write(r['short_desc'] + ' ' + r['long_desc'])"
   ]
  },
  {
   "cell_type": "code",
   "execution_count": 24,
   "metadata": {},
   "outputs": [],
   "source": [
    "for _, r in df_bugs_testing_desc.iterrows():\n",
    "    bug_id = str(r['bug_id'])\n",
    "    open(f'{PATH}all/test/{bug_id}.txt', 'w').write(r['short_desc'] + ' ' + r['long_desc'])"
   ]
  },
  {
   "cell_type": "markdown",
   "metadata": {
    "collapsed": true
   },
   "source": [
    "## Language modeling"
   ]
  },
  {
   "cell_type": "code",
   "execution_count": 4,
   "metadata": {},
   "outputs": [],
   "source": [
    "spacy_tok = spacy.load('en')"
   ]
  },
  {
   "cell_type": "code",
   "execution_count": 5,
   "metadata": {},
   "outputs": [],
   "source": [
    "TEXT = data.Field(lower=True, tokenize='spacy')\n",
    "FILES = dict(train='trn', validation='val', test='test')"
   ]
  },
  {
   "cell_type": "code",
   "execution_count": 7,
   "metadata": {},
   "outputs": [],
   "source": [
    "md = LanguageModelData.from_text_files(f'{PATH}all/', TEXT, **FILES, bs=bs, bptt=bptt, min_freq=10)"
   ]
  },
  {
   "cell_type": "code",
   "execution_count": 6,
   "metadata": {},
   "outputs": [],
   "source": [
    "#pickle.dump(TEXT, open(f'{PATH}models/TEXT.pkl','wb'))\n",
    "TEXT = pickle.load(open(f'{PATH}models/TEXT.pkl','rb'))"
   ]
  },
  {
   "cell_type": "code",
   "execution_count": 8,
   "metadata": {},
   "outputs": [
    {
     "data": {
      "text/plain": [
       "(24335, 162041, 1, 54513350)"
      ]
     },
     "execution_count": 8,
     "metadata": {},
     "output_type": "execute_result"
    }
   ],
   "source": [
    "len(md.trn_dl), md.nt, len(md.trn_ds), len(md.trn_ds[0].text)"
   ]
  },
  {
   "cell_type": "code",
   "execution_count": 17,
   "metadata": {
    "scrolled": true
   },
   "outputs": [
    {
     "data": {
      "text/plain": [
       "['<unk>', '<pad>', '/', ':', '-', 'the', '.', ',', '=', ')', 'to', '\"']"
      ]
     },
     "execution_count": 17,
     "metadata": {},
     "output_type": "execute_result"
    }
   ],
   "source": [
    "TEXT.vocab.itos[:12]"
   ]
  },
  {
   "cell_type": "code",
   "execution_count": 18,
   "metadata": {},
   "outputs": [
    {
     "data": {
      "text/plain": [
       "'file bugs for new integration tests https://github.com/mozilla/webmaker-tests has a good set of integration tests for webmaker.org . but the webqa community needs more to work on ! so this bug ... is about filing more bugs . <eos> mozactivity - new email - does n\\'t get \" body \" passing \" body \" to the mozactivity results in \" undefined \" in the email compose window . <eos> possible bug in end_to_end_reconfig.sh when using -p option ? from : simone bruno < simone@mozilla.com > subject : maybe a bug in your end_to_end_reconfig script date : thu , 5 jun 2014 21:12:47 + 0200 to : peter moore < pmoore@mozilla.com > hey pete , you know yesterday i run a reconfig using your script . today i run a dry - run reconfig ( -p ) option , and the list of changes which would have been brought live partially overlapped'"
      ]
     },
     "execution_count": 18,
     "metadata": {},
     "output_type": "execute_result"
    }
   ],
   "source": [
    "' '.join(md.trn_ds[0].text[:150])"
   ]
  },
  {
   "cell_type": "markdown",
   "metadata": {
    "heading_collapsed": true
   },
   "source": [
    "### Train"
   ]
  },
  {
   "cell_type": "code",
   "execution_count": 9,
   "metadata": {
    "hidden": true
   },
   "outputs": [],
   "source": [
    "em_sz = 200\n",
    "nh = 500\n",
    "nl = 3\n",
    "opt_fn = partial(optim.Adam, betas=(0.7, 0.99))"
   ]
  },
  {
   "cell_type": "code",
   "execution_count": 12,
   "metadata": {},
   "outputs": [],
   "source": [
    "drops = np.array([0.1, 0.15, 0.25, 0.02, 0.2])*0.9\n",
    "# 0.07 0.105 0.175 0.014 0.14 \n",
    "# 0.08 0.12  0.2   0.016 0.16\n",
    "# 0.09 0.135 0.225 0.018 0.18"
   ]
  },
  {
   "cell_type": "code",
   "execution_count": 13,
   "metadata": {
    "hidden": true
   },
   "outputs": [],
   "source": [
    "learner = md.get_model(opt_fn, em_sz, nh, nl,\n",
    "    dropout=drops[0], dropouth=drops[1], dropouti=drops[2], dropoute=drops[3], wdrop=drops[4])\n",
    "#    dropout=0.05, dropouth=0.1, dropouti=0.05, dropoute=0.02, wdrop=0.2)\n",
    "# dropout=0.4, dropouth=0.3, dropouti=0.65, dropoute=0.1, wdrop=0.5\n",
    "#                dropouti=0.05, dropout=0.05, wdrop=0.1, dropoute=0.02, dropouth=0.05)\n",
    "learner.reg_fn = partial(seq2seq_reg, alpha=2, beta=1)\n",
    "learner.clip=0.3"
   ]
  },
  {
   "cell_type": "code",
   "execution_count": 14,
   "metadata": {},
   "outputs": [
    {
     "data": {
      "application/vnd.jupyter.widget-view+json": {
       "model_id": "05a191f79ce7496f954f8a72148cfc5f",
       "version_major": 2,
       "version_minor": 0
      },
      "text/plain": [
       "HBox(children=(IntProgress(value=0, description='Epoch: ', max=1), HTML(value='')))"
      ]
     },
     "metadata": {},
     "output_type": "display_data"
    },
    {
     "name": "stdout",
     "output_type": "stream",
     "text": [
      " 69%|██████▊   | 16689/24335 [38:37<18:17,  6.97it/s, loss=15.9, refresh=0]"
     ]
    }
   ],
   "source": [
    "learner.lr_find()"
   ]
  },
  {
   "cell_type": "code",
   "execution_count": 15,
   "metadata": {},
   "outputs": [
    {
     "data": {
      "image/png": "[encoded data removed]",
      "text/plain": [
       "<matplotlib.figure.Figure at 0x7f514330c8d0>"
      ]
     },
     "metadata": {},
     "output_type": "display_data"
    }
   ],
   "source": [
    "learner.sched.plot()"
   ]
  },
  {
   "cell_type": "code",
   "execution_count": 16,
   "metadata": {
    "hidden": true
   },
   "outputs": [
    {
     "data": {
      "application/vnd.jupyter.widget-view+json": {
       "model_id": "dcadc722e1bf4c49ba682ca599986bff",
       "version_major": 2,
       "version_minor": 0
      },
      "text/plain": [
       "HBox(children=(IntProgress(value=0, description='Epoch: ', max=1), HTML(value='')))"
      ]
     },
     "metadata": {},
     "output_type": "display_data"
    },
    {
     "name": "stdout",
     "output_type": "stream",
     "text": [
      "  0%|          | 47/24335 [00:06<52:36,  7.70it/s, loss=7.37, refresh=0]   \n",
      "epoch      trn_loss   val_loss                                             \n",
      "    0      3.795762   3.613035  \n",
      "\n"
     ]
    },
    {
     "data": {
      "text/plain": [
       "[3.613034842234658]"
      ]
     },
     "execution_count": 16,
     "metadata": {},
     "output_type": "execute_result"
    }
   ],
   "source": [
    "learner.fit(3e-3, 1, wds=1e-6)"
   ]
  },
  {
   "cell_type": "code",
   "execution_count": 17,
   "metadata": {},
   "outputs": [],
   "source": [
    "learner.save_encoder('adam1_dr.9_enc')"
   ]
  },
  {
   "cell_type": "code",
   "execution_count": 18,
   "metadata": {
    "hidden": true
   },
   "outputs": [
    {
     "data": {
      "application/vnd.jupyter.widget-view+json": {
       "model_id": "4cd5e2fd0fbf4d9495ddaf1b6c6f1360",
       "version_major": 2,
       "version_minor": 0
      },
      "text/plain": [
       "HBox(children=(IntProgress(value=0, description='Epoch: ', max=7), HTML(value='')))"
      ]
     },
     "metadata": {},
     "output_type": "display_data"
    },
    {
     "name": "stdout",
     "output_type": "stream",
     "text": [
      "epoch      trn_loss   val_loss                                              \n",
      "    0      3.855142   3.410686  \n",
      "    1      3.878753   3.417932                                             \n",
      "    2      3.825248   3.326904                                             \n",
      "    3      3.822777   3.435264                                             \n",
      "    4      3.700596   3.357157                                             \n",
      "    5      3.631621   3.283621                                             \n",
      "    6      3.701825   3.260169                                             \n",
      "\n"
     ]
    },
    {
     "data": {
      "text/plain": [
       "[3.260169443200898]"
      ]
     },
     "execution_count": 18,
     "metadata": {},
     "output_type": "execute_result"
    }
   ],
   "source": [
    "learner.fit(3e-3, 3, wds=1e-6, cycle_len=1, cycle_mult=2)"
   ]
  },
  {
   "cell_type": "code",
   "execution_count": 19,
   "metadata": {
    "hidden": true
   },
   "outputs": [],
   "source": [
    "learner.save_encoder('adam2_dr.9_enc')"
   ]
  },
  {
   "cell_type": "markdown",
   "metadata": {},
   "source": [
    "### Test LM"
   ]
  },
  {
   "cell_type": "code",
   "execution_count": 20,
   "metadata": {},
   "outputs": [],
   "source": [
    "def proc_str(s): return TEXT.preprocess(TEXT.tokenize(s))\n",
    "def num_str(s): return TEXT.numericalize([proc_str(s)])"
   ]
  },
  {
   "cell_type": "code",
   "execution_count": 21,
   "metadata": {},
   "outputs": [],
   "source": [
    "m = learner.model"
   ]
  },
  {
   "cell_type": "code",
   "execution_count": 26,
   "metadata": {},
   "outputs": [],
   "source": [
    "def sample_model(m, s, l=50):\n",
    "    t = num_str(s)\n",
    "    m[0].bs=1\n",
    "    m.eval()\n",
    "    m.reset()\n",
    "    res,*_ = m(torch.tensor(t).cuda())\n",
    "    print('...', end='')\n",
    "\n",
    "    for i in range(l):\n",
    "        n=res[-1].topk(2)[1]\n",
    "        n = n[1] if n.data[0]==0 else n[0]\n",
    "        word = TEXT.vocab.itos[n.item()]\n",
    "        print(word, end=' ')\n",
    "        # if word=='<eos>': break\n",
    "        res,*_ = m(torch.tensor([n]).cuda().unsqueeze(0))\n",
    "\n",
    "    m[0].bs=bs"
   ]
  },
  {
   "cell_type": "code",
   "execution_count": 27,
   "metadata": {},
   "outputs": [
    {
     "name": "stdout",
     "output_type": "stream",
     "text": [
      "...the user . <eos> [ meta ] add support for the new api to the api we need to add a new api to the api api . <eos> [ meta ] add support for the new api to the api we need to add a new api to the "
     ]
    }
   ],
   "source": [
    "sample_model(m,\"user experience is affected by\")"
   ]
  },
  {
   "cell_type": "code",
   "execution_count": 29,
   "metadata": {},
   "outputs": [
    {
     "name": "stdout",
     "output_type": "stream",
     "text": [
      "...what the problem is , but i 'm not sure if this is a bug or not . <eos> [ meta ] add support for the new api to the api we need to add a new api to the api api . <eos> [ meta ] add support for "
     ]
    }
   ],
   "source": [
    "sample_model(m, \"I don't understand\")"
   ]
  },
  {
   "cell_type": "markdown",
   "metadata": {},
   "source": [
    "### Multiclass Classification"
   ]
  },
  {
   "cell_type": "code",
   "execution_count": 114,
   "metadata": {
    "collapsed": true
   },
   "outputs": [],
   "source": [
    "TEXT = pickle.load(open(f'{PATH}models/TEXT.pkl','rb'))"
   ]
  },
  {
   "cell_type": "code",
   "execution_count": 115,
   "metadata": {
    "collapsed": true
   },
   "outputs": [],
   "source": [
    "class ArxivDataset(torchtext.data.Dataset):\n",
    "    def __init__(self, path, text_field, label_field, **kwargs):\n",
    "        fields = [('text', text_field), ('label', label_field)]\n",
    "        examples = []\n",
    "        for label in ['yes', 'no']:\n",
    "            fnames = glob(os.path.join(path, label, '*.txt'));\n",
    "            assert fnames, f\"can't find 'yes.txt' or 'no.txt' under {path}/{label}\"\n",
    "            for fname in fnames:\n",
    "                with open(fname, 'r') as f: text = f.readline()\n",
    "                examples.append(data.Example.fromlist([text, label], fields))\n",
    "        super().__init__(examples, fields, **kwargs)\n",
    "\n",
    "    @staticmethod\n",
    "    def sort_key(ex): return len(ex.text)\n",
    "    \n",
    "    @classmethod\n",
    "    def splits(cls, text_field, label_field, root='.data',\n",
    "               train='train', test='test', **kwargs):\n",
    "        return super().splits(\n",
    "            root, text_field=text_field, label_field=label_field,\n",
    "            train=train, validation=None, test=test, **kwargs)"
   ]
  },
  {
   "cell_type": "code",
   "execution_count": 116,
   "metadata": {
    "collapsed": true
   },
   "outputs": [],
   "source": [
    "ARX_LABEL = data.Field(sequential=False)\n",
    "splits = ArxivDataset.splits(TEXT, ARX_LABEL, PATH, train='trn', test='val')"
   ]
  },
  {
   "cell_type": "code",
   "execution_count": 117,
   "metadata": {
    "collapsed": true
   },
   "outputs": [],
   "source": [
    "md2 = TextData.from_splits(PATH, splits, bs)"
   ]
  },
  {
   "cell_type": "code",
   "execution_count": 9,
   "metadata": {
    "collapsed": true
   },
   "outputs": [],
   "source": [
    "#            dropout=0.3, dropouti=0.4, wdrop=0.3, dropoute=0.05, dropouth=0.2)"
   ]
  },
  {
   "cell_type": "code",
   "execution_count": 143,
   "metadata": {
    "collapsed": true
   },
   "outputs": [],
   "source": [
    "from sklearn.metrics import precision_recall_curve\n",
    "import matplotlib.pyplot as plt\n",
    "\n",
    "def prec_at_6(preds,targs):\n",
    "    precision, recall, _ = precision_recall_curve(targs==2, preds[:,2])\n",
    "    print(recall[precision>=0.6][0])\n",
    "    return recall[precision>=0.6][0]"
   ]
  },
  {
   "cell_type": "code",
   "execution_count": 156,
   "metadata": {
    "collapsed": true
   },
   "outputs": [],
   "source": [
    "# dropout=0.4, dropouth=0.3, dropouti=0.65, dropoute=0.1, wdrop=0.5\n",
    "m3 = md2.get_model(opt_fn, 1500, bptt, emb_sz=em_sz, n_hid=nh, n_layers=nl, \n",
    "           dropout=0.1, dropouti=0.65, wdrop=0.5, dropoute=0.1, dropouth=0.3)\n",
    "m3.reg_fn = partial(seq2seq_reg, alpha=2, beta=1)\n",
    "m3.clip=25."
   ]
  },
  {
   "cell_type": "code",
   "execution_count": 157,
   "metadata": {
    "collapsed": true
   },
   "outputs": [],
   "source": [
    "# this notebook has a mess of some things going under 'all/' others not, so a little hack here\n",
    "!ln -sf ../all/models/adam3_20_enc.h5 {PATH}models/adam3_20_enc.h5\n",
    "m3.load_encoder(f'adam3_20_enc')\n",
    "lrs=np.array([1e-4,1e-3,1e-3,1e-2,3e-2])"
   ]
  },
  {
   "cell_type": "code",
   "execution_count": 158,
   "metadata": {
    "scrolled": true
   },
   "outputs": [
    {
     "data": {
      "application/vnd.jupyter.widget-view+json": {
       "model_id": "feeaf546b6ed445d91985561124afc37",
       "version_major": 2,
       "version_minor": 0
      },
      "text/plain": [
       "A Jupyter Widget"
      ]
     },
     "metadata": {},
     "output_type": "display_data"
    },
    {
     "name": "stdout",
     "output_type": "stream",
     "text": [
      "[ 0.       0.47654  0.44322  0.78525]                         \n",
      "\n"
     ]
    },
    {
     "data": {
      "application/vnd.jupyter.widget-view+json": {
       "model_id": "23ab581c7a264367be284e88b28890b2",
       "version_major": 2,
       "version_minor": 0
      },
      "text/plain": [
       "A Jupyter Widget"
      ]
     },
     "metadata": {},
     "output_type": "display_data"
    },
    {
     "name": "stdout",
     "output_type": "stream",
     "text": [
      "[ 0.       0.43033  0.40192  0.80087]                        \n",
      "\n"
     ]
    }
   ],
   "source": [
    "m3.freeze_to(-1)\n",
    "m3.fit(lrs/2, 1, metrics=[accuracy])\n",
    "m3.unfreeze()\n",
    "m3.fit(lrs, 1, metrics=[accuracy], cycle_len=1)"
   ]
  },
  {
   "cell_type": "code",
   "execution_count": 159,
   "metadata": {},
   "outputs": [
    {
     "data": {
      "application/vnd.jupyter.widget-view+json": {
       "model_id": "be7735a6a5354c279c4d6b8280bcda6e",
       "version_major": 2,
       "version_minor": 0
      },
      "text/plain": [
       "A Jupyter Widget"
      ]
     },
     "metadata": {},
     "output_type": "display_data"
    },
    {
     "name": "stdout",
     "output_type": "stream",
     "text": [
      "[ 0.       0.42236  0.39006  0.8194 ]                        \n",
      "[ 1.       0.39477  0.37063  0.82086]                        \n",
      "[ 2.       0.39389  0.37082  0.82449]                        \n",
      "[ 3.       0.40728  0.36999  0.82195]                        \n",
      "[ 4.       0.39308  0.3675   0.81977]                        \n",
      "[ 5.       0.38662  0.36737  0.8234 ]                        \n",
      "[ 6.       0.39259  0.36512  0.82486]                        \n",
      "[ 7.       0.38047  0.36538  0.82522]                        \n",
      "\n"
     ]
    }
   ],
   "source": [
    "m3.fit(lrs, 2, metrics=[accuracy], cycle_len=4, cycle_save_name='imdb2')"
   ]
  },
  {
   "cell_type": "code",
   "execution_count": 160,
   "metadata": {},
   "outputs": [
    {
     "name": "stdout",
     "output_type": "stream",
     "text": [
      "0.659305993691\n"
     ]
    },
    {
     "data": {
      "text/plain": [
       "0.65930599369085174"
      ]
     },
     "execution_count": 160,
     "metadata": {},
     "output_type": "execute_result"
    }
   ],
   "source": [
    "prec_at_6(*m3.predict_with_targs())"
   ]
  },
  {
   "cell_type": "code",
   "execution_count": 161,
   "metadata": {},
   "outputs": [
    {
     "data": {
      "application/vnd.jupyter.widget-view+json": {
       "model_id": "57d2433c996b48a99f86329570a9885a",
       "version_major": 2,
       "version_minor": 0
      },
      "text/plain": [
       "A Jupyter Widget"
      ]
     },
     "metadata": {},
     "output_type": "display_data"
    },
    {
     "name": "stdout",
     "output_type": "stream",
     "text": [
      "[ 0.       0.38752  0.36351  0.82486]                        \n",
      "[ 1.       0.38664  0.36123  0.82558]                        \n",
      "[ 2.       0.3904   0.36098  0.82486]                        \n",
      "[ 3.       0.37319  0.36144  0.82486]                        \n",
      "[ 4.       0.38074  0.36334  0.82595]                        \n",
      "[ 5.       0.36405  0.3594   0.82413]                        \n",
      "[ 6.       0.38781  0.35914  0.82522]                        \n",
      "[ 7.       0.37722  0.357    0.82631]                        \n",
      "\n"
     ]
    }
   ],
   "source": [
    "m3.fit(lrs, 4, metrics=[accuracy], cycle_len=2, cycle_save_name='imdb2')"
   ]
  },
  {
   "cell_type": "code",
   "execution_count": 162,
   "metadata": {},
   "outputs": [
    {
     "name": "stdout",
     "output_type": "stream",
     "text": [
      "0.695583596215\n"
     ]
    },
    {
     "data": {
      "text/plain": [
       "0.69558359621451105"
      ]
     },
     "execution_count": 162,
     "metadata": {},
     "output_type": "execute_result"
    }
   ],
   "source": [
    "prec_at_6(*m3.predict_with_targs())"
   ]
  },
  {
   "cell_type": "code",
   "execution_count": null,
   "metadata": {
    "collapsed": true
   },
   "outputs": [],
   "source": []
  }
 ],
 "metadata": {
  "kernelspec": {
   "display_name": "Python 3",
   "language": "python",
   "name": "python3"
  },
  "language_info": {
   "codemirror_mode": {
    "name": "ipython",
    "version": 3
   },
   "file_extension": ".py",
   "mimetype": "text/x-python",
   "name": "python",
   "nbconvert_exporter": "python",
   "pygments_lexer": "ipython3",
   "version": "3.6.6"
  },
  "toc": {
   "colors": {
    "hover_highlight": "#DAA520",
    "navigate_num": "#000000",
    "navigate_text": "#333333",
    "running_highlight": "#FF0000",
    "selected_highlight": "#FFD700",
    "sidebar_border": "#EEEEEE",
    "wrapper_background": "#FFFFFF"
   },
   "moveMenuLeft": true,
   "nav_menu": {
    "height": "123px",
    "width": "251px"
   },
   "navigate_menu": true,
   "number_sections": true,
   "sideBar": true,
   "threshold": 4,
   "toc_cell": false,
   "toc_section_display": "block",
   "toc_window_display": false,
   "widenNotebook": false
  }
 },
 "nbformat": 4,
 "nbformat_minor": 2
}
