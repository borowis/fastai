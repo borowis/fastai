{
 "cells": [
  {
   "cell_type": "markdown",
   "metadata": {},
   "source": [
    "\n",
    "# quickdraw-doodle-recognition"
   ]
  },
  {
   "cell_type": "code",
   "execution_count": 1,
   "metadata": {},
   "outputs": [],
   "source": [
    "%reload_ext autoreload\n",
    "%autoreload 2\n",
    "%matplotlib inline"
   ]
  },
  {
   "cell_type": "code",
   "execution_count": 2,
   "metadata": {},
   "outputs": [
    {
     "name": "stderr",
     "output_type": "stream",
     "text": [
      "/home/borowis/.pyenv/versions/3.6.6/lib/python3.6/site-packages/sklearn/ensemble/weight_boosting.py:29: DeprecationWarning: numpy.core.umath_tests is an internal NumPy module and should not be imported. It will be removed in a future NumPy release.\n",
      "  from numpy.core.umath_tests import inner1d\n"
     ]
    }
   ],
   "source": [
    "from fastai.imports import *\n",
    "from fastai.transforms import *\n",
    "from fastai.conv_learner import *\n",
    "from fastai.model import *\n",
    "from fastai.dataset import *\n",
    "from fastai.sgdr import *\n",
    "from fastai.plots import *\n",
    "import dill as pickle"
   ]
  },
  {
   "cell_type": "code",
   "execution_count": 3,
   "metadata": {},
   "outputs": [],
   "source": [
    "PATH = '/home/borowis/s3'"
   ]
  },
  {
   "cell_type": "code",
   "execution_count": 4,
   "metadata": {},
   "outputs": [
    {
     "name": "stdout",
     "output_type": "stream",
     "text": [
      "cat2idx.pkl  idx2cat.pkl  sample_submission.csv  \u001b[0m\u001b[01;34mtmp\u001b[0m/\r\n",
      "\u001b[01;34mdata\u001b[0m/        \u001b[01;34mmodels\u001b[0m/      \u001b[01;34mtest\u001b[0m/                  \u001b[01;34mtrain\u001b[0m/\r\n"
     ]
    }
   ],
   "source": [
    "ls {PATH}"
   ]
  },
  {
   "cell_type": "code",
   "execution_count": 5,
   "metadata": {},
   "outputs": [],
   "source": [
    "bs = 256\n",
    "BASE_SIZE = 256                  # image size\n",
    "NUM_SAMPLES_PER_CLASS = 10       # set to -1 for all images"
   ]
  },
  {
   "cell_type": "markdown",
   "metadata": {},
   "source": [
    "# csv data to images"
   ]
  },
  {
   "cell_type": "code",
   "execution_count": 6,
   "metadata": {},
   "outputs": [],
   "source": [
    "def draw_cv2(raw_strokes, size=256, lw=2, time_color=True):\n",
    "    colors = [(255, 0, 0) , (255, 255, 0),  (128, 255, 0),  (0, 255, 0), (0, 255, 128), (0, 255, 255), \n",
    "              (0, 128, 255), (0, 0, 255), (128, 0, 255), (255, 0, 255)]\n",
    "    img = np.zeros((BASE_SIZE, BASE_SIZE, 3), np.uint8)\n",
    "    for t, stroke in enumerate(raw_strokes):\n",
    "        for i in range(len(stroke[0]) - 1):\n",
    "            color = colors[min(t, len(colors)-1)]\n",
    "            _ = cv2.line(img, (stroke[0][i], stroke[1][i]),\n",
    "                         (stroke[0][i + 1], stroke[1][i + 1]), color, lw, lineType=cv2.LINE_4)\n",
    "    img = img.astype(np.float32)/255\n",
    "    if size != BASE_SIZE:\n",
    "        return cv2.resize(img, (size, size))\n",
    "    else:\n",
    "        return img"
   ]
  },
  {
   "cell_type": "code",
   "execution_count": 14,
   "metadata": {},
   "outputs": [],
   "source": [
    "def save_array(name, array):\n",
    "    os.makedirs(f'{PATH}/data/{name}', exist_ok=True)\n",
    "    barray = bcolz.carray(array, rootdir=f'{PATH}/data/{name}', mode='w')\n",
    "    barray.flush()\n",
    "    \n",
    "def load_array(name):\n",
    "    return bcolz.open(rootdir=f'{PATH}/data/{name}')[:]"
   ]
  },
  {
   "cell_type": "code",
   "execution_count": 8,
   "metadata": {},
   "outputs": [],
   "source": [
    "df = pd.read_csv(f'{PATH}/train/airplane.csv')"
   ]
  },
  {
   "cell_type": "code",
   "execution_count": 9,
   "metadata": {},
   "outputs": [
    {
     "data": {
      "text/html": [
       "<div>\n",
       "<style scoped>\n",
       "    .dataframe tbody tr th:only-of-type {\n",
       "        vertical-align: middle;\n",
       "    }\n",
       "\n",
       "    .dataframe tbody tr th {\n",
       "        vertical-align: top;\n",
       "    }\n",
       "\n",
       "    .dataframe thead th {\n",
       "        text-align: right;\n",
       "    }\n",
       "</style>\n",
       "<table border=\"1\" class=\"dataframe\">\n",
       "  <thead>\n",
       "    <tr style=\"text-align: right;\">\n",
       "      <th></th>\n",
       "      <th>countrycode</th>\n",
       "      <th>drawing</th>\n",
       "      <th>key_id</th>\n",
       "      <th>recognized</th>\n",
       "      <th>timestamp</th>\n",
       "      <th>word</th>\n",
       "    </tr>\n",
       "  </thead>\n",
       "  <tbody>\n",
       "    <tr>\n",
       "      <th>0</th>\n",
       "      <td>US</td>\n",
       "      <td>[[[167, 109, 80, 69, 58, 31, 57, 117, 99, 52, ...</td>\n",
       "      <td>5152802093400064</td>\n",
       "      <td>True</td>\n",
       "      <td>2017-03-08 21:12:07.266040</td>\n",
       "      <td>airplane</td>\n",
       "    </tr>\n",
       "    <tr>\n",
       "      <th>1</th>\n",
       "      <td>CA</td>\n",
       "      <td>[[[2, 14, 34, 126], [57, 45, 38, 47]], [[41, 4...</td>\n",
       "      <td>6622904974311424</td>\n",
       "      <td>False</td>\n",
       "      <td>2017-03-06 21:39:04.690130</td>\n",
       "      <td>airplane</td>\n",
       "    </tr>\n",
       "    <tr>\n",
       "      <th>2</th>\n",
       "      <td>US</td>\n",
       "      <td>[[[90, 88, 95, 104, 112, 122], [65, 31, 12, 0,...</td>\n",
       "      <td>6577010312740864</td>\n",
       "      <td>True</td>\n",
       "      <td>2017-03-23 02:08:35.229980</td>\n",
       "      <td>airplane</td>\n",
       "    </tr>\n",
       "    <tr>\n",
       "      <th>3</th>\n",
       "      <td>US</td>\n",
       "      <td>[[[82, 49, 15, 4, 0, 5, 30, 85, 89, 93, 112, 1...</td>\n",
       "      <td>5643224746033152</td>\n",
       "      <td>True</td>\n",
       "      <td>2017-03-10 00:35:17.531970</td>\n",
       "      <td>airplane</td>\n",
       "    </tr>\n",
       "    <tr>\n",
       "      <th>4</th>\n",
       "      <td>IL</td>\n",
       "      <td>[[[64, 38, 23, 8, 0, 6, 26, 68], [74, 77, 84, ...</td>\n",
       "      <td>6670046841536512</td>\n",
       "      <td>True</td>\n",
       "      <td>2017-01-23 18:11:11.658170</td>\n",
       "      <td>airplane</td>\n",
       "    </tr>\n",
       "  </tbody>\n",
       "</table>\n",
       "</div>"
      ],
      "text/plain": [
       "  countrycode                                            drawing  \\\n",
       "0          US  [[[167, 109, 80, 69, 58, 31, 57, 117, 99, 52, ...   \n",
       "1          CA  [[[2, 14, 34, 126], [57, 45, 38, 47]], [[41, 4...   \n",
       "2          US  [[[90, 88, 95, 104, 112, 122], [65, 31, 12, 0,...   \n",
       "3          US  [[[82, 49, 15, 4, 0, 5, 30, 85, 89, 93, 112, 1...   \n",
       "4          IL  [[[64, 38, 23, 8, 0, 6, 26, 68], [74, 77, 84, ...   \n",
       "\n",
       "             key_id  recognized                   timestamp      word  \n",
       "0  5152802093400064        True  2017-03-08 21:12:07.266040  airplane  \n",
       "1  6622904974311424       False  2017-03-06 21:39:04.690130  airplane  \n",
       "2  6577010312740864        True  2017-03-23 02:08:35.229980  airplane  \n",
       "3  5643224746033152        True  2017-03-10 00:35:17.531970  airplane  \n",
       "4  6670046841536512        True  2017-01-23 18:11:11.658170  airplane  "
      ]
     },
     "execution_count": 9,
     "metadata": {},
     "output_type": "execute_result"
    }
   ],
   "source": [
    "len(df); df.head()"
   ]
  },
  {
   "cell_type": "code",
   "execution_count": 9,
   "metadata": {},
   "outputs": [
    {
     "data": {
      "text/plain": [
       "True"
      ]
     },
     "execution_count": 9,
     "metadata": {},
     "output_type": "execute_result"
    }
   ],
   "source": [
    "img = draw_cv2(json.loads(df.iloc[0]['drawing']))\n",
    "#plt.imshow(img)\n",
    "#plt.savefig(f'{PATH}/train/images/{df.iloc[0][\"key_id\"]}.png')\n",
    "cv2.imwrite(f'{PATH}/train/images/{df.iloc[0][\"key_id\"]}.webp', img)"
   ]
  },
  {
   "cell_type": "code",
   "execution_count": 93,
   "metadata": {},
   "outputs": [
    {
     "data": {
      "text/plain": [
       "<matplotlib.image.AxesImage at 0x7fc5e413c5c0>"
      ]
     },
     "execution_count": 93,
     "metadata": {},
     "output_type": "execute_result"
    },
    {
     "data": {
      "image/png": "[encoded data removed]",
      "text/plain": [
       "<matplotlib.figure.Figure at 0x7fc5e41f9780>"
      ]
     },
     "metadata": {},
     "output_type": "display_data"
    }
   ],
   "source": [
    "#plt.imshow(plt.imread(f'{PATH}/train/images/{df.iloc[0][\"key_id\"]}.webp'))\n",
    "plt.imshow(df.iloc[:5]['drawing'].apply(json.loads).apply(draw_cv2)[0])"
   ]
  },
  {
   "cell_type": "code",
   "execution_count": 10,
   "metadata": {},
   "outputs": [],
   "source": [
    "categories = [fileName.replace('.csv', '') for fileName in os.listdir(f'{PATH}/train') if ('.csv' in fileName)]\n",
    "categories2idx = {c:idx for idx, c in enumerate(categories)}\n",
    "idx2category = {idx:c for idx, c in enumerate(categories)}"
   ]
  },
  {
   "cell_type": "code",
   "execution_count": 11,
   "metadata": {},
   "outputs": [],
   "source": [
    "pickle.dump(categories2idx, open(f'{PATH}/cat2idx.pkl', 'wb'))\n",
    "pickle.dump(idx2category, open(f'{PATH}/idx2cat.pkl', 'wb'))"
   ]
  },
  {
   "cell_type": "code",
   "execution_count": null,
   "metadata": {},
   "outputs": [],
   "source": [
    "X_val = X_train = Y_val = Y_train = None\n",
    "for category in categories:\n",
    "    df = pd.read_csv(f'{PATH}/train/{category}.csv')\n",
    "    idxs = np.random.permutation(len(df))[:NUM_SAMPLES_PER_CLASS]\n",
    "    \n",
    "    y = np.full(NUM_SAMPLES_PER_CLASS, categories2idx[category])\n",
    "    imgs = np.stack(df.iloc[idxs]['drawing'].apply(json.loads).apply(draw_cv2).values)\n",
    "    ((imgs_val, imgs_train), (y_val, y_train)) = split_by_idx(get_cv_idxs(NUM_SAMPLES_PER_CLASS, seed=None), imgs, y)\n",
    "    \n",
    "    if X_train is None:\n",
    "        X_val, X_train = imgs_val, imgs_train\n",
    "        Y_val, Y_train = y_val, y_train\n",
    "    else:\n",
    "        X_val, X_train = np.concatenate((X_val, imgs_val)), np.concatenate((X_train, imgs_train))\n",
    "        Y_val, Y_train = np.concatenate((Y_val, y_val)), np.concatenate((Y_train, y_train))"
   ]
  },
  {
   "cell_type": "code",
   "execution_count": 15,
   "metadata": {},
   "outputs": [],
   "source": [
    "#save_array('X_train', X_train)\n",
    "#save_array('X_val', X_val)\n",
    "#save_array('Y_train', Y_train)\n",
    "#save_array('Y_val', Y_val)\n",
    "\n",
    "X_train = load_array('X_train')\n",
    "X_val = load_array('X_val')\n",
    "Y_train = load_array('Y_train')\n",
    "Y_val = load_array('Y_val')"
   ]
  },
  {
   "cell_type": "code",
   "execution_count": 16,
   "metadata": {},
   "outputs": [
    {
     "data": {
      "text/plain": [
       "(2720, 256, 256, 3)"
      ]
     },
     "execution_count": 16,
     "metadata": {},
     "output_type": "execute_result"
    }
   ],
   "source": [
    "X_train.shape"
   ]
  },
  {
   "cell_type": "markdown",
   "metadata": {},
   "source": [
    "# multi label"
   ]
  },
  {
   "cell_type": "code",
   "execution_count": 17,
   "metadata": {},
   "outputs": [],
   "source": [
    "metrics = [accuracy]\n",
    "f_model = resnet34"
   ]
  },
  {
   "cell_type": "code",
   "execution_count": 18,
   "metadata": {},
   "outputs": [],
   "source": [
    "def get_data(sz):\n",
    "    tfms = tfms_from_model(f_model, sz, transforms_basic, max_zoom = 1.1)\n",
    "    return ImageClassifierData.from_arrays(PATH, (X_train, Y_train), (X_val, Y_val), bs=bs, tfms = tfms)"
   ]
  },
  {
   "cell_type": "code",
   "execution_count": 19,
   "metadata": {},
   "outputs": [],
   "source": [
    "data = get_data(256)\n",
    "x, y = next(iter(data.val_dl))"
   ]
  },
  {
   "cell_type": "markdown",
   "metadata": {},
   "source": [
    "## size 64"
   ]
  },
  {
   "cell_type": "code",
   "execution_count": 20,
   "metadata": {},
   "outputs": [],
   "source": [
    "data = get_data(64)"
   ]
  },
  {
   "cell_type": "code",
   "execution_count": 21,
   "metadata": {},
   "outputs": [],
   "source": [
    "learn = ConvLearner.pretrained(f_model, data, metrics = metrics)"
   ]
  },
  {
   "cell_type": "code",
   "execution_count": 60,
   "metadata": {},
   "outputs": [
    {
     "data": {
      "application/vnd.jupyter.widget-view+json": {
       "model_id": "41f3eb69c9f6441f92b43fee41ab6944",
       "version_major": 2,
       "version_minor": 0
      },
      "text/plain": [
       "HBox(children=(IntProgress(value=0, description='Epoch: ', max=1), HTML(value='')))"
      ]
     },
     "metadata": {},
     "output_type": "display_data"
    },
    {
     "name": "stdout",
     "output_type": "stream",
     "text": [
      "epoch      trn_loss   val_loss   accuracy                           \n",
      "    0      6.329793   9.466969   0.039706  \n"
     ]
    },
    {
     "data": {
      "image/png": "[encoded data removed]",
      "text/plain": [
       "<matplotlib.figure.Figure at 0x7f3a6b092cf8>"
      ]
     },
     "metadata": {},
     "output_type": "display_data"
    }
   ],
   "source": [
    "lrf = learn.lr_find()\n",
    "learn.sched.plot()"
   ]
  },
  {
   "cell_type": "code",
   "execution_count": 23,
   "metadata": {},
   "outputs": [],
   "source": [
    "lr = 0.2"
   ]
  },
  {
   "cell_type": "code",
   "execution_count": 62,
   "metadata": {},
   "outputs": [
    {
     "data": {
      "application/vnd.jupyter.widget-view+json": {
       "model_id": "c215281f4bfa4726a1cd8aaf20d931d5",
       "version_major": 2,
       "version_minor": 0
      },
      "text/plain": [
       "HBox(children=(IntProgress(value=0, description='Epoch: ', max=7), HTML(value='')))"
      ]
     },
     "metadata": {},
     "output_type": "display_data"
    },
    {
     "name": "stdout",
     "output_type": "stream",
     "text": [
      "epoch      trn_loss   val_loss   accuracy                           \n",
      "    0      6.169824   5.561773   0.033824  \n",
      "    1      5.526618   4.594185   0.129412                           \n",
      "    2      4.97094    4.433033   0.155882                           \n",
      "    3      4.572008   4.013769   0.183824                           \n",
      "    4      4.169651   3.857981   0.2                                \n",
      "    5      3.816932   3.801322   0.207353                            \n",
      "    6      3.531253   3.787927   0.205882                           \n"
     ]
    },
    {
     "data": {
      "text/plain": [
       "[3.787927341461182, 0.20588235206463756]"
      ]
     },
     "execution_count": 62,
     "metadata": {},
     "output_type": "execute_result"
    }
   ],
   "source": [
    "learn.fit(lr, 3, cycle_len = 1, cycle_mult = 2)"
   ]
  },
  {
   "cell_type": "code",
   "execution_count": 26,
   "metadata": {},
   "outputs": [],
   "source": [
    "lrs = np.array([lr / 9, lr / 3, lr])\n",
    "learn.unfreeze()"
   ]
  },
  {
   "cell_type": "code",
   "execution_count": 65,
   "metadata": {},
   "outputs": [
    {
     "data": {
      "application/vnd.jupyter.widget-view+json": {
       "model_id": "117e6a9163914fb68557b85626114539",
       "version_major": 2,
       "version_minor": 0
      },
      "text/plain": [
       "HBox(children=(IntProgress(value=0, description='Epoch: ', max=7), HTML(value='')))"
      ]
     },
     "metadata": {},
     "output_type": "display_data"
    },
    {
     "name": "stdout",
     "output_type": "stream",
     "text": [
      "epoch      trn_loss   val_loss   accuracy                            \n",
      "    0      4.513443   6.629514   0.047059  \n",
      "    1      4.035161   5.344734   0.080882                            \n",
      "    2      3.544444   3.720098   0.202941                            \n",
      "    3      3.207242   3.625588   0.217647                            \n",
      "    4      2.829965   3.42899    0.270588                            \n",
      "    5      2.429001   3.275418   0.304412                            \n",
      "    6      2.082105   3.219953   0.305882                            \n"
     ]
    },
    {
     "data": {
      "text/plain": [
       "[3.219953116248636, 0.3058823518893298]"
      ]
     },
     "execution_count": 65,
     "metadata": {},
     "output_type": "execute_result"
    }
   ],
   "source": [
    "learn.fit(lrs, 3, cycle_len = 1, cycle_mult = 2)"
   ]
  },
  {
   "cell_type": "code",
   "execution_count": 13,
   "metadata": {},
   "outputs": [],
   "source": [
    "# learn.save('64')\n",
    "learn.load('64')"
   ]
  },
  {
   "cell_type": "code",
   "execution_count": 66,
   "metadata": {},
   "outputs": [
    {
     "data": {
      "image/png": "[encoded data removed]",
      "text/plain": [
       "<matplotlib.figure.Figure at 0x7f3a6b86b6d8>"
      ]
     },
     "metadata": {},
     "output_type": "display_data"
    }
   ],
   "source": [
    "learn.sched.plot_loss()"
   ]
  },
  {
   "cell_type": "markdown",
   "metadata": {},
   "source": [
    "## size 128"
   ]
  },
  {
   "cell_type": "code",
   "execution_count": 67,
   "metadata": {},
   "outputs": [
    {
     "data": {
      "application/vnd.jupyter.widget-view+json": {
       "model_id": "3f90cac3112b4b65b3c439355a7c180c",
       "version_major": 2,
       "version_minor": 0
      },
      "text/plain": [
       "HBox(children=(IntProgress(value=0, description='Epoch: ', max=7), HTML(value='')))"
      ]
     },
     "metadata": {},
     "output_type": "display_data"
    },
    {
     "name": "stdout",
     "output_type": "stream",
     "text": [
      "epoch      trn_loss   val_loss   accuracy                            \n",
      "    0      3.53868    3.824516   0.188235  \n",
      "    1      3.184381   3.450138   0.269118                            \n",
      "    2      2.850866   3.383465   0.282353                            \n",
      "    3      2.646762   3.38872    0.282353                            \n",
      "    4      2.429853   3.345747   0.295588                            \n",
      "    5      2.229313   3.320734   0.305882                            \n",
      "    6      2.05856    3.312492   0.313235                            \n"
     ]
    },
    {
     "data": {
      "text/plain": [
       "[3.3124922948725084, 0.3132352948188782]"
      ]
     },
     "execution_count": 67,
     "metadata": {},
     "output_type": "execute_result"
    }
   ],
   "source": [
    "learn.set_data(get_data(128))\n",
    "learn.freeze()\n",
    "learn.fit(lr, 3, cycle_len = 1, cycle_mult = 2)"
   ]
  },
  {
   "cell_type": "code",
   "execution_count": 68,
   "metadata": {},
   "outputs": [
    {
     "data": {
      "application/vnd.jupyter.widget-view+json": {
       "model_id": "50f54f2d9b65486582360ff5a057fda5",
       "version_major": 2,
       "version_minor": 0
      },
      "text/plain": [
       "HBox(children=(IntProgress(value=0, description='Epoch: ', max=7), HTML(value='')))"
      ]
     },
     "metadata": {},
     "output_type": "display_data"
    },
    {
     "name": "stdout",
     "output_type": "stream",
     "text": [
      "epoch      trn_loss   val_loss   accuracy                            \n",
      "    0      1.919959   4.153135   0.230882  \n",
      "    1      1.77994    3.722772   0.288235                            \n",
      "    2      1.531662   3.225964   0.347059                            \n",
      "    3      1.385488   3.616277   0.302941                            \n",
      "    4      1.225507   3.313206   0.354412                            \n",
      "    5      1.040618   3.250744   0.348529                            \n",
      "    6      0.874682   3.210697   0.366176                             \n"
     ]
    },
    {
     "data": {
      "text/plain": [
       "[3.2106967645532944, 0.36617647023761973]"
      ]
     },
     "execution_count": 68,
     "metadata": {},
     "output_type": "execute_result"
    }
   ],
   "source": [
    "learn.unfreeze()\n",
    "learn.fit(lrs, 3, cycle_len = 1, cycle_mult = 2)"
   ]
  },
  {
   "cell_type": "code",
   "execution_count": 15,
   "metadata": {},
   "outputs": [],
   "source": [
    "# learn.save('128')\n",
    "learn.load('128')"
   ]
  },
  {
   "cell_type": "code",
   "execution_count": 69,
   "metadata": {},
   "outputs": [
    {
     "data": {
      "image/png": "[encoded data removed]",
      "text/plain": [
       "<matplotlib.figure.Figure at 0x7f3a6c3ddcf8>"
      ]
     },
     "metadata": {},
     "output_type": "display_data"
    }
   ],
   "source": [
    "learn.sched.plot_loss()"
   ]
  },
  {
   "cell_type": "markdown",
   "metadata": {},
   "source": [
    "## size 256"
   ]
  },
  {
   "cell_type": "code",
   "execution_count": 24,
   "metadata": {},
   "outputs": [
    {
     "data": {
      "application/vnd.jupyter.widget-view+json": {
       "model_id": "e06a65b39e4945f5bd72d390e9a0e998",
       "version_major": 2,
       "version_minor": 0
      },
      "text/plain": [
       "HBox(children=(IntProgress(value=0, description='Epoch: ', max=7), HTML(value='')))"
      ]
     },
     "metadata": {},
     "output_type": "display_data"
    },
    {
     "name": "stdout",
     "output_type": "stream",
     "text": [
      "epoch      trn_loss   val_loss   accuracy                            \n",
      "    0      6.245751   5.723357   0.019118  \n",
      "    1      5.591666   4.736747   0.110294                            \n",
      "    2      5.011405   4.551304   0.127941                            \n",
      "    3      4.592552   4.043836   0.175                               \n",
      "    4      4.13763    3.859222   0.204412                            \n",
      "    5      3.742229   3.764074   0.222059                            \n",
      "    6      3.432783   3.752393   0.222059                            \n",
      "\n"
     ]
    },
    {
     "data": {
      "text/plain": [
       "[3.752392920325784, 0.22205882317879622]"
      ]
     },
     "execution_count": 24,
     "metadata": {},
     "output_type": "execute_result"
    }
   ],
   "source": [
    "learn.set_data(get_data(256))\n",
    "learn.freeze()\n",
    "learn.fit(lr, 3, cycle_len = 1, cycle_mult = 2)"
   ]
  },
  {
   "cell_type": "code",
   "execution_count": 27,
   "metadata": {},
   "outputs": [
    {
     "data": {
      "application/vnd.jupyter.widget-view+json": {
       "model_id": "a6a02d03f54043d4981307717ccdd8b5",
       "version_major": 2,
       "version_minor": 0
      },
      "text/plain": [
       "HBox(children=(IntProgress(value=0, description='Epoch: ', max=7), HTML(value='')))"
      ]
     },
     "metadata": {},
     "output_type": "display_data"
    },
    {
     "name": "stdout",
     "output_type": "stream",
     "text": [
      "epoch      trn_loss   val_loss   accuracy                            \n",
      "    0      3.979349   7.44906    0.035294  \n",
      "    1      3.610795   7.193747   0.067647                            \n",
      "    2      3.172466   3.440161   0.266176                            \n",
      "    3      2.892764   3.481069   0.270588                            \n",
      "    4      2.569515   3.344125   0.288235                            \n",
      "    5      2.222132   2.873141   0.382353                            \n",
      "    6      1.90921    2.819397   0.386765                            \n",
      "\n"
     ]
    },
    {
     "data": {
      "text/plain": [
       "[2.8193972279043757, 0.3867647111415863]"
      ]
     },
     "execution_count": 27,
     "metadata": {},
     "output_type": "execute_result"
    }
   ],
   "source": [
    "learn.unfreeze()\n",
    "learn.fit(lrs, 3, cycle_len = 1, cycle_mult = 2)"
   ]
  },
  {
   "cell_type": "code",
   "execution_count": 17,
   "metadata": {},
   "outputs": [],
   "source": [
    "# learn.save('256')\n",
    "learn.load('256')"
   ]
  },
  {
   "cell_type": "code",
   "execution_count": 28,
   "metadata": {},
   "outputs": [
    {
     "data": {
      "image/png": "[encoded data removed]",
      "text/plain": [
       "<matplotlib.figure.Figure at 0x7f9a3b44bc50>"
      ]
     },
     "metadata": {},
     "output_type": "display_data"
    }
   ],
   "source": [
    "learn.sched.plot_loss()"
   ]
  },
  {
   "cell_type": "markdown",
   "metadata": {},
   "source": [
    "## end"
   ]
  },
  {
   "cell_type": "code",
   "execution_count": 29,
   "metadata": {},
   "outputs": [
    {
     "name": "stdout",
     "output_type": "stream",
     "text": [
      "                                             \r"
     ]
    }
   ],
   "source": [
    "log_preds, y = learn.TTA()"
   ]
  },
  {
   "cell_type": "code",
   "execution_count": 19,
   "metadata": {},
   "outputs": [
    {
     "data": {
      "text/plain": [
       "0.93212612794568717"
      ]
     },
     "execution_count": 19,
     "metadata": {},
     "output_type": "execute_result"
    }
   ],
   "source": [
    "preds = np.mean(log_preds, axis = 0)\n",
    "f2(preds, y)"
   ]
  },
  {
   "cell_type": "markdown",
   "metadata": {},
   "source": [
    "## submission"
   ]
  },
  {
   "cell_type": "code",
   "execution_count": 20,
   "metadata": {},
   "outputs": [],
   "source": [
    "val = learn.predict()"
   ]
  },
  {
   "cell_type": "code",
   "execution_count": 21,
   "metadata": {},
   "outputs": [
    {
     "data": {
      "text/plain": [
       "0.93079289872979598"
      ]
     },
     "execution_count": 21,
     "metadata": {},
     "output_type": "execute_result"
    }
   ],
   "source": [
    "f2(val,data.val_y)"
   ]
  },
  {
   "cell_type": "code",
   "execution_count": 36,
   "metadata": {},
   "outputs": [
    {
     "name": "stdout",
     "output_type": "stream",
     "text": [
      "                                              \r"
     ]
    }
   ],
   "source": [
    "log_preds = learn.TTA(is_test=True)"
   ]
  },
  {
   "cell_type": "code",
   "execution_count": 40,
   "metadata": {},
   "outputs": [
    {
     "data": {
      "text/plain": [
       "0.18000000000000002"
      ]
     },
     "execution_count": 40,
     "metadata": {},
     "output_type": "execute_result"
    }
   ],
   "source": [
    "th = opt_th(preds, y); th"
   ]
  },
  {
   "cell_type": "code",
   "execution_count": 43,
   "metadata": {},
   "outputs": [],
   "source": [
    "preds = np.mean(log_preds[0], axis=0)\n",
    "cls = np.array(data.classes)\n",
    "res = np.array([\" \".join(cls[(np.where(pp > th))]) for pp in preds])"
   ]
  },
  {
   "cell_type": "code",
   "execution_count": 53,
   "metadata": {},
   "outputs": [],
   "source": [
    "fnames = [f[9:-4] for f in data.test_dl.dataset.fnames]"
   ]
  },
  {
   "cell_type": "code",
   "execution_count": 55,
   "metadata": {},
   "outputs": [
    {
     "data": {
      "text/html": [
       "<div>\n",
       "<table border=\"1\" class=\"dataframe\">\n",
       "  <thead>\n",
       "    <tr style=\"text-align: right;\">\n",
       "      <th></th>\n",
       "      <th>image_name</th>\n",
       "      <th>tags</th>\n",
       "    </tr>\n",
       "  </thead>\n",
       "  <tbody>\n",
       "    <tr>\n",
       "      <th>0</th>\n",
       "      <td>test_10415</td>\n",
       "      <td>clear primary</td>\n",
       "    </tr>\n",
       "    <tr>\n",
       "      <th>1</th>\n",
       "      <td>test_37142</td>\n",
       "      <td>clear primary</td>\n",
       "    </tr>\n",
       "    <tr>\n",
       "      <th>2</th>\n",
       "      <td>test_7910</td>\n",
       "      <td>clear primary</td>\n",
       "    </tr>\n",
       "    <tr>\n",
       "      <th>3</th>\n",
       "      <td>file_2971</td>\n",
       "      <td>clear primary road water</td>\n",
       "    </tr>\n",
       "    <tr>\n",
       "      <th>4</th>\n",
       "      <td>file_19072</td>\n",
       "      <td>agriculture clear cultivation habitation prima...</td>\n",
       "    </tr>\n",
       "  </tbody>\n",
       "</table>\n",
       "</div>"
      ],
      "text/plain": [
       "   image_name                                               tags\n",
       "0  test_10415                                      clear primary\n",
       "1  test_37142                                      clear primary\n",
       "2   test_7910                                      clear primary\n",
       "3   file_2971                           clear primary road water\n",
       "4  file_19072  agriculture clear cultivation habitation prima..."
      ]
     },
     "execution_count": 55,
     "metadata": {},
     "output_type": "execute_result"
    }
   ],
   "source": [
    "outp = pd.DataFrame({'image_name': fnames, 'tags': res})\n",
    "outp.head()"
   ]
  }
 ],
 "metadata": {
  "kernelspec": {
   "display_name": "Python 3",
   "language": "python",
   "name": "python3"
  },
  "language_info": {
   "codemirror_mode": {
    "name": "ipython",
    "version": 3
   },
   "file_extension": ".py",
   "mimetype": "text/x-python",
   "name": "python",
   "nbconvert_exporter": "python",
   "pygments_lexer": "ipython3",
   "version": "3.6.6"
  }
 },
 "nbformat": 4,
 "nbformat_minor": 2
}
