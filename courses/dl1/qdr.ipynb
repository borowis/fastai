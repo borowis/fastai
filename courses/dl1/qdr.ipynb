{
 "cells": [
  {
   "cell_type": "markdown",
   "metadata": {},
   "source": [
    "\n",
    "# quickdraw-doodle-recognition"
   ]
  },
  {
   "cell_type": "code",
   "execution_count": 1,
   "metadata": {},
   "outputs": [],
   "source": [
    "%reload_ext autoreload\n",
    "%autoreload 2\n",
    "%matplotlib inline"
   ]
  },
  {
   "cell_type": "code",
   "execution_count": 2,
   "metadata": {},
   "outputs": [
    {
     "name": "stderr",
     "output_type": "stream",
     "text": [
      "/home/borowis/.pyenv/versions/3.6.6/lib/python3.6/site-packages/sklearn/ensemble/weight_boosting.py:29: DeprecationWarning: numpy.core.umath_tests is an internal NumPy module and should not be imported. It will be removed in a future NumPy release.\n",
      "  from numpy.core.umath_tests import inner1d\n"
     ]
    }
   ],
   "source": [
    "from fastai.imports import *\n",
    "from fastai.transforms import *\n",
    "from fastai.conv_learner import *\n",
    "from fastai.model import *\n",
    "from fastai.dataset import *\n",
    "from fastai.sgdr import *\n",
    "from fastai.plots import *\n",
    "import dill as pickle"
   ]
  },
  {
   "cell_type": "code",
   "execution_count": 3,
   "metadata": {},
   "outputs": [],
   "source": [
    "PATH = '/home/borowis/qdr/s3'"
   ]
  },
  {
   "cell_type": "code",
   "execution_count": 4,
   "metadata": {},
   "outputs": [
    {
     "name": "stdout",
     "output_type": "stream",
     "text": [
      "cat2idx.pkl  idx2cat.pkl  sample_submission.csv  \u001b[0m\u001b[01;34mtmp\u001b[0m/\r\n",
      "\u001b[01;34mdata\u001b[0m/        \u001b[01;34mmodels\u001b[0m/      \u001b[01;34mtest\u001b[0m/                  \u001b[01;34mtrain\u001b[0m/\r\n"
     ]
    }
   ],
   "source": [
    "ls {PATH}"
   ]
  },
  {
   "cell_type": "code",
   "execution_count": 5,
   "metadata": {},
   "outputs": [],
   "source": [
    "bs = 256\n",
    "BASE_SIZE = 256                  # image size\n",
    "NUM_SAMPLES_PER_CLASS = 10       # set to -1 for all images\n",
    "CHUNK_SIZE = 5000                # csv processing chunk"
   ]
  },
  {
   "cell_type": "markdown",
   "metadata": {},
   "source": [
    "# csv data to images"
   ]
  },
  {
   "cell_type": "code",
   "execution_count": 6,
   "metadata": {},
   "outputs": [],
   "source": [
    "def draw_cv2(raw_strokes, size=256, lw=2, time_color=True):\n",
    "    colors = [(255, 0, 0) , (255, 255, 0),  (128, 255, 0),  (0, 255, 0), (0, 255, 128), (0, 255, 255), \n",
    "              (0, 128, 255), (0, 0, 255), (128, 0, 255), (255, 0, 255)]\n",
    "    img = np.zeros((BASE_SIZE, BASE_SIZE, 3), np.uint8)\n",
    "    for t, stroke in enumerate(raw_strokes):\n",
    "        for i in range(len(stroke[0]) - 1):\n",
    "            color = colors[min(t, len(colors)-1)]\n",
    "            _ = cv2.line(img, (stroke[0][i], stroke[1][i]),\n",
    "                         (stroke[0][i + 1], stroke[1][i + 1]), color, lw, lineType=cv2.LINE_4)\n",
    "    img = img.astype(np.float32)/255\n",
    "    if size != BASE_SIZE:\n",
    "        return cv2.resize(img, (size, size))\n",
    "    else:\n",
    "        return img"
   ]
  },
  {
   "cell_type": "code",
   "execution_count": 7,
   "metadata": {},
   "outputs": [],
   "source": [
    "def save_array(name, array):\n",
    "    os.makedirs(f'{PATH}/data/{name}', exist_ok=True)\n",
    "    barray = bcolz.carray(array, rootdir=f'{PATH}/data/{name}', mode='w')\n",
    "    barray.flush()\n",
    "    return barray\n",
    "    \n",
    "def save_array_from_series(name, series): \n",
    "    os.makedirs(f'{PATH}/data/{name}', exist_ok=True)\n",
    "    barray = bcolz.carray(np.ndarray(shape=(0, BASE_SIZE, BASE_SIZE, 3), dtype=np.float32), expectedlen=len(series), \n",
    "                          rootdir=f'{PATH}/data/{name}', mode='w')\n",
    "    \n",
    "    for start in range(0, len(series), CHUNK_SIZE):\n",
    "        chunk = series[start:start+CHUNK_SIZE].apply(json.loads).apply(draw_cv2).values\n",
    "        barray.append(np.stack(chunk))\n",
    "\n",
    "    barray.flush()\n",
    "    return barray\n",
    "    \n",
    "def load_array(name):\n",
    "    return bcolz.open(rootdir=f'{PATH}/data/{name}')"
   ]
  },
  {
   "cell_type": "code",
   "execution_count": 50,
   "metadata": {},
   "outputs": [],
   "source": [
    "df = pd.read_csv(f'{PATH}/train/airplane.csv')"
   ]
  },
  {
   "cell_type": "code",
   "execution_count": 52,
   "metadata": {},
   "outputs": [
    {
     "data": {
      "text/plain": [
       "151623"
      ]
     },
     "execution_count": 52,
     "metadata": {},
     "output_type": "execute_result"
    }
   ],
   "source": [
    "len(df)"
   ]
  },
  {
   "cell_type": "code",
   "execution_count": null,
   "metadata": {},
   "outputs": [],
   "source": [
    "img = draw_cv2(json.loads(df.iloc[0]['drawing']))\n",
    "#plt.imshow(img)\n",
    "#plt.savefig(f'{PATH}/train/images/{df.iloc[0][\"key_id\"]}.png')\n",
    "cv2.imwrite(f'{PATH}/train/images/{df.iloc[0][\"key_id\"]}.webp', img)"
   ]
  },
  {
   "cell_type": "code",
   "execution_count": null,
   "metadata": {},
   "outputs": [],
   "source": [
    "#plt.imshow(plt.imread(f'{PATH}/train/images/{df.iloc[0][\"key_id\"]}.webp'))\n",
    "plt.imshow(df.iloc[:5]['drawing'].apply(json.loads).apply(draw_cv2)[0])"
   ]
  },
  {
   "cell_type": "code",
   "execution_count": null,
   "metadata": {},
   "outputs": [],
   "source": [
    "categories = [fileName.replace('.csv', '') for fileName in os.listdir(f'{PATH}/train') if ('.csv' in fileName)]\n",
    "categories2idx = {c:idx for idx, c in enumerate(categories)}\n",
    "idx2category = {idx:c for idx, c in enumerate(categories)}"
   ]
  },
  {
   "cell_type": "code",
   "execution_count": 8,
   "metadata": {},
   "outputs": [],
   "source": [
    "#pickle.dump(categories2idx, open(f'{PATH}/cat2idx.pkl', 'wb'))\n",
    "#pickle.dump(idx2category, open(f'{PATH}/idx2cat.pkl', 'wb'))\n",
    "\n",
    "categories2idx = pickle.load(open(f'{PATH}/cat2idx.pkl', 'rb'))\n",
    "idx2category = pickle.load(open(f'{PATH}/idx2cat.pkl', 'rb'))\n",
    "categories = [k for k in categories2idx.keys()]"
   ]
  },
  {
   "cell_type": "code",
   "execution_count": null,
   "metadata": {},
   "outputs": [],
   "source": [
    "os.makedirs(f'{PATH}/data/X_val', exist_ok=True)\n",
    "os.makedirs(f'{PATH}/data/Y_val', exist_ok=True)\n",
    "os.makedirs(f'{PATH}/data/X_train', exist_ok=True)\n",
    "os.makedirs(f'{PATH}/data/Y_train', exist_ok=True)\n",
    "\n",
    "X_val = bcolz.carray(np.ndarray(shape=(0, BASE_SIZE, BASE_SIZE, 3), dtype=np.float32), expectedlen=50000*300, \n",
    "                     rootdir=f'{PATH}/data/X_val', mode='w')\n",
    "X_train = bcolz.carray(np.ndarray(shape=(0, BASE_SIZE, BASE_SIZE, 3), dtype=np.float32), expectedlen=150000*300, \n",
    "                       rootdir=f'{PATH}/data/X_train', mode='w')\n",
    "\n",
    "Y_val = bcolz.carray(np.array([], dtype=np.float32), expectedlen=50000*300, rootdir=f'{PATH}/data/Y_val', mode='w')\n",
    "Y_train = bcolz.carray(np.array([], dtype=np.float32), expectedlen=150000*300, rootdir=f'{PATH}/data/Y_train', mode='w')\n",
    "\n",
    "for category in categories:\n",
    "    df = pd.read_csv(f'{PATH}/train/{category}.csv')\n",
    "    \n",
    "    for start in range(0, len(df), CHUNK_SIZE):\n",
    "        chunk = np.stack(df['drawing'][start:start+CHUNK_SIZE].apply(json.loads).apply(draw_cv2).values)\n",
    "        chunky = np.full(len(chunk), categories2idx[category])\n",
    "        \n",
    "        ((chunk_val, chunk_train), (chunky_val, chunky_train)) = split_by_idx(\n",
    "            get_cv_idxs(len(chunk), seed=None), chunk, chunky)\n",
    "        \n",
    "        X_val.append(chunk_val)\n",
    "        Y_val.append(chunky_val)\n",
    "        \n",
    "        X_train.append(chunk_train)\n",
    "        Y_train.append(chunky_train)\n",
    "        \n",
    "    X_train.flush()\n",
    "    X_val.flush()\n",
    "    \n",
    "    Y_train.flush()\n",
    "    Y_val.flush()"
   ]
  },
  {
   "cell_type": "code",
   "execution_count": 48,
   "metadata": {},
   "outputs": [],
   "source": [
    "#save_array('X_train', X_train)\n",
    "#save_array('X_val', X_val)\n",
    "#save_array('Y_train', Y_train)\n",
    "#save_array('Y_val', Y_val)\n",
    "\n",
    "X_train = load_array('X_train')\n",
    "X_val = load_array('X_val')\n",
    "Y_train = load_array('Y_train')\n",
    "Y_val = load_array('Y_val')"
   ]
  },
  {
   "cell_type": "code",
   "execution_count": 15,
   "metadata": {},
   "outputs": [],
   "source": [
    "df_test = pd.read_csv(f'{PATH}/test/test_simplified.csv')"
   ]
  },
  {
   "cell_type": "code",
   "execution_count": 9,
   "metadata": {},
   "outputs": [],
   "source": [
    "# X_test = save_array_from_series('X_test', df_test['drawing'])\n",
    "X_test = load_array('X_test')"
   ]
  },
  {
   "cell_type": "code",
   "execution_count": 10,
   "metadata": {},
   "outputs": [],
   "source": [
    "# Y_test = save_array('Y_test', df_test['key_id'].astype(str).values)\n",
    "Y_test = load_array('Y_test')"
   ]
  },
  {
   "cell_type": "code",
   "execution_count": null,
   "metadata": {},
   "outputs": [],
   "source": [
    "X_train"
   ]
  },
  {
   "cell_type": "markdown",
   "metadata": {},
   "source": [
    "# multi label"
   ]
  },
  {
   "cell_type": "code",
   "execution_count": null,
   "metadata": {},
   "outputs": [],
   "source": [
    "metrics = [accuracy]\n",
    "f_model = resnet34"
   ]
  },
  {
   "cell_type": "code",
   "execution_count": null,
   "metadata": {},
   "outputs": [],
   "source": [
    "def get_data(sz):\n",
    "    tfms = tfms_from_model(f_model, sz, transforms_basic, max_zoom = 1.1)\n",
    "    return ImageClassifierData.from_arrays(PATH, (X_train, Y_train), (X_val, Y_val), bs=bs, tfms = tfms)"
   ]
  },
  {
   "cell_type": "code",
   "execution_count": null,
   "metadata": {},
   "outputs": [],
   "source": [
    "data = get_data(256)\n",
    "x, y = next(iter(data.val_dl))"
   ]
  },
  {
   "cell_type": "markdown",
   "metadata": {},
   "source": [
    "## size 64"
   ]
  },
  {
   "cell_type": "code",
   "execution_count": null,
   "metadata": {},
   "outputs": [],
   "source": [
    "data = get_data(64)"
   ]
  },
  {
   "cell_type": "code",
   "execution_count": null,
   "metadata": {},
   "outputs": [],
   "source": [
    "learn = ConvLearner.pretrained(f_model, data, metrics = metrics)"
   ]
  },
  {
   "cell_type": "code",
   "execution_count": null,
   "metadata": {},
   "outputs": [],
   "source": [
    "lrf = learn.lr_find()\n",
    "learn.sched.plot()"
   ]
  },
  {
   "cell_type": "code",
   "execution_count": null,
   "metadata": {},
   "outputs": [],
   "source": [
    "lr = 0.2"
   ]
  },
  {
   "cell_type": "code",
   "execution_count": null,
   "metadata": {},
   "outputs": [],
   "source": [
    "learn.fit(lr, 3, cycle_len = 1, cycle_mult = 2)"
   ]
  },
  {
   "cell_type": "code",
   "execution_count": null,
   "metadata": {},
   "outputs": [],
   "source": [
    "lrs = np.array([lr / 9, lr / 3, lr])\n",
    "learn.unfreeze()"
   ]
  },
  {
   "cell_type": "code",
   "execution_count": null,
   "metadata": {},
   "outputs": [],
   "source": [
    "learn.fit(lrs, 3, cycle_len = 1, cycle_mult = 2)"
   ]
  },
  {
   "cell_type": "code",
   "execution_count": null,
   "metadata": {},
   "outputs": [],
   "source": [
    "# learn.save('64')\n",
    "learn.load('64')"
   ]
  },
  {
   "cell_type": "code",
   "execution_count": null,
   "metadata": {},
   "outputs": [],
   "source": [
    "learn.sched.plot_loss()"
   ]
  },
  {
   "cell_type": "markdown",
   "metadata": {},
   "source": [
    "## size 128"
   ]
  },
  {
   "cell_type": "code",
   "execution_count": null,
   "metadata": {},
   "outputs": [],
   "source": [
    "learn.set_data(get_data(128))\n",
    "learn.freeze()\n",
    "learn.fit(lr, 3, cycle_len = 1, cycle_mult = 2)"
   ]
  },
  {
   "cell_type": "code",
   "execution_count": null,
   "metadata": {},
   "outputs": [],
   "source": [
    "learn.unfreeze()\n",
    "learn.fit(lrs, 3, cycle_len = 1, cycle_mult = 2)"
   ]
  },
  {
   "cell_type": "code",
   "execution_count": null,
   "metadata": {},
   "outputs": [],
   "source": [
    "# learn.save('128')\n",
    "learn.load('128')"
   ]
  },
  {
   "cell_type": "code",
   "execution_count": null,
   "metadata": {},
   "outputs": [],
   "source": [
    "learn.sched.plot_loss()"
   ]
  },
  {
   "cell_type": "markdown",
   "metadata": {},
   "source": [
    "## size 256"
   ]
  },
  {
   "cell_type": "code",
   "execution_count": null,
   "metadata": {},
   "outputs": [],
   "source": [
    "learn.set_data(get_data(256))\n",
    "learn.freeze()\n",
    "learn.fit(lr, 3, cycle_len = 1, cycle_mult = 2)"
   ]
  },
  {
   "cell_type": "code",
   "execution_count": null,
   "metadata": {},
   "outputs": [],
   "source": [
    "learn.unfreeze()\n",
    "learn.fit(lrs, 3, cycle_len = 1, cycle_mult = 2)"
   ]
  },
  {
   "cell_type": "code",
   "execution_count": null,
   "metadata": {},
   "outputs": [],
   "source": [
    "# learn.save('256')\n",
    "learn.load('256')"
   ]
  },
  {
   "cell_type": "code",
   "execution_count": null,
   "metadata": {},
   "outputs": [],
   "source": [
    "learn.sched.plot_loss()"
   ]
  },
  {
   "cell_type": "markdown",
   "metadata": {},
   "source": [
    "## end"
   ]
  },
  {
   "cell_type": "code",
   "execution_count": null,
   "metadata": {},
   "outputs": [],
   "source": [
    "log_preds, y = learn.TTA()"
   ]
  },
  {
   "cell_type": "code",
   "execution_count": null,
   "metadata": {},
   "outputs": [],
   "source": [
    "preds = np.mean(log_preds, axis = 0)\n",
    "f2(preds, y)"
   ]
  },
  {
   "cell_type": "markdown",
   "metadata": {},
   "source": [
    "## submission"
   ]
  },
  {
   "cell_type": "code",
   "execution_count": null,
   "metadata": {},
   "outputs": [],
   "source": [
    "val = learn.predict()"
   ]
  },
  {
   "cell_type": "code",
   "execution_count": null,
   "metadata": {},
   "outputs": [],
   "source": [
    "f2(val,data.val_y)"
   ]
  },
  {
   "cell_type": "code",
   "execution_count": null,
   "metadata": {},
   "outputs": [],
   "source": [
    "log_preds = learn.TTA(is_test=True)"
   ]
  },
  {
   "cell_type": "code",
   "execution_count": null,
   "metadata": {},
   "outputs": [],
   "source": [
    "th = opt_th(preds, y); th"
   ]
  },
  {
   "cell_type": "code",
   "execution_count": null,
   "metadata": {},
   "outputs": [],
   "source": [
    "preds = np.mean(log_preds[0], axis=0)\n",
    "cls = np.array(data.classes)\n",
    "res = np.array([\" \".join(cls[(np.where(pp > th))]) for pp in preds])"
   ]
  },
  {
   "cell_type": "code",
   "execution_count": null,
   "metadata": {},
   "outputs": [],
   "source": [
    "fnames = [f[9:-4] for f in data.test_dl.dataset.fnames]"
   ]
  },
  {
   "cell_type": "code",
   "execution_count": null,
   "metadata": {},
   "outputs": [],
   "source": [
    "outp = pd.DataFrame({'image_name': fnames, 'tags': res})\n",
    "outp.head()"
   ]
  }
 ],
 "metadata": {
  "kernelspec": {
   "display_name": "Python 3",
   "language": "python",
   "name": "python3"
  },
  "language_info": {
   "codemirror_mode": {
    "name": "ipython",
    "version": 3
   },
   "file_extension": ".py",
   "mimetype": "text/x-python",
   "name": "python",
   "nbconvert_exporter": "python",
   "pygments_lexer": "ipython3",
   "version": "3.6.6"
  }
 },
 "nbformat": 4,
 "nbformat_minor": 2
}
